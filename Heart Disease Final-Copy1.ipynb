{
 "cells": [
  {
   "cell_type": "markdown",
   "id": "f32cfb43",
   "metadata": {},
   "source": [
    "# Import required Libraries"
   ]
  },
  {
   "cell_type": "code",
   "execution_count": 1,
   "id": "0de6c28d",
   "metadata": {},
   "outputs": [],
   "source": [
    "import numpy as np\n",
    "import pandas as pd\n",
    "import matplotlib.pyplot as plt\n",
    "import seaborn as sns\n",
    "%matplotlib inline\n",
    "import warnings\n",
    "warnings.filterwarnings('ignore')\n",
    "from sklearn.metrics import confusion_matrix\n",
    "from sklearn.metrics import classification_report\n",
    "# sns.set_style(\"whitegrid\")\n",
    "import datetime\n",
    "from sklearn.metrics import precision_score, recall_score, f1_score\n",
    "from sklearn.metrics import roc_curve"
   ]
  },
  {
   "cell_type": "markdown",
   "id": "601dfaa8",
   "metadata": {},
   "source": [
    "# Load Dataset"
   ]
  },
  {
   "cell_type": "code",
   "execution_count": 2,
   "id": "40f71608",
   "metadata": {},
   "outputs": [
    {
     "data": {
      "text/plain": [
       "(319795, 18)"
      ]
     },
     "execution_count": 2,
     "metadata": {},
     "output_type": "execute_result"
    }
   ],
   "source": [
    "heart = pd.read_csv('heart.csv')\n",
    "heart.shape"
   ]
  },
  {
   "cell_type": "code",
   "execution_count": 3,
   "id": "c63fee4b",
   "metadata": {
    "scrolled": true
   },
   "outputs": [
    {
     "data": {
      "text/html": [
       "<div>\n",
       "<style scoped>\n",
       "    .dataframe tbody tr th:only-of-type {\n",
       "        vertical-align: middle;\n",
       "    }\n",
       "\n",
       "    .dataframe tbody tr th {\n",
       "        vertical-align: top;\n",
       "    }\n",
       "\n",
       "    .dataframe thead th {\n",
       "        text-align: right;\n",
       "    }\n",
       "</style>\n",
       "<table border=\"1\" class=\"dataframe\">\n",
       "  <thead>\n",
       "    <tr style=\"text-align: right;\">\n",
       "      <th></th>\n",
       "      <th>HeartDisease</th>\n",
       "      <th>BMI</th>\n",
       "      <th>Smoking</th>\n",
       "      <th>AlcoholDrinking</th>\n",
       "      <th>Stroke</th>\n",
       "      <th>PhysicalHealth</th>\n",
       "      <th>MentalHealth</th>\n",
       "      <th>DiffWalking</th>\n",
       "      <th>Sex</th>\n",
       "      <th>AgeCategory</th>\n",
       "      <th>Race</th>\n",
       "      <th>Diabetic</th>\n",
       "      <th>PhysicalActivity</th>\n",
       "      <th>GenHealth</th>\n",
       "      <th>SleepTime</th>\n",
       "      <th>Asthma</th>\n",
       "      <th>KidneyDisease</th>\n",
       "      <th>SkinCancer</th>\n",
       "    </tr>\n",
       "  </thead>\n",
       "  <tbody>\n",
       "    <tr>\n",
       "      <th>133845</th>\n",
       "      <td>No</td>\n",
       "      <td>24.87</td>\n",
       "      <td>No</td>\n",
       "      <td>No</td>\n",
       "      <td>No</td>\n",
       "      <td>0.0</td>\n",
       "      <td>2.0</td>\n",
       "      <td>No</td>\n",
       "      <td>Female</td>\n",
       "      <td>60-64</td>\n",
       "      <td>White</td>\n",
       "      <td>No</td>\n",
       "      <td>Yes</td>\n",
       "      <td>Very good</td>\n",
       "      <td>6.0</td>\n",
       "      <td>No</td>\n",
       "      <td>No</td>\n",
       "      <td>No</td>\n",
       "    </tr>\n",
       "    <tr>\n",
       "      <th>187731</th>\n",
       "      <td>No</td>\n",
       "      <td>33.84</td>\n",
       "      <td>No</td>\n",
       "      <td>No</td>\n",
       "      <td>No</td>\n",
       "      <td>0.0</td>\n",
       "      <td>7.0</td>\n",
       "      <td>Yes</td>\n",
       "      <td>Female</td>\n",
       "      <td>70-74</td>\n",
       "      <td>White</td>\n",
       "      <td>No</td>\n",
       "      <td>Yes</td>\n",
       "      <td>Good</td>\n",
       "      <td>7.0</td>\n",
       "      <td>No</td>\n",
       "      <td>No</td>\n",
       "      <td>No</td>\n",
       "    </tr>\n",
       "    <tr>\n",
       "      <th>185062</th>\n",
       "      <td>No</td>\n",
       "      <td>29.54</td>\n",
       "      <td>No</td>\n",
       "      <td>No</td>\n",
       "      <td>No</td>\n",
       "      <td>0.0</td>\n",
       "      <td>0.0</td>\n",
       "      <td>No</td>\n",
       "      <td>Male</td>\n",
       "      <td>60-64</td>\n",
       "      <td>White</td>\n",
       "      <td>No</td>\n",
       "      <td>No</td>\n",
       "      <td>Good</td>\n",
       "      <td>9.0</td>\n",
       "      <td>No</td>\n",
       "      <td>No</td>\n",
       "      <td>No</td>\n",
       "    </tr>\n",
       "    <tr>\n",
       "      <th>274342</th>\n",
       "      <td>No</td>\n",
       "      <td>28.89</td>\n",
       "      <td>No</td>\n",
       "      <td>No</td>\n",
       "      <td>No</td>\n",
       "      <td>1.0</td>\n",
       "      <td>0.0</td>\n",
       "      <td>No</td>\n",
       "      <td>Male</td>\n",
       "      <td>70-74</td>\n",
       "      <td>White</td>\n",
       "      <td>No</td>\n",
       "      <td>Yes</td>\n",
       "      <td>Good</td>\n",
       "      <td>7.0</td>\n",
       "      <td>No</td>\n",
       "      <td>Yes</td>\n",
       "      <td>Yes</td>\n",
       "    </tr>\n",
       "    <tr>\n",
       "      <th>256337</th>\n",
       "      <td>No</td>\n",
       "      <td>28.97</td>\n",
       "      <td>No</td>\n",
       "      <td>Yes</td>\n",
       "      <td>No</td>\n",
       "      <td>0.0</td>\n",
       "      <td>0.0</td>\n",
       "      <td>No</td>\n",
       "      <td>Female</td>\n",
       "      <td>25-29</td>\n",
       "      <td>White</td>\n",
       "      <td>No</td>\n",
       "      <td>Yes</td>\n",
       "      <td>Good</td>\n",
       "      <td>9.0</td>\n",
       "      <td>No</td>\n",
       "      <td>No</td>\n",
       "      <td>No</td>\n",
       "    </tr>\n",
       "  </tbody>\n",
       "</table>\n",
       "</div>"
      ],
      "text/plain": [
       "       HeartDisease    BMI Smoking AlcoholDrinking Stroke  PhysicalHealth  \\\n",
       "133845           No  24.87      No              No     No             0.0   \n",
       "187731           No  33.84      No              No     No             0.0   \n",
       "185062           No  29.54      No              No     No             0.0   \n",
       "274342           No  28.89      No              No     No             1.0   \n",
       "256337           No  28.97      No             Yes     No             0.0   \n",
       "\n",
       "        MentalHealth DiffWalking     Sex AgeCategory   Race Diabetic  \\\n",
       "133845           2.0          No  Female       60-64  White       No   \n",
       "187731           7.0         Yes  Female       70-74  White       No   \n",
       "185062           0.0          No    Male       60-64  White       No   \n",
       "274342           0.0          No    Male       70-74  White       No   \n",
       "256337           0.0          No  Female       25-29  White       No   \n",
       "\n",
       "       PhysicalActivity  GenHealth  SleepTime Asthma KidneyDisease SkinCancer  \n",
       "133845              Yes  Very good        6.0     No            No         No  \n",
       "187731              Yes       Good        7.0     No            No         No  \n",
       "185062               No       Good        9.0     No            No         No  \n",
       "274342              Yes       Good        7.0     No           Yes        Yes  \n",
       "256337              Yes       Good        9.0     No            No         No  "
      ]
     },
     "execution_count": 3,
     "metadata": {},
     "output_type": "execute_result"
    }
   ],
   "source": [
    "heart.sample(5)"
   ]
  },
  {
   "cell_type": "raw",
   "id": "6b950913",
   "metadata": {},
   "source": [
    "We have to find that person have Heart Disease or Not. So our target column is Heart Disease."
   ]
  },
  {
   "cell_type": "code",
   "execution_count": 4,
   "id": "f024d9d1",
   "metadata": {},
   "outputs": [
    {
     "data": {
      "text/plain": [
       "No     292422\n",
       "Yes     27373\n",
       "Name: HeartDisease, dtype: int64"
      ]
     },
     "execution_count": 4,
     "metadata": {},
     "output_type": "execute_result"
    }
   ],
   "source": [
    "heart.HeartDisease.value_counts()"
   ]
  },
  {
   "cell_type": "markdown",
   "id": "a2c6644d",
   "metadata": {},
   "source": [
    "# Check information of Dataset"
   ]
  },
  {
   "cell_type": "code",
   "execution_count": 5,
   "id": "05aa624d",
   "metadata": {},
   "outputs": [
    {
     "name": "stdout",
     "output_type": "stream",
     "text": [
      "<class 'pandas.core.frame.DataFrame'>\n",
      "RangeIndex: 319795 entries, 0 to 319794\n",
      "Data columns (total 18 columns):\n",
      " #   Column            Non-Null Count   Dtype  \n",
      "---  ------            --------------   -----  \n",
      " 0   HeartDisease      319795 non-null  object \n",
      " 1   BMI               319795 non-null  float64\n",
      " 2   Smoking           319795 non-null  object \n",
      " 3   AlcoholDrinking   319795 non-null  object \n",
      " 4   Stroke            319795 non-null  object \n",
      " 5   PhysicalHealth    319795 non-null  float64\n",
      " 6   MentalHealth      319795 non-null  float64\n",
      " 7   DiffWalking       319795 non-null  object \n",
      " 8   Sex               319795 non-null  object \n",
      " 9   AgeCategory       319795 non-null  object \n",
      " 10  Race              319795 non-null  object \n",
      " 11  Diabetic          319795 non-null  object \n",
      " 12  PhysicalActivity  319795 non-null  object \n",
      " 13  GenHealth         319795 non-null  object \n",
      " 14  SleepTime         319795 non-null  float64\n",
      " 15  Asthma            319795 non-null  object \n",
      " 16  KidneyDisease     319795 non-null  object \n",
      " 17  SkinCancer        319795 non-null  object \n",
      "dtypes: float64(4), object(14)\n",
      "memory usage: 43.9+ MB\n"
     ]
    }
   ],
   "source": [
    "heart.info()"
   ]
  },
  {
   "cell_type": "code",
   "execution_count": 6,
   "id": "04e969c5",
   "metadata": {},
   "outputs": [
    {
     "data": {
      "text/html": [
       "<div>\n",
       "<style scoped>\n",
       "    .dataframe tbody tr th:only-of-type {\n",
       "        vertical-align: middle;\n",
       "    }\n",
       "\n",
       "    .dataframe tbody tr th {\n",
       "        vertical-align: top;\n",
       "    }\n",
       "\n",
       "    .dataframe thead th {\n",
       "        text-align: right;\n",
       "    }\n",
       "</style>\n",
       "<table border=\"1\" class=\"dataframe\">\n",
       "  <thead>\n",
       "    <tr style=\"text-align: right;\">\n",
       "      <th></th>\n",
       "      <th>BMI</th>\n",
       "      <th>PhysicalHealth</th>\n",
       "      <th>MentalHealth</th>\n",
       "      <th>SleepTime</th>\n",
       "    </tr>\n",
       "  </thead>\n",
       "  <tbody>\n",
       "    <tr>\n",
       "      <th>count</th>\n",
       "      <td>319795.000000</td>\n",
       "      <td>319795.00000</td>\n",
       "      <td>319795.000000</td>\n",
       "      <td>319795.000000</td>\n",
       "    </tr>\n",
       "    <tr>\n",
       "      <th>mean</th>\n",
       "      <td>28.325399</td>\n",
       "      <td>3.37171</td>\n",
       "      <td>3.898366</td>\n",
       "      <td>7.097075</td>\n",
       "    </tr>\n",
       "    <tr>\n",
       "      <th>std</th>\n",
       "      <td>6.356100</td>\n",
       "      <td>7.95085</td>\n",
       "      <td>7.955235</td>\n",
       "      <td>1.436007</td>\n",
       "    </tr>\n",
       "    <tr>\n",
       "      <th>min</th>\n",
       "      <td>12.020000</td>\n",
       "      <td>0.00000</td>\n",
       "      <td>0.000000</td>\n",
       "      <td>1.000000</td>\n",
       "    </tr>\n",
       "    <tr>\n",
       "      <th>25%</th>\n",
       "      <td>24.030000</td>\n",
       "      <td>0.00000</td>\n",
       "      <td>0.000000</td>\n",
       "      <td>6.000000</td>\n",
       "    </tr>\n",
       "    <tr>\n",
       "      <th>50%</th>\n",
       "      <td>27.340000</td>\n",
       "      <td>0.00000</td>\n",
       "      <td>0.000000</td>\n",
       "      <td>7.000000</td>\n",
       "    </tr>\n",
       "    <tr>\n",
       "      <th>75%</th>\n",
       "      <td>31.420000</td>\n",
       "      <td>2.00000</td>\n",
       "      <td>3.000000</td>\n",
       "      <td>8.000000</td>\n",
       "    </tr>\n",
       "    <tr>\n",
       "      <th>max</th>\n",
       "      <td>94.850000</td>\n",
       "      <td>30.00000</td>\n",
       "      <td>30.000000</td>\n",
       "      <td>24.000000</td>\n",
       "    </tr>\n",
       "  </tbody>\n",
       "</table>\n",
       "</div>"
      ],
      "text/plain": [
       "                 BMI  PhysicalHealth   MentalHealth      SleepTime\n",
       "count  319795.000000    319795.00000  319795.000000  319795.000000\n",
       "mean       28.325399         3.37171       3.898366       7.097075\n",
       "std         6.356100         7.95085       7.955235       1.436007\n",
       "min        12.020000         0.00000       0.000000       1.000000\n",
       "25%        24.030000         0.00000       0.000000       6.000000\n",
       "50%        27.340000         0.00000       0.000000       7.000000\n",
       "75%        31.420000         2.00000       3.000000       8.000000\n",
       "max        94.850000        30.00000      30.000000      24.000000"
      ]
     },
     "execution_count": 6,
     "metadata": {},
     "output_type": "execute_result"
    }
   ],
   "source": [
    "heart.describe()"
   ]
  },
  {
   "cell_type": "markdown",
   "id": "ec0b5de2",
   "metadata": {},
   "source": [
    "# Check if missing value is present or not"
   ]
  },
  {
   "cell_type": "code",
   "execution_count": 7,
   "id": "c865e46d",
   "metadata": {},
   "outputs": [
    {
     "data": {
      "text/plain": [
       "HeartDisease        0\n",
       "BMI                 0\n",
       "Smoking             0\n",
       "AlcoholDrinking     0\n",
       "Stroke              0\n",
       "PhysicalHealth      0\n",
       "MentalHealth        0\n",
       "DiffWalking         0\n",
       "Sex                 0\n",
       "AgeCategory         0\n",
       "Race                0\n",
       "Diabetic            0\n",
       "PhysicalActivity    0\n",
       "GenHealth           0\n",
       "SleepTime           0\n",
       "Asthma              0\n",
       "KidneyDisease       0\n",
       "SkinCancer          0\n",
       "dtype: int64"
      ]
     },
     "execution_count": 7,
     "metadata": {},
     "output_type": "execute_result"
    }
   ],
   "source": [
    "heart.isna().sum()"
   ]
  },
  {
   "cell_type": "markdown",
   "id": "5145bbb0",
   "metadata": {},
   "source": [
    "# Check Datatypes"
   ]
  },
  {
   "cell_type": "code",
   "execution_count": 8,
   "id": "42b92709",
   "metadata": {},
   "outputs": [
    {
     "data": {
      "text/plain": [
       "HeartDisease         object\n",
       "BMI                 float64\n",
       "Smoking              object\n",
       "AlcoholDrinking      object\n",
       "Stroke               object\n",
       "PhysicalHealth      float64\n",
       "MentalHealth        float64\n",
       "DiffWalking          object\n",
       "Sex                  object\n",
       "AgeCategory          object\n",
       "Race                 object\n",
       "Diabetic             object\n",
       "PhysicalActivity     object\n",
       "GenHealth            object\n",
       "SleepTime           float64\n",
       "Asthma               object\n",
       "KidneyDisease        object\n",
       "SkinCancer           object\n",
       "dtype: object"
      ]
     },
     "execution_count": 8,
     "metadata": {},
     "output_type": "execute_result"
    }
   ],
   "source": [
    "heart.dtypes"
   ]
  },
  {
   "cell_type": "markdown",
   "id": "5ddad5db",
   "metadata": {},
   "source": [
    "# Dtype Conversion"
   ]
  },
  {
   "cell_type": "code",
   "execution_count": 9,
   "id": "d58f7026",
   "metadata": {},
   "outputs": [],
   "source": [
    "from sklearn.preprocessing import LabelEncoder\n",
    "le = LabelEncoder()"
   ]
  },
  {
   "cell_type": "code",
   "execution_count": 10,
   "id": "126c4799",
   "metadata": {},
   "outputs": [],
   "source": [
    "heart.HeartDisease = le.fit_transform(heart.HeartDisease)\n",
    "heart.Smoking = le.fit_transform(heart.Smoking)\n",
    "heart.AlcoholDrinking = le.fit_transform(heart.AlcoholDrinking)\n",
    "heart.Stroke = le.fit_transform(heart.Stroke)\n",
    "heart.DiffWalking = le.fit_transform(heart.DiffWalking)\n",
    "heart.Sex = le.fit_transform(heart.Sex)\n",
    "heart.AgeCategory = le.fit_transform(heart.AgeCategory)\n",
    "heart.Race = le.fit_transform(heart.Race)\n",
    "heart.Diabetic = le.fit_transform(heart.Diabetic)\n",
    "heart.PhysicalActivity = le.fit_transform(heart.PhysicalActivity)\n",
    "heart.GenHealth = le.fit_transform(heart.GenHealth)\n",
    "heart.Asthma = le.fit_transform(heart.Asthma)\n",
    "heart.KidneyDisease = le.fit_transform(heart.KidneyDisease)\n",
    "heart.SkinCancer = le.fit_transform(heart.SkinCancer)"
   ]
  },
  {
   "cell_type": "code",
   "execution_count": 11,
   "id": "feff6f0d",
   "metadata": {},
   "outputs": [
    {
     "data": {
      "text/plain": [
       "HeartDisease          int32\n",
       "BMI                 float64\n",
       "Smoking               int32\n",
       "AlcoholDrinking       int32\n",
       "Stroke                int32\n",
       "PhysicalHealth      float64\n",
       "MentalHealth        float64\n",
       "DiffWalking           int32\n",
       "Sex                   int32\n",
       "AgeCategory           int32\n",
       "Race                  int32\n",
       "Diabetic              int32\n",
       "PhysicalActivity      int32\n",
       "GenHealth             int32\n",
       "SleepTime           float64\n",
       "Asthma                int32\n",
       "KidneyDisease         int32\n",
       "SkinCancer            int32\n",
       "dtype: object"
      ]
     },
     "execution_count": 11,
     "metadata": {},
     "output_type": "execute_result"
    }
   ],
   "source": [
    "heart.dtypes"
   ]
  },
  {
   "cell_type": "markdown",
   "id": "471201b7",
   "metadata": {},
   "source": [
    "# Check Correlation"
   ]
  },
  {
   "cell_type": "code",
   "execution_count": 12,
   "id": "6e0ae66d",
   "metadata": {},
   "outputs": [
    {
     "data": {
      "text/html": [
       "<div>\n",
       "<style scoped>\n",
       "    .dataframe tbody tr th:only-of-type {\n",
       "        vertical-align: middle;\n",
       "    }\n",
       "\n",
       "    .dataframe tbody tr th {\n",
       "        vertical-align: top;\n",
       "    }\n",
       "\n",
       "    .dataframe thead th {\n",
       "        text-align: right;\n",
       "    }\n",
       "</style>\n",
       "<table border=\"1\" class=\"dataframe\">\n",
       "  <thead>\n",
       "    <tr style=\"text-align: right;\">\n",
       "      <th></th>\n",
       "      <th>HeartDisease</th>\n",
       "      <th>BMI</th>\n",
       "      <th>Smoking</th>\n",
       "      <th>AlcoholDrinking</th>\n",
       "      <th>Stroke</th>\n",
       "      <th>PhysicalHealth</th>\n",
       "      <th>MentalHealth</th>\n",
       "      <th>DiffWalking</th>\n",
       "      <th>Sex</th>\n",
       "      <th>AgeCategory</th>\n",
       "      <th>Race</th>\n",
       "      <th>Diabetic</th>\n",
       "      <th>PhysicalActivity</th>\n",
       "      <th>GenHealth</th>\n",
       "      <th>SleepTime</th>\n",
       "      <th>Asthma</th>\n",
       "      <th>KidneyDisease</th>\n",
       "      <th>SkinCancer</th>\n",
       "    </tr>\n",
       "  </thead>\n",
       "  <tbody>\n",
       "    <tr>\n",
       "      <th>HeartDisease</th>\n",
       "      <td>1.000000</td>\n",
       "      <td>0.051803</td>\n",
       "      <td>0.107764</td>\n",
       "      <td>-0.032080</td>\n",
       "      <td>0.196835</td>\n",
       "      <td>0.170721</td>\n",
       "      <td>0.028591</td>\n",
       "      <td>0.201258</td>\n",
       "      <td>0.070040</td>\n",
       "      <td>0.233432</td>\n",
       "      <td>0.034854</td>\n",
       "      <td>0.168553</td>\n",
       "      <td>-0.100030</td>\n",
       "      <td>-0.011062</td>\n",
       "      <td>0.008327</td>\n",
       "      <td>0.041444</td>\n",
       "      <td>0.145197</td>\n",
       "      <td>0.093317</td>\n",
       "    </tr>\n",
       "    <tr>\n",
       "      <th>BMI</th>\n",
       "      <td>0.051803</td>\n",
       "      <td>1.000000</td>\n",
       "      <td>0.023118</td>\n",
       "      <td>-0.038816</td>\n",
       "      <td>0.019733</td>\n",
       "      <td>0.109788</td>\n",
       "      <td>0.064131</td>\n",
       "      <td>0.181678</td>\n",
       "      <td>0.026940</td>\n",
       "      <td>-0.004744</td>\n",
       "      <td>-0.037424</td>\n",
       "      <td>0.202472</td>\n",
       "      <td>-0.150616</td>\n",
       "      <td>0.035932</td>\n",
       "      <td>-0.051822</td>\n",
       "      <td>0.092345</td>\n",
       "      <td>0.050768</td>\n",
       "      <td>-0.033644</td>\n",
       "    </tr>\n",
       "    <tr>\n",
       "      <th>Smoking</th>\n",
       "      <td>0.107764</td>\n",
       "      <td>0.023118</td>\n",
       "      <td>1.000000</td>\n",
       "      <td>0.111768</td>\n",
       "      <td>0.061226</td>\n",
       "      <td>0.115352</td>\n",
       "      <td>0.085157</td>\n",
       "      <td>0.120074</td>\n",
       "      <td>0.085052</td>\n",
       "      <td>0.128331</td>\n",
       "      <td>0.065499</td>\n",
       "      <td>0.053847</td>\n",
       "      <td>-0.097174</td>\n",
       "      <td>0.020625</td>\n",
       "      <td>-0.030336</td>\n",
       "      <td>0.024149</td>\n",
       "      <td>0.034920</td>\n",
       "      <td>0.033977</td>\n",
       "    </tr>\n",
       "    <tr>\n",
       "      <th>AlcoholDrinking</th>\n",
       "      <td>-0.032080</td>\n",
       "      <td>-0.038816</td>\n",
       "      <td>0.111768</td>\n",
       "      <td>1.000000</td>\n",
       "      <td>-0.019858</td>\n",
       "      <td>-0.017254</td>\n",
       "      <td>0.051282</td>\n",
       "      <td>-0.035328</td>\n",
       "      <td>0.004200</td>\n",
       "      <td>-0.059528</td>\n",
       "      <td>0.036702</td>\n",
       "      <td>-0.057372</td>\n",
       "      <td>0.017487</td>\n",
       "      <td>0.001629</td>\n",
       "      <td>-0.005065</td>\n",
       "      <td>-0.002202</td>\n",
       "      <td>-0.028280</td>\n",
       "      <td>-0.005702</td>\n",
       "    </tr>\n",
       "    <tr>\n",
       "      <th>Stroke</th>\n",
       "      <td>0.196835</td>\n",
       "      <td>0.019733</td>\n",
       "      <td>0.061226</td>\n",
       "      <td>-0.019858</td>\n",
       "      <td>1.000000</td>\n",
       "      <td>0.137014</td>\n",
       "      <td>0.046467</td>\n",
       "      <td>0.174143</td>\n",
       "      <td>-0.003091</td>\n",
       "      <td>0.137822</td>\n",
       "      <td>-0.003956</td>\n",
       "      <td>0.101518</td>\n",
       "      <td>-0.079455</td>\n",
       "      <td>-0.009335</td>\n",
       "      <td>0.011900</td>\n",
       "      <td>0.038866</td>\n",
       "      <td>0.091167</td>\n",
       "      <td>0.048116</td>\n",
       "    </tr>\n",
       "    <tr>\n",
       "      <th>PhysicalHealth</th>\n",
       "      <td>0.170721</td>\n",
       "      <td>0.109788</td>\n",
       "      <td>0.115352</td>\n",
       "      <td>-0.017254</td>\n",
       "      <td>0.137014</td>\n",
       "      <td>1.000000</td>\n",
       "      <td>0.287987</td>\n",
       "      <td>0.428373</td>\n",
       "      <td>-0.040904</td>\n",
       "      <td>0.110763</td>\n",
       "      <td>-0.000847</td>\n",
       "      <td>0.151361</td>\n",
       "      <td>-0.232283</td>\n",
       "      <td>-0.035703</td>\n",
       "      <td>-0.061387</td>\n",
       "      <td>0.117907</td>\n",
       "      <td>0.142197</td>\n",
       "      <td>0.041700</td>\n",
       "    </tr>\n",
       "    <tr>\n",
       "      <th>MentalHealth</th>\n",
       "      <td>0.028591</td>\n",
       "      <td>0.064131</td>\n",
       "      <td>0.085157</td>\n",
       "      <td>0.051282</td>\n",
       "      <td>0.046467</td>\n",
       "      <td>0.287987</td>\n",
       "      <td>1.000000</td>\n",
       "      <td>0.152235</td>\n",
       "      <td>-0.100058</td>\n",
       "      <td>-0.155506</td>\n",
       "      <td>-0.014491</td>\n",
       "      <td>0.032945</td>\n",
       "      <td>-0.095808</td>\n",
       "      <td>-0.004412</td>\n",
       "      <td>-0.119717</td>\n",
       "      <td>0.114008</td>\n",
       "      <td>0.037281</td>\n",
       "      <td>-0.033412</td>\n",
       "    </tr>\n",
       "    <tr>\n",
       "      <th>DiffWalking</th>\n",
       "      <td>0.201258</td>\n",
       "      <td>0.181678</td>\n",
       "      <td>0.120074</td>\n",
       "      <td>-0.035328</td>\n",
       "      <td>0.174143</td>\n",
       "      <td>0.428373</td>\n",
       "      <td>0.152235</td>\n",
       "      <td>1.000000</td>\n",
       "      <td>-0.068860</td>\n",
       "      <td>0.243263</td>\n",
       "      <td>-0.015831</td>\n",
       "      <td>0.205502</td>\n",
       "      <td>-0.278524</td>\n",
       "      <td>-0.043552</td>\n",
       "      <td>-0.022216</td>\n",
       "      <td>0.103222</td>\n",
       "      <td>0.153064</td>\n",
       "      <td>0.064840</td>\n",
       "    </tr>\n",
       "    <tr>\n",
       "      <th>Sex</th>\n",
       "      <td>0.070040</td>\n",
       "      <td>0.026940</td>\n",
       "      <td>0.085052</td>\n",
       "      <td>0.004200</td>\n",
       "      <td>-0.003091</td>\n",
       "      <td>-0.040904</td>\n",
       "      <td>-0.100058</td>\n",
       "      <td>-0.068860</td>\n",
       "      <td>1.000000</td>\n",
       "      <td>-0.067478</td>\n",
       "      <td>0.018855</td>\n",
       "      <td>-0.013456</td>\n",
       "      <td>0.048247</td>\n",
       "      <td>-0.010283</td>\n",
       "      <td>-0.015704</td>\n",
       "      <td>-0.069191</td>\n",
       "      <td>-0.009084</td>\n",
       "      <td>0.013434</td>\n",
       "    </tr>\n",
       "    <tr>\n",
       "      <th>AgeCategory</th>\n",
       "      <td>0.233432</td>\n",
       "      <td>-0.004744</td>\n",
       "      <td>0.128331</td>\n",
       "      <td>-0.059528</td>\n",
       "      <td>0.137822</td>\n",
       "      <td>0.110763</td>\n",
       "      <td>-0.155506</td>\n",
       "      <td>0.243263</td>\n",
       "      <td>-0.067478</td>\n",
       "      <td>1.000000</td>\n",
       "      <td>0.163090</td>\n",
       "      <td>0.193745</td>\n",
       "      <td>-0.121687</td>\n",
       "      <td>0.044427</td>\n",
       "      <td>0.104953</td>\n",
       "      <td>-0.058108</td>\n",
       "      <td>0.123190</td>\n",
       "      <td>0.263537</td>\n",
       "    </tr>\n",
       "    <tr>\n",
       "      <th>Race</th>\n",
       "      <td>0.034854</td>\n",
       "      <td>-0.037424</td>\n",
       "      <td>0.065499</td>\n",
       "      <td>0.036702</td>\n",
       "      <td>-0.003956</td>\n",
       "      <td>-0.000847</td>\n",
       "      <td>-0.014491</td>\n",
       "      <td>-0.015831</td>\n",
       "      <td>0.018855</td>\n",
       "      <td>0.163090</td>\n",
       "      <td>1.000000</td>\n",
       "      <td>-0.052216</td>\n",
       "      <td>0.056767</td>\n",
       "      <td>0.050344</td>\n",
       "      <td>0.035889</td>\n",
       "      <td>-0.017975</td>\n",
       "      <td>0.003709</td>\n",
       "      <td>0.134780</td>\n",
       "    </tr>\n",
       "    <tr>\n",
       "      <th>Diabetic</th>\n",
       "      <td>0.168553</td>\n",
       "      <td>0.202472</td>\n",
       "      <td>0.053847</td>\n",
       "      <td>-0.057372</td>\n",
       "      <td>0.101518</td>\n",
       "      <td>0.151361</td>\n",
       "      <td>0.032945</td>\n",
       "      <td>0.205502</td>\n",
       "      <td>-0.013456</td>\n",
       "      <td>0.193745</td>\n",
       "      <td>-0.052216</td>\n",
       "      <td>1.000000</td>\n",
       "      <td>-0.133824</td>\n",
       "      <td>-0.010854</td>\n",
       "      <td>0.000449</td>\n",
       "      <td>0.049827</td>\n",
       "      <td>0.142917</td>\n",
       "      <td>0.032523</td>\n",
       "    </tr>\n",
       "    <tr>\n",
       "      <th>PhysicalActivity</th>\n",
       "      <td>-0.100030</td>\n",
       "      <td>-0.150616</td>\n",
       "      <td>-0.097174</td>\n",
       "      <td>0.017487</td>\n",
       "      <td>-0.079455</td>\n",
       "      <td>-0.232283</td>\n",
       "      <td>-0.095808</td>\n",
       "      <td>-0.278524</td>\n",
       "      <td>0.048247</td>\n",
       "      <td>-0.121687</td>\n",
       "      <td>0.056767</td>\n",
       "      <td>-0.133824</td>\n",
       "      <td>1.000000</td>\n",
       "      <td>0.024418</td>\n",
       "      <td>0.003849</td>\n",
       "      <td>-0.041526</td>\n",
       "      <td>-0.081827</td>\n",
       "      <td>-0.001328</td>\n",
       "    </tr>\n",
       "    <tr>\n",
       "      <th>GenHealth</th>\n",
       "      <td>-0.011062</td>\n",
       "      <td>0.035932</td>\n",
       "      <td>0.020625</td>\n",
       "      <td>0.001629</td>\n",
       "      <td>-0.009335</td>\n",
       "      <td>-0.035703</td>\n",
       "      <td>-0.004412</td>\n",
       "      <td>-0.043552</td>\n",
       "      <td>-0.010283</td>\n",
       "      <td>0.044427</td>\n",
       "      <td>0.050344</td>\n",
       "      <td>-0.010854</td>\n",
       "      <td>0.024418</td>\n",
       "      <td>1.000000</td>\n",
       "      <td>-0.004163</td>\n",
       "      <td>0.007280</td>\n",
       "      <td>-0.010580</td>\n",
       "      <td>0.018982</td>\n",
       "    </tr>\n",
       "    <tr>\n",
       "      <th>SleepTime</th>\n",
       "      <td>0.008327</td>\n",
       "      <td>-0.051822</td>\n",
       "      <td>-0.030336</td>\n",
       "      <td>-0.005065</td>\n",
       "      <td>0.011900</td>\n",
       "      <td>-0.061387</td>\n",
       "      <td>-0.119717</td>\n",
       "      <td>-0.022216</td>\n",
       "      <td>-0.015704</td>\n",
       "      <td>0.104953</td>\n",
       "      <td>0.035889</td>\n",
       "      <td>0.000449</td>\n",
       "      <td>0.003849</td>\n",
       "      <td>-0.004163</td>\n",
       "      <td>1.000000</td>\n",
       "      <td>-0.048245</td>\n",
       "      <td>0.006238</td>\n",
       "      <td>0.041266</td>\n",
       "    </tr>\n",
       "    <tr>\n",
       "      <th>Asthma</th>\n",
       "      <td>0.041444</td>\n",
       "      <td>0.092345</td>\n",
       "      <td>0.024149</td>\n",
       "      <td>-0.002202</td>\n",
       "      <td>0.038866</td>\n",
       "      <td>0.117907</td>\n",
       "      <td>0.114008</td>\n",
       "      <td>0.103222</td>\n",
       "      <td>-0.069191</td>\n",
       "      <td>-0.058108</td>\n",
       "      <td>-0.017975</td>\n",
       "      <td>0.049827</td>\n",
       "      <td>-0.041526</td>\n",
       "      <td>0.007280</td>\n",
       "      <td>-0.048245</td>\n",
       "      <td>1.000000</td>\n",
       "      <td>0.039707</td>\n",
       "      <td>-0.000396</td>\n",
       "    </tr>\n",
       "    <tr>\n",
       "      <th>KidneyDisease</th>\n",
       "      <td>0.145197</td>\n",
       "      <td>0.050768</td>\n",
       "      <td>0.034920</td>\n",
       "      <td>-0.028280</td>\n",
       "      <td>0.091167</td>\n",
       "      <td>0.142197</td>\n",
       "      <td>0.037281</td>\n",
       "      <td>0.153064</td>\n",
       "      <td>-0.009084</td>\n",
       "      <td>0.123190</td>\n",
       "      <td>0.003709</td>\n",
       "      <td>0.142917</td>\n",
       "      <td>-0.081827</td>\n",
       "      <td>-0.010580</td>\n",
       "      <td>0.006238</td>\n",
       "      <td>0.039707</td>\n",
       "      <td>1.000000</td>\n",
       "      <td>0.061816</td>\n",
       "    </tr>\n",
       "    <tr>\n",
       "      <th>SkinCancer</th>\n",
       "      <td>0.093317</td>\n",
       "      <td>-0.033644</td>\n",
       "      <td>0.033977</td>\n",
       "      <td>-0.005702</td>\n",
       "      <td>0.048116</td>\n",
       "      <td>0.041700</td>\n",
       "      <td>-0.033412</td>\n",
       "      <td>0.064840</td>\n",
       "      <td>0.013434</td>\n",
       "      <td>0.263537</td>\n",
       "      <td>0.134780</td>\n",
       "      <td>0.032523</td>\n",
       "      <td>-0.001328</td>\n",
       "      <td>0.018982</td>\n",
       "      <td>0.041266</td>\n",
       "      <td>-0.000396</td>\n",
       "      <td>0.061816</td>\n",
       "      <td>1.000000</td>\n",
       "    </tr>\n",
       "  </tbody>\n",
       "</table>\n",
       "</div>"
      ],
      "text/plain": [
       "                  HeartDisease       BMI   Smoking  AlcoholDrinking    Stroke  \\\n",
       "HeartDisease          1.000000  0.051803  0.107764        -0.032080  0.196835   \n",
       "BMI                   0.051803  1.000000  0.023118        -0.038816  0.019733   \n",
       "Smoking               0.107764  0.023118  1.000000         0.111768  0.061226   \n",
       "AlcoholDrinking      -0.032080 -0.038816  0.111768         1.000000 -0.019858   \n",
       "Stroke                0.196835  0.019733  0.061226        -0.019858  1.000000   \n",
       "PhysicalHealth        0.170721  0.109788  0.115352        -0.017254  0.137014   \n",
       "MentalHealth          0.028591  0.064131  0.085157         0.051282  0.046467   \n",
       "DiffWalking           0.201258  0.181678  0.120074        -0.035328  0.174143   \n",
       "Sex                   0.070040  0.026940  0.085052         0.004200 -0.003091   \n",
       "AgeCategory           0.233432 -0.004744  0.128331        -0.059528  0.137822   \n",
       "Race                  0.034854 -0.037424  0.065499         0.036702 -0.003956   \n",
       "Diabetic              0.168553  0.202472  0.053847        -0.057372  0.101518   \n",
       "PhysicalActivity     -0.100030 -0.150616 -0.097174         0.017487 -0.079455   \n",
       "GenHealth            -0.011062  0.035932  0.020625         0.001629 -0.009335   \n",
       "SleepTime             0.008327 -0.051822 -0.030336        -0.005065  0.011900   \n",
       "Asthma                0.041444  0.092345  0.024149        -0.002202  0.038866   \n",
       "KidneyDisease         0.145197  0.050768  0.034920        -0.028280  0.091167   \n",
       "SkinCancer            0.093317 -0.033644  0.033977        -0.005702  0.048116   \n",
       "\n",
       "                  PhysicalHealth  MentalHealth  DiffWalking       Sex  \\\n",
       "HeartDisease            0.170721      0.028591     0.201258  0.070040   \n",
       "BMI                     0.109788      0.064131     0.181678  0.026940   \n",
       "Smoking                 0.115352      0.085157     0.120074  0.085052   \n",
       "AlcoholDrinking        -0.017254      0.051282    -0.035328  0.004200   \n",
       "Stroke                  0.137014      0.046467     0.174143 -0.003091   \n",
       "PhysicalHealth          1.000000      0.287987     0.428373 -0.040904   \n",
       "MentalHealth            0.287987      1.000000     0.152235 -0.100058   \n",
       "DiffWalking             0.428373      0.152235     1.000000 -0.068860   \n",
       "Sex                    -0.040904     -0.100058    -0.068860  1.000000   \n",
       "AgeCategory             0.110763     -0.155506     0.243263 -0.067478   \n",
       "Race                   -0.000847     -0.014491    -0.015831  0.018855   \n",
       "Diabetic                0.151361      0.032945     0.205502 -0.013456   \n",
       "PhysicalActivity       -0.232283     -0.095808    -0.278524  0.048247   \n",
       "GenHealth              -0.035703     -0.004412    -0.043552 -0.010283   \n",
       "SleepTime              -0.061387     -0.119717    -0.022216 -0.015704   \n",
       "Asthma                  0.117907      0.114008     0.103222 -0.069191   \n",
       "KidneyDisease           0.142197      0.037281     0.153064 -0.009084   \n",
       "SkinCancer              0.041700     -0.033412     0.064840  0.013434   \n",
       "\n",
       "                  AgeCategory      Race  Diabetic  PhysicalActivity  \\\n",
       "HeartDisease         0.233432  0.034854  0.168553         -0.100030   \n",
       "BMI                 -0.004744 -0.037424  0.202472         -0.150616   \n",
       "Smoking              0.128331  0.065499  0.053847         -0.097174   \n",
       "AlcoholDrinking     -0.059528  0.036702 -0.057372          0.017487   \n",
       "Stroke               0.137822 -0.003956  0.101518         -0.079455   \n",
       "PhysicalHealth       0.110763 -0.000847  0.151361         -0.232283   \n",
       "MentalHealth        -0.155506 -0.014491  0.032945         -0.095808   \n",
       "DiffWalking          0.243263 -0.015831  0.205502         -0.278524   \n",
       "Sex                 -0.067478  0.018855 -0.013456          0.048247   \n",
       "AgeCategory          1.000000  0.163090  0.193745         -0.121687   \n",
       "Race                 0.163090  1.000000 -0.052216          0.056767   \n",
       "Diabetic             0.193745 -0.052216  1.000000         -0.133824   \n",
       "PhysicalActivity    -0.121687  0.056767 -0.133824          1.000000   \n",
       "GenHealth            0.044427  0.050344 -0.010854          0.024418   \n",
       "SleepTime            0.104953  0.035889  0.000449          0.003849   \n",
       "Asthma              -0.058108 -0.017975  0.049827         -0.041526   \n",
       "KidneyDisease        0.123190  0.003709  0.142917         -0.081827   \n",
       "SkinCancer           0.263537  0.134780  0.032523         -0.001328   \n",
       "\n",
       "                  GenHealth  SleepTime    Asthma  KidneyDisease  SkinCancer  \n",
       "HeartDisease      -0.011062   0.008327  0.041444       0.145197    0.093317  \n",
       "BMI                0.035932  -0.051822  0.092345       0.050768   -0.033644  \n",
       "Smoking            0.020625  -0.030336  0.024149       0.034920    0.033977  \n",
       "AlcoholDrinking    0.001629  -0.005065 -0.002202      -0.028280   -0.005702  \n",
       "Stroke            -0.009335   0.011900  0.038866       0.091167    0.048116  \n",
       "PhysicalHealth    -0.035703  -0.061387  0.117907       0.142197    0.041700  \n",
       "MentalHealth      -0.004412  -0.119717  0.114008       0.037281   -0.033412  \n",
       "DiffWalking       -0.043552  -0.022216  0.103222       0.153064    0.064840  \n",
       "Sex               -0.010283  -0.015704 -0.069191      -0.009084    0.013434  \n",
       "AgeCategory        0.044427   0.104953 -0.058108       0.123190    0.263537  \n",
       "Race               0.050344   0.035889 -0.017975       0.003709    0.134780  \n",
       "Diabetic          -0.010854   0.000449  0.049827       0.142917    0.032523  \n",
       "PhysicalActivity   0.024418   0.003849 -0.041526      -0.081827   -0.001328  \n",
       "GenHealth          1.000000  -0.004163  0.007280      -0.010580    0.018982  \n",
       "SleepTime         -0.004163   1.000000 -0.048245       0.006238    0.041266  \n",
       "Asthma             0.007280  -0.048245  1.000000       0.039707   -0.000396  \n",
       "KidneyDisease     -0.010580   0.006238  0.039707       1.000000    0.061816  \n",
       "SkinCancer         0.018982   0.041266 -0.000396       0.061816    1.000000  "
      ]
     },
     "execution_count": 12,
     "metadata": {},
     "output_type": "execute_result"
    }
   ],
   "source": [
    "corr = heart.corr()\n",
    "corr"
   ]
  },
  {
   "cell_type": "code",
   "execution_count": 13,
   "id": "dd2e6d0b",
   "metadata": {},
   "outputs": [
    {
     "data": {
      "image/png": "[encoded data removed]",
      "text/plain": [
       "<Figure size 1080x720 with 2 Axes>"
      ]
     },
     "metadata": {
      "needs_background": "light"
     },
     "output_type": "display_data"
    }
   ],
   "source": [
    "plt.figure(figsize=(15,10))\n",
    "Heatmap=sns.heatmap(corr,linewidth=1,annot=True,cmap=\"hot_r\")\n",
    "plt.title(\"Heatmap for Correlation\")\n",
    "plt.show()"
   ]
  },
  {
   "cell_type": "markdown",
   "id": "4f90bd5f",
   "metadata": {},
   "source": [
    "# Data Visualization"
   ]
  },
  {
   "cell_type": "code",
   "execution_count": 14,
   "id": "b85a8868",
   "metadata": {},
   "outputs": [
    {
     "data": {
      "text/plain": [
       "<AxesSubplot:xlabel='HeartDisease', ylabel='count'>"
      ]
     },
     "execution_count": 14,
     "metadata": {},
     "output_type": "execute_result"
    },
    {
     "data": {
      "image/png": "[encoded data removed]",
      "text/plain": [
       "<Figure size 432x288 with 1 Axes>"
      ]
     },
     "metadata": {
      "needs_background": "light"
     },
     "output_type": "display_data"
    }
   ],
   "source": [
    "sns.countplot(\"HeartDisease\", data = heart, palette=\"hot_r\", edgecolor = \"black\")"
   ]
  },
  {
   "cell_type": "code",
   "execution_count": 15,
   "id": "c166dbe5",
   "metadata": {},
   "outputs": [
    {
     "data": {
      "text/plain": [
       "<AxesSubplot:xlabel='HeartDisease', ylabel='count'>"
      ]
     },
     "execution_count": 15,
     "metadata": {},
     "output_type": "execute_result"
    },
    {
     "data": {
      "image/png": "[encoded data removed]",
      "text/plain": [
       "<Figure size 432x288 with 1 Axes>"
      ]
     },
     "metadata": {
      "needs_background": "light"
     },
     "output_type": "display_data"
    }
   ],
   "source": [
    "sns.countplot(heart.HeartDisease, hue=heart.KidneyDisease,palette=\"hot_r\", edgecolor = \"black\")"
   ]
  },
  {
   "cell_type": "code",
   "execution_count": 16,
   "id": "cb18ebdf",
   "metadata": {},
   "outputs": [
    {
     "data": {
      "text/plain": [
       "<AxesSubplot:xlabel='Diabetic', ylabel='count'>"
      ]
     },
     "execution_count": 16,
     "metadata": {},
     "output_type": "execute_result"
    },
    {
     "data": {
      "image/png": "[encoded data removed]",
      "text/plain": [
       "<Figure size 432x288 with 1 Axes>"
      ]
     },
     "metadata": {
      "needs_background": "light"
     },
     "output_type": "display_data"
    }
   ],
   "source": [
    "sns.countplot(heart.Diabetic, hue=heart.HeartDisease,palette=\"hot_r\", edgecolor = \"black\")"
   ]
  },
  {
   "cell_type": "code",
   "execution_count": 17,
   "id": "b4d09eba",
   "metadata": {},
   "outputs": [
    {
     "data": {
      "text/plain": [
       "<AxesSubplot:xlabel='HeartDisease', ylabel='count'>"
      ]
     },
     "execution_count": 17,
     "metadata": {},
     "output_type": "execute_result"
    },
    {
     "data": {
      "image/png": "[encoded data removed]",
      "text/plain": [
       "<Figure size 432x288 with 1 Axes>"
      ]
     },
     "metadata": {
      "needs_background": "light"
     },
     "output_type": "display_data"
    }
   ],
   "source": [
    "sns.countplot(heart.HeartDisease, hue=heart.Stroke,palette=\"hot_r\", edgecolor = \"black\")"
   ]
  },
  {
   "cell_type": "code",
   "execution_count": 18,
   "id": "6f40fa29",
   "metadata": {},
   "outputs": [
    {
     "data": {
      "text/plain": [
       "<AxesSubplot:xlabel='AgeCategory', ylabel='count'>"
      ]
     },
     "execution_count": 18,
     "metadata": {},
     "output_type": "execute_result"
    },
    {
     "data": {
      "image/png": "[encoded data removed]",
      "text/plain": [
       "<Figure size 432x288 with 1 Axes>"
      ]
     },
     "metadata": {
      "needs_background": "light"
     },
     "output_type": "display_data"
    }
   ],
   "source": [
    "# plt.figure(figsize=(16,9))\n",
    "sns.countplot(heart.AgeCategory, hue=heart.HeartDisease,palette=\"hot_r\", edgecolor = \"black\")"
   ]
  },
  {
   "cell_type": "markdown",
   "id": "477438da",
   "metadata": {},
   "source": [
    "# Check model before EDA"
   ]
  },
  {
   "cell_type": "markdown",
   "id": "6c9aed1c",
   "metadata": {},
   "source": [
    "### Split Data"
   ]
  },
  {
   "cell_type": "code",
   "execution_count": 19,
   "id": "e76d480d",
   "metadata": {},
   "outputs": [
    {
     "data": {
      "text/plain": [
       "((319795, 17), (319795,))"
      ]
     },
     "execution_count": 19,
     "metadata": {},
     "output_type": "execute_result"
    }
   ],
   "source": [
    "X = heart.drop(['HeartDisease'], axis=1)\n",
    "y = heart['HeartDisease']\n",
    "X.shape, y.shape"
   ]
  },
  {
   "cell_type": "markdown",
   "id": "b8bdee60",
   "metadata": {},
   "source": [
    "### Train-Test-Split"
   ]
  },
  {
   "cell_type": "code",
   "execution_count": 20,
   "id": "78de1373",
   "metadata": {},
   "outputs": [
    {
     "data": {
      "text/plain": [
       "((255836, 17), (63959, 17), (255836,), (63959,))"
      ]
     },
     "execution_count": 20,
     "metadata": {},
     "output_type": "execute_result"
    }
   ],
   "source": [
    "from sklearn.model_selection import train_test_split\n",
    "X_train, X_test, y_train, y_test = train_test_split(X,y,test_size=0.2, random_state=101)\n",
    "X_train.shape, X_test.shape, y_train.shape, y_test.shape"
   ]
  },
  {
   "cell_type": "markdown",
   "id": "b5d6e38f",
   "metadata": {},
   "source": [
    "### 1. Logistic Regression "
   ]
  },
  {
   "cell_type": "code",
   "execution_count": 21,
   "id": "1a777f99",
   "metadata": {},
   "outputs": [
    {
     "data": {
      "text/plain": [
       "LogisticRegression()"
      ]
     },
     "execution_count": 21,
     "metadata": {},
     "output_type": "execute_result"
    }
   ],
   "source": [
    "from sklearn.linear_model import LogisticRegression\n",
    "log = LogisticRegression()\n",
    "log.fit(X_train, y_train)"
   ]
  },
  {
   "cell_type": "code",
   "execution_count": 22,
   "id": "d9be5e3d",
   "metadata": {},
   "outputs": [
    {
     "data": {
      "text/plain": [
       "array([0, 0, 0, ..., 0, 0, 0])"
      ]
     },
     "execution_count": 22,
     "metadata": {},
     "output_type": "execute_result"
    }
   ],
   "source": [
    "logy_pred = log.predict(X_test)\n",
    "logy_pred"
   ]
  },
  {
   "cell_type": "code",
   "execution_count": 23,
   "id": "6d32c055",
   "metadata": {},
   "outputs": [
    {
     "data": {
      "text/plain": [
       "91.38041557873012"
      ]
     },
     "execution_count": 23,
     "metadata": {},
     "output_type": "execute_result"
    }
   ],
   "source": [
    "log_accuraccy = log.score(X_test,y_test)*100\n",
    "log_accuraccy"
   ]
  },
  {
   "cell_type": "code",
   "execution_count": 24,
   "id": "8597de4b",
   "metadata": {},
   "outputs": [
    {
     "name": "stdout",
     "output_type": "stream",
     "text": [
      "[[57948   438]\n",
      " [ 5075   498]]\n"
     ]
    }
   ],
   "source": [
    "print(confusion_matrix(y_test,logy_pred))"
   ]
  },
  {
   "cell_type": "code",
   "execution_count": 25,
   "id": "656f683e",
   "metadata": {},
   "outputs": [
    {
     "name": "stdout",
     "output_type": "stream",
     "text": [
      "              precision    recall  f1-score   support\n",
      "\n",
      "           0       0.92      0.99      0.95     58386\n",
      "           1       0.53      0.09      0.15      5573\n",
      "\n",
      "    accuracy                           0.91     63959\n",
      "   macro avg       0.73      0.54      0.55     63959\n",
      "weighted avg       0.89      0.91      0.88     63959\n",
      "\n"
     ]
    }
   ],
   "source": [
    "log_cr = print(classification_report(y_test,logy_pred))\n",
    "log_cr"
   ]
  },
  {
   "cell_type": "code",
   "execution_count": 26,
   "id": "1b748c16",
   "metadata": {},
   "outputs": [],
   "source": [
    "log_precision = precision_score(y_test,logy_pred)\n",
    "log_recall = recall_score(y_test,logy_pred)\n",
    "log_f1score = f1_score(y_test,logy_pred)"
   ]
  },
  {
   "cell_type": "code",
   "execution_count": 27,
   "id": "fb90a56c",
   "metadata": {},
   "outputs": [
    {
     "data": {
      "image/png": "[encoded data removed]",
      "text/plain": [
       "<Figure size 432x288 with 1 Axes>"
      ]
     },
     "metadata": {
      "needs_background": "light"
     },
     "output_type": "display_data"
    }
   ],
   "source": [
    "log_prob=log.predict_proba(X_test)\n",
    "log_df=pd.DataFrame(log_prob)\n",
    "log_fpr,log_tpr,log_threshold=roc_curve(y_test,log_df.iloc[:,1])\n",
    "plt.plot(log_fpr,log_tpr)\n",
    "plt.title('Logistic Regression')\n",
    "plt.xlabel('TPR')\n",
    "plt.ylabel('FPR')\n",
    "plt.show()"
   ]
  },
  {
   "cell_type": "markdown",
   "id": "1cdea598",
   "metadata": {},
   "source": [
    "### 2. Decision Tree"
   ]
  },
  {
   "cell_type": "code",
   "execution_count": 28,
   "id": "ede9a369",
   "metadata": {},
   "outputs": [
    {
     "data": {
      "text/plain": [
       "DecisionTreeClassifier()"
      ]
     },
     "execution_count": 28,
     "metadata": {},
     "output_type": "execute_result"
    }
   ],
   "source": [
    "from sklearn.tree import DecisionTreeClassifier\n",
    "dt = DecisionTreeClassifier()\n",
    "dt.fit(X_train,y_train)"
   ]
  },
  {
   "cell_type": "code",
   "execution_count": 29,
   "id": "3b0a490b",
   "metadata": {},
   "outputs": [
    {
     "data": {
      "text/plain": [
       "array([0, 0, 0, ..., 0, 0, 0])"
      ]
     },
     "execution_count": 29,
     "metadata": {},
     "output_type": "execute_result"
    }
   ],
   "source": [
    "dt_pred = dt.predict(X_test)\n",
    "dt_pred"
   ]
  },
  {
   "cell_type": "code",
   "execution_count": 30,
   "id": "be1f23c2",
   "metadata": {},
   "outputs": [
    {
     "data": {
      "text/plain": [
       "86.41317093763192"
      ]
     },
     "execution_count": 30,
     "metadata": {},
     "output_type": "execute_result"
    }
   ],
   "source": [
    "dt_accuraccy = dt.score(X_test,y_test)*100\n",
    "dt_accuraccy"
   ]
  },
  {
   "cell_type": "code",
   "execution_count": 31,
   "id": "ddf0ff85",
   "metadata": {},
   "outputs": [
    {
     "name": "stdout",
     "output_type": "stream",
     "text": [
      "[[53813  4573]\n",
      " [ 4117  1456]]\n"
     ]
    }
   ],
   "source": [
    "print(confusion_matrix(y_test,dt_pred))"
   ]
  },
  {
   "cell_type": "code",
   "execution_count": 32,
   "id": "63172193",
   "metadata": {},
   "outputs": [
    {
     "name": "stdout",
     "output_type": "stream",
     "text": [
      "              precision    recall  f1-score   support\n",
      "\n",
      "           0       0.93      0.92      0.93     58386\n",
      "           1       0.24      0.26      0.25      5573\n",
      "\n",
      "    accuracy                           0.86     63959\n",
      "   macro avg       0.59      0.59      0.59     63959\n",
      "weighted avg       0.87      0.86      0.87     63959\n",
      "\n"
     ]
    }
   ],
   "source": [
    "dt_cr = print(classification_report(y_test,dt_pred))\n",
    "dt_cr"
   ]
  },
  {
   "cell_type": "code",
   "execution_count": 33,
   "id": "4ecbf830",
   "metadata": {},
   "outputs": [],
   "source": [
    "dt_precision = precision_score(y_test,dt_pred)\n",
    "dt_recall = recall_score(y_test,dt_pred)\n",
    "dt_f1score = f1_score(y_test,dt_pred)"
   ]
  },
  {
   "cell_type": "code",
   "execution_count": 34,
   "id": "773dc4f3",
   "metadata": {},
   "outputs": [
    {
     "data": {
      "image/png": "[encoded data removed]",
      "text/plain": [
       "<Figure size 432x288 with 1 Axes>"
      ]
     },
     "metadata": {
      "needs_background": "light"
     },
     "output_type": "display_data"
    }
   ],
   "source": [
    "dt_prob=dt.predict_proba(X_test)\n",
    "dt_df=pd.DataFrame(dt_prob)\n",
    "dt_fpr,dt_tpr,dt_threshold=roc_curve(y_test,dt_df.iloc[:,1])\n",
    "plt.plot(dt_fpr,dt_tpr)\n",
    "plt.title('Decision Tree')\n",
    "plt.xlabel('TPR')\n",
    "plt.ylabel('FPR')\n",
    "plt.show()"
   ]
  },
  {
   "cell_type": "markdown",
   "id": "caa57322",
   "metadata": {},
   "source": [
    "### 3. Random Forest"
   ]
  },
  {
   "cell_type": "code",
   "execution_count": 35,
   "id": "a8f6a9ca",
   "metadata": {},
   "outputs": [
    {
     "data": {
      "text/plain": [
       "RandomForestClassifier()"
      ]
     },
     "execution_count": 35,
     "metadata": {},
     "output_type": "execute_result"
    }
   ],
   "source": [
    "from sklearn.ensemble import RandomForestClassifier\n",
    "rf = RandomForestClassifier()\n",
    "rf.fit(X_train,y_train)"
   ]
  },
  {
   "cell_type": "code",
   "execution_count": 36,
   "id": "d91a4e10",
   "metadata": {},
   "outputs": [
    {
     "data": {
      "text/plain": [
       "array([0, 0, 0, ..., 0, 0, 0])"
      ]
     },
     "execution_count": 36,
     "metadata": {},
     "output_type": "execute_result"
    }
   ],
   "source": [
    "rf_pred = rf.predict(X_test)\n",
    "rf_pred"
   ]
  },
  {
   "cell_type": "code",
   "execution_count": 37,
   "id": "66568356",
   "metadata": {},
   "outputs": [
    {
     "data": {
      "text/plain": [
       "90.53925170812552"
      ]
     },
     "execution_count": 37,
     "metadata": {},
     "output_type": "execute_result"
    }
   ],
   "source": [
    "rf_accuraccy = rf.score(X_test, y_test)*100\n",
    "rf_accuraccy"
   ]
  },
  {
   "cell_type": "code",
   "execution_count": 38,
   "id": "b9b3555e",
   "metadata": {},
   "outputs": [
    {
     "name": "stdout",
     "output_type": "stream",
     "text": [
      "[[57246  1140]\n",
      " [ 4911   662]]\n"
     ]
    }
   ],
   "source": [
    "print(confusion_matrix(y_test, rf_pred))"
   ]
  },
  {
   "cell_type": "code",
   "execution_count": 39,
   "id": "1ebeea50",
   "metadata": {},
   "outputs": [
    {
     "name": "stdout",
     "output_type": "stream",
     "text": [
      "              precision    recall  f1-score   support\n",
      "\n",
      "           0       0.92      0.98      0.95     58386\n",
      "           1       0.37      0.12      0.18      5573\n",
      "\n",
      "    accuracy                           0.91     63959\n",
      "   macro avg       0.64      0.55      0.56     63959\n",
      "weighted avg       0.87      0.91      0.88     63959\n",
      "\n"
     ]
    }
   ],
   "source": [
    "rf_cr = print(classification_report(y_test,rf_pred))\n",
    "rf_cr"
   ]
  },
  {
   "cell_type": "code",
   "execution_count": 40,
   "id": "6efabdae",
   "metadata": {},
   "outputs": [],
   "source": [
    "rf_precision = precision_score(y_test,rf_pred)\n",
    "rf_recall = recall_score(y_test,rf_pred)\n",
    "rf_f1score = f1_score(y_test,rf_pred)"
   ]
  },
  {
   "cell_type": "code",
   "execution_count": 41,
   "id": "f8d0d03c",
   "metadata": {},
   "outputs": [
    {
     "data": {
      "image/png": "[encoded data removed]",
      "text/plain": [
       "<Figure size 432x288 with 1 Axes>"
      ]
     },
     "metadata": {
      "needs_background": "light"
     },
     "output_type": "display_data"
    }
   ],
   "source": [
    "rf_prob=rf.predict_proba(X_test)\n",
    "rf_df=pd.DataFrame(rf_prob)\n",
    "rf_fpr,rf_tpr,rf_threshold=roc_curve(y_test,rf_df.iloc[:,1])\n",
    "plt.plot(rf_fpr,rf_tpr)\n",
    "plt.title('Random Forest')\n",
    "plt.xlabel('TPR')\n",
    "plt.ylabel('FPR')\n",
    "plt.show()"
   ]
  },
  {
   "cell_type": "markdown",
   "id": "2f147590",
   "metadata": {},
   "source": [
    "### 4. Naive Bayes"
   ]
  },
  {
   "cell_type": "code",
   "execution_count": 42,
   "id": "91d741eb",
   "metadata": {},
   "outputs": [
    {
     "data": {
      "text/plain": [
       "MultinomialNB()"
      ]
     },
     "execution_count": 42,
     "metadata": {},
     "output_type": "execute_result"
    }
   ],
   "source": [
    "from sklearn.naive_bayes import MultinomialNB\n",
    "nb = MultinomialNB()\n",
    "nb.fit(X_train,y_train)"
   ]
  },
  {
   "cell_type": "code",
   "execution_count": 43,
   "id": "f90a81cf",
   "metadata": {},
   "outputs": [
    {
     "data": {
      "text/plain": [
       "array([0, 0, 0, ..., 0, 0, 1])"
      ]
     },
     "execution_count": 43,
     "metadata": {},
     "output_type": "execute_result"
    }
   ],
   "source": [
    "nb_pred = nb.predict(X_test)\n",
    "nb_pred"
   ]
  },
  {
   "cell_type": "code",
   "execution_count": 44,
   "id": "e92f5af8",
   "metadata": {},
   "outputs": [
    {
     "data": {
      "text/plain": [
       "83.84902828374427"
      ]
     },
     "execution_count": 44,
     "metadata": {},
     "output_type": "execute_result"
    }
   ],
   "source": [
    "nb_accuraccy = nb.score(X_test,y_test)*100\n",
    "nb_accuraccy"
   ]
  },
  {
   "cell_type": "code",
   "execution_count": 45,
   "id": "70e08cd9",
   "metadata": {},
   "outputs": [
    {
     "name": "stdout",
     "output_type": "stream",
     "text": [
      "[[51804  6582]\n",
      " [ 3748  1825]]\n"
     ]
    }
   ],
   "source": [
    "print(confusion_matrix(y_test, nb_pred))"
   ]
  },
  {
   "cell_type": "code",
   "execution_count": 46,
   "id": "250c750f",
   "metadata": {},
   "outputs": [
    {
     "name": "stdout",
     "output_type": "stream",
     "text": [
      "              precision    recall  f1-score   support\n",
      "\n",
      "           0       0.93      0.89      0.91     58386\n",
      "           1       0.22      0.33      0.26      5573\n",
      "\n",
      "    accuracy                           0.84     63959\n",
      "   macro avg       0.57      0.61      0.59     63959\n",
      "weighted avg       0.87      0.84      0.85     63959\n",
      "\n"
     ]
    }
   ],
   "source": [
    "nb_cr = print(classification_report(y_test, nb_pred))\n",
    "nb_cr"
   ]
  },
  {
   "cell_type": "code",
   "execution_count": 47,
   "id": "49e098a0",
   "metadata": {},
   "outputs": [],
   "source": [
    "nb_precision = precision_score(y_test, nb_pred)\n",
    "nb_recall = recall_score(y_test, nb_pred)\n",
    "nb_f1score = f1_score(y_test, nb_pred)"
   ]
  },
  {
   "cell_type": "code",
   "execution_count": 48,
   "id": "e18afe86",
   "metadata": {},
   "outputs": [
    {
     "data": {
      "image/png": "[encoded data removed]",
      "text/plain": [
       "<Figure size 432x288 with 1 Axes>"
      ]
     },
     "metadata": {
      "needs_background": "light"
     },
     "output_type": "display_data"
    }
   ],
   "source": [
    "nb_prob=nb.predict_proba(X_test)\n",
    "nb_df=pd.DataFrame(nb_prob)\n",
    "nb_fpr,nb_tpr,nb_threshold=roc_curve(y_test,nb_df.iloc[:,1])\n",
    "plt.plot(nb_fpr,nb_tpr)\n",
    "plt.title('Navie Bayes')\n",
    "plt.xlabel('TPR')\n",
    "plt.ylabel('FPR')\n",
    "plt.show()"
   ]
  },
  {
   "cell_type": "markdown",
   "id": "e3436836",
   "metadata": {},
   "source": [
    "### 5. Ada Boost"
   ]
  },
  {
   "cell_type": "code",
   "execution_count": 49,
   "id": "eff1b107",
   "metadata": {},
   "outputs": [
    {
     "data": {
      "text/plain": [
       "AdaBoostClassifier(base_estimator=DecisionTreeClassifier(), n_estimators=2)"
      ]
     },
     "execution_count": 49,
     "metadata": {},
     "output_type": "execute_result"
    }
   ],
   "source": [
    "from sklearn.ensemble import AdaBoostClassifier\n",
    "from sklearn.tree import DecisionTreeClassifier\n",
    "ada = AdaBoostClassifier(DecisionTreeClassifier(), n_estimators=2)\n",
    "ada.fit(X_train, y_train)"
   ]
  },
  {
   "cell_type": "code",
   "execution_count": 50,
   "id": "39262a2c",
   "metadata": {},
   "outputs": [
    {
     "data": {
      "text/plain": [
       "array([0, 0, 0, ..., 0, 0, 0])"
      ]
     },
     "execution_count": 50,
     "metadata": {},
     "output_type": "execute_result"
    }
   ],
   "source": [
    "ada_pred = ada.predict(X_test)\n",
    "ada_pred"
   ]
  },
  {
   "cell_type": "code",
   "execution_count": 51,
   "id": "a870497a",
   "metadata": {},
   "outputs": [
    {
     "data": {
      "text/plain": [
       "89.11802873715973"
      ]
     },
     "execution_count": 51,
     "metadata": {},
     "output_type": "execute_result"
    }
   ],
   "source": [
    "ada_accuraccy = ada.score(X_test, y_test)*100\n",
    "ada_accuraccy"
   ]
  },
  {
   "cell_type": "code",
   "execution_count": 52,
   "id": "4748af3b",
   "metadata": {},
   "outputs": [
    {
     "name": "stdout",
     "output_type": "stream",
     "text": [
      "[[56136  2250]\n",
      " [ 4710   863]]\n"
     ]
    }
   ],
   "source": [
    "print(confusion_matrix(y_test, ada_pred))"
   ]
  },
  {
   "cell_type": "code",
   "execution_count": 53,
   "id": "9c9222a4",
   "metadata": {},
   "outputs": [
    {
     "name": "stdout",
     "output_type": "stream",
     "text": [
      "              precision    recall  f1-score   support\n",
      "\n",
      "           0       0.92      0.96      0.94     58386\n",
      "           1       0.28      0.15      0.20      5573\n",
      "\n",
      "    accuracy                           0.89     63959\n",
      "   macro avg       0.60      0.56      0.57     63959\n",
      "weighted avg       0.87      0.89      0.88     63959\n",
      "\n"
     ]
    }
   ],
   "source": [
    "ada_cr = print(classification_report(y_test, ada_pred))\n",
    "ada_cr"
   ]
  },
  {
   "cell_type": "code",
   "execution_count": 54,
   "id": "5ecf7a33",
   "metadata": {},
   "outputs": [],
   "source": [
    "ada_precision = precision_score(y_test, ada_pred)\n",
    "ada_recall = recall_score(y_test, ada_pred)\n",
    "ada_f1score = f1_score(y_test, ada_pred)"
   ]
  },
  {
   "cell_type": "code",
   "execution_count": 55,
   "id": "8234572b",
   "metadata": {},
   "outputs": [
    {
     "data": {
      "image/png": "[encoded data removed]",
      "text/plain": [
       "<Figure size 432x288 with 1 Axes>"
      ]
     },
     "metadata": {
      "needs_background": "light"
     },
     "output_type": "display_data"
    }
   ],
   "source": [
    "ada_prob=ada.predict_proba(X_test)\n",
    "ada_df=pd.DataFrame(ada_prob)\n",
    "ada_fpr,ada_tpr,ada_threshold=roc_curve(y_test,ada_df.iloc[:,1])\n",
    "plt.plot(ada_fpr,ada_tpr)\n",
    "plt.title('Ada Boost')\n",
    "plt.xlabel('TPR')\n",
    "plt.ylabel('FPR')\n",
    "plt.show()"
   ]
  },
  {
   "cell_type": "markdown",
   "id": "4bf97bf7",
   "metadata": {},
   "source": [
    "### 6. XG Boost"
   ]
  },
  {
   "cell_type": "code",
   "execution_count": 56,
   "id": "970ddbe3",
   "metadata": {},
   "outputs": [
    {
     "data": {
      "text/plain": [
       "XGBClassifier(base_score=None, booster=None, callbacks=None,\n",
       "              colsample_bylevel=None, colsample_bynode=None,\n",
       "              colsample_bytree=None, early_stopping_rounds=None,\n",
       "              enable_categorical=False, eval_metric=None, feature_types=None,\n",
       "              gamma=None, gpu_id=None, grow_policy=None, importance_type=None,\n",
       "              interaction_constraints=None, learning_rate=None, max_bin=None,\n",
       "              max_cat_threshold=None, max_cat_to_onehot=None,\n",
       "              max_delta_step=None, max_depth=None, max_leaves=None,\n",
       "              min_child_weight=None, missing=nan, monotone_constraints=None,\n",
       "              n_estimators=100, n_jobs=None, num_parallel_tree=None,\n",
       "              predictor=None, random_state=None, ...)"
      ]
     },
     "execution_count": 56,
     "metadata": {},
     "output_type": "execute_result"
    }
   ],
   "source": [
    "import xgboost\n",
    "from xgboost import XGBClassifier\n",
    "xgb=XGBClassifier()\n",
    "xgb.fit(X_train, y_train)"
   ]
  },
  {
   "cell_type": "code",
   "execution_count": 57,
   "id": "ef848254",
   "metadata": {},
   "outputs": [
    {
     "data": {
      "text/plain": [
       "array([0, 0, 0, ..., 0, 0, 0])"
      ]
     },
     "execution_count": 57,
     "metadata": {},
     "output_type": "execute_result"
    }
   ],
   "source": [
    "xgb_pred = xgb.predict(X_test)\n",
    "xgb_pred"
   ]
  },
  {
   "cell_type": "code",
   "execution_count": 58,
   "id": "3a9a205c",
   "metadata": {},
   "outputs": [
    {
     "data": {
      "text/plain": [
       "91.44608264669554"
      ]
     },
     "execution_count": 58,
     "metadata": {},
     "output_type": "execute_result"
    }
   ],
   "source": [
    "xgb_accuraccy = xgb.score(X_test, y_test)*100\n",
    "xgb_accuraccy"
   ]
  },
  {
   "cell_type": "code",
   "execution_count": 59,
   "id": "580d998f",
   "metadata": {},
   "outputs": [
    {
     "name": "stdout",
     "output_type": "stream",
     "text": [
      "[[57963   423]\n",
      " [ 5048   525]]\n"
     ]
    }
   ],
   "source": [
    "print(confusion_matrix(y_test, xgb_pred))"
   ]
  },
  {
   "cell_type": "code",
   "execution_count": 60,
   "id": "6c263851",
   "metadata": {},
   "outputs": [
    {
     "name": "stdout",
     "output_type": "stream",
     "text": [
      "              precision    recall  f1-score   support\n",
      "\n",
      "           0       0.92      0.99      0.95     58386\n",
      "           1       0.55      0.09      0.16      5573\n",
      "\n",
      "    accuracy                           0.91     63959\n",
      "   macro avg       0.74      0.54      0.56     63959\n",
      "weighted avg       0.89      0.91      0.89     63959\n",
      "\n"
     ]
    }
   ],
   "source": [
    "xgb_cr = print(classification_report(y_test, xgb_pred))\n",
    "xgb_cr"
   ]
  },
  {
   "cell_type": "code",
   "execution_count": 61,
   "id": "1b39572c",
   "metadata": {},
   "outputs": [],
   "source": [
    "xgb_precision = precision_score(y_test, xgb_pred)\n",
    "xgb_recall = recall_score(y_test, xgb_pred)\n",
    "xgb_f1score = f1_score(y_test, xgb_pred)"
   ]
  },
  {
   "cell_type": "code",
   "execution_count": 62,
   "id": "51476f07",
   "metadata": {},
   "outputs": [
    {
     "data": {
      "image/png": "[encoded data removed]",
      "text/plain": [
       "<Figure size 432x288 with 1 Axes>"
      ]
     },
     "metadata": {
      "needs_background": "light"
     },
     "output_type": "display_data"
    }
   ],
   "source": [
    "xgb_prob=xgb.predict_proba(X_test)\n",
    "xgb_df=pd.DataFrame(xgb_prob)\n",
    "xgb_fpr,xgb_tpr,xgb_threshold=roc_curve(y_test,xgb_df.iloc[:,1])\n",
    "plt.plot(xgb_fpr,xgb_tpr)\n",
    "plt.title('XG Boost')\n",
    "plt.xlabel('TPR')\n",
    "plt.ylabel('FPR')\n",
    "plt.show()"
   ]
  },
  {
   "cell_type": "markdown",
   "id": "52e961be",
   "metadata": {},
   "source": [
    "### 7. SVM"
   ]
  },
  {
   "cell_type": "code",
   "execution_count": 63,
   "id": "dcbd7b42",
   "metadata": {},
   "outputs": [],
   "source": [
    "# from sklearn.svm import SVC\n",
    "# svms = SVC(probability=True)\n",
    "# svms.fit(X_train, y_train)"
   ]
  },
  {
   "cell_type": "code",
   "execution_count": 64,
   "id": "0aedf29b",
   "metadata": {},
   "outputs": [],
   "source": [
    "# svms_pred = svms.predict(X_test)\n",
    "# svms_pred"
   ]
  },
  {
   "cell_type": "code",
   "execution_count": 65,
   "id": "51ab9e50",
   "metadata": {},
   "outputs": [],
   "source": [
    "# svms_accuraccy = svms.score(X_test, y_test)\n",
    "# svms_accuraccy"
   ]
  },
  {
   "cell_type": "code",
   "execution_count": 66,
   "id": "deb0437c",
   "metadata": {},
   "outputs": [],
   "source": [
    "# svms_accuraccy = svms_accuraccy*100\n",
    "# svms_accuraccy"
   ]
  },
  {
   "cell_type": "code",
   "execution_count": 67,
   "id": "868e9818",
   "metadata": {},
   "outputs": [],
   "source": [
    "# print(confusion_matrix(y_test, svms_pred))"
   ]
  },
  {
   "cell_type": "code",
   "execution_count": 68,
   "id": "7e2a6dcd",
   "metadata": {},
   "outputs": [],
   "source": [
    "# svms_cr = print(classification_report(y_test, svms_pred))\n",
    "# svms_cr"
   ]
  },
  {
   "cell_type": "code",
   "execution_count": 69,
   "id": "08ef47b1",
   "metadata": {},
   "outputs": [],
   "source": [
    "# svms_precision = precision_score(y_test, svms_pred)\n",
    "# svms_recall = recall_score(y_test, svms_pred)\n",
    "# svms_f1score = f1_score(y_test, svms_pred)"
   ]
  },
  {
   "cell_type": "code",
   "execution_count": 70,
   "id": "6aec9919",
   "metadata": {},
   "outputs": [],
   "source": [
    "# svms_prob=svms.predict_proba(X_test)\n",
    "# svms_df=pd.DataFrame(svms_prob)\n",
    "# svms_fpr,svms_tpr,svms_threshold=roc_curve(y_test,svms_df.iloc[:,1])\n",
    "# plt.plot(svms_fpr,svms_tpr)\n",
    "# plt.title('SVM')\n",
    "# plt.xlabel('TPR')\n",
    "# plt.ylabel('FPR')\n",
    "# plt.show()"
   ]
  },
  {
   "cell_type": "markdown",
   "id": "2878b557",
   "metadata": {},
   "source": [
    "### 8. KNN"
   ]
  },
  {
   "cell_type": "code",
   "execution_count": 71,
   "id": "ce1cf60f",
   "metadata": {},
   "outputs": [
    {
     "data": {
      "text/plain": [
       "KNeighborsClassifier()"
      ]
     },
     "execution_count": 71,
     "metadata": {},
     "output_type": "execute_result"
    }
   ],
   "source": [
    "from sklearn.neighbors import KNeighborsClassifier\n",
    "knn = KNeighborsClassifier()\n",
    "knn.fit(X_train, y_train)"
   ]
  },
  {
   "cell_type": "code",
   "execution_count": 72,
   "id": "0edcac20",
   "metadata": {},
   "outputs": [
    {
     "data": {
      "text/plain": [
       "array([0, 0, 0, ..., 0, 0, 0])"
      ]
     },
     "execution_count": 72,
     "metadata": {},
     "output_type": "execute_result"
    }
   ],
   "source": [
    "knn_pred = knn.predict(X_test)\n",
    "knn_pred"
   ]
  },
  {
   "cell_type": "code",
   "execution_count": 73,
   "id": "59dca2d9",
   "metadata": {},
   "outputs": [
    {
     "data": {
      "text/plain": [
       "90.60022827123626"
      ]
     },
     "execution_count": 73,
     "metadata": {},
     "output_type": "execute_result"
    }
   ],
   "source": [
    "knn_accuraccy = knn.score(X_test, y_test)*100\n",
    "knn_accuraccy"
   ]
  },
  {
   "cell_type": "code",
   "execution_count": 74,
   "id": "b91d4adf",
   "metadata": {},
   "outputs": [
    {
     "name": "stdout",
     "output_type": "stream",
     "text": [
      "[[57454   932]\n",
      " [ 5080   493]]\n"
     ]
    }
   ],
   "source": [
    "print(confusion_matrix(y_test, knn_pred))"
   ]
  },
  {
   "cell_type": "code",
   "execution_count": 75,
   "id": "bdc6f9a3",
   "metadata": {},
   "outputs": [
    {
     "name": "stdout",
     "output_type": "stream",
     "text": [
      "              precision    recall  f1-score   support\n",
      "\n",
      "           0       0.92      0.98      0.95     58386\n",
      "           1       0.35      0.09      0.14      5573\n",
      "\n",
      "    accuracy                           0.91     63959\n",
      "   macro avg       0.63      0.54      0.55     63959\n",
      "weighted avg       0.87      0.91      0.88     63959\n",
      "\n"
     ]
    }
   ],
   "source": [
    "knn_cr = print(classification_report(y_test, knn_pred))\n",
    "knn_cr"
   ]
  },
  {
   "cell_type": "code",
   "execution_count": 76,
   "id": "d5552059",
   "metadata": {},
   "outputs": [],
   "source": [
    "knn_precision = precision_score(y_test, knn_pred)\n",
    "knn_recall = recall_score(y_test, knn_pred)\n",
    "knn_f1score = f1_score(y_test, knn_pred)"
   ]
  },
  {
   "cell_type": "code",
   "execution_count": 77,
   "id": "455f1387",
   "metadata": {},
   "outputs": [
    {
     "data": {
      "image/png": "[encoded data removed]",
      "text/plain": [
       "<Figure size 432x288 with 1 Axes>"
      ]
     },
     "metadata": {
      "needs_background": "light"
     },
     "output_type": "display_data"
    }
   ],
   "source": [
    "knn_prob=knn.predict_proba(X_test)\n",
    "knn_df=pd.DataFrame(knn_prob)\n",
    "knn_fpr,knn_tpr,knn_threshold=roc_curve(y_test,knn_df.iloc[:,1])\n",
    "plt.plot(knn_fpr,knn_tpr)\n",
    "plt.title('KNN')\n",
    "plt.xlabel('TPR')\n",
    "plt.ylabel('FPR')\n",
    "plt.show()"
   ]
  },
  {
   "cell_type": "markdown",
   "id": "e7cb841b",
   "metadata": {},
   "source": [
    "# Conclusion"
   ]
  },
  {
   "cell_type": "code",
   "execution_count": 78,
   "id": "9e1a7293",
   "metadata": {},
   "outputs": [
    {
     "data": {
      "text/html": [
       "<div>\n",
       "<style scoped>\n",
       "    .dataframe tbody tr th:only-of-type {\n",
       "        vertical-align: middle;\n",
       "    }\n",
       "\n",
       "    .dataframe tbody tr th {\n",
       "        vertical-align: top;\n",
       "    }\n",
       "\n",
       "    .dataframe thead th {\n",
       "        text-align: right;\n",
       "    }\n",
       "</style>\n",
       "<table border=\"1\" class=\"dataframe\">\n",
       "  <thead>\n",
       "    <tr style=\"text-align: right;\">\n",
       "      <th></th>\n",
       "      <th>Model Name</th>\n",
       "      <th>Accuraccy</th>\n",
       "      <th>Precision</th>\n",
       "      <th>Recall</th>\n",
       "      <th>f1 - Score</th>\n",
       "    </tr>\n",
       "  </thead>\n",
       "  <tbody>\n",
       "    <tr>\n",
       "      <th>0</th>\n",
       "      <td>Logistic Regression</td>\n",
       "      <td>91.380416</td>\n",
       "      <td>0.532051</td>\n",
       "      <td>0.089359</td>\n",
       "      <td>0.153019</td>\n",
       "    </tr>\n",
       "    <tr>\n",
       "      <th>1</th>\n",
       "      <td>Decision Tree</td>\n",
       "      <td>86.413171</td>\n",
       "      <td>0.241499</td>\n",
       "      <td>0.261260</td>\n",
       "      <td>0.250991</td>\n",
       "    </tr>\n",
       "    <tr>\n",
       "      <th>2</th>\n",
       "      <td>Random Forest</td>\n",
       "      <td>90.539252</td>\n",
       "      <td>0.367370</td>\n",
       "      <td>0.118787</td>\n",
       "      <td>0.179525</td>\n",
       "    </tr>\n",
       "    <tr>\n",
       "      <th>3</th>\n",
       "      <td>Naive Bayes</td>\n",
       "      <td>83.849028</td>\n",
       "      <td>0.217081</td>\n",
       "      <td>0.327472</td>\n",
       "      <td>0.261087</td>\n",
       "    </tr>\n",
       "    <tr>\n",
       "      <th>4</th>\n",
       "      <td>Ada Boost</td>\n",
       "      <td>89.118029</td>\n",
       "      <td>0.277225</td>\n",
       "      <td>0.154854</td>\n",
       "      <td>0.198711</td>\n",
       "    </tr>\n",
       "    <tr>\n",
       "      <th>5</th>\n",
       "      <td>XG Boost</td>\n",
       "      <td>91.446083</td>\n",
       "      <td>0.553797</td>\n",
       "      <td>0.094204</td>\n",
       "      <td>0.161018</td>\n",
       "    </tr>\n",
       "    <tr>\n",
       "      <th>6</th>\n",
       "      <td>KNN</td>\n",
       "      <td>90.600228</td>\n",
       "      <td>0.345965</td>\n",
       "      <td>0.088462</td>\n",
       "      <td>0.140897</td>\n",
       "    </tr>\n",
       "  </tbody>\n",
       "</table>\n",
       "</div>"
      ],
      "text/plain": [
       "            Model Name  Accuraccy  Precision    Recall  f1 - Score\n",
       "0  Logistic Regression  91.380416   0.532051  0.089359    0.153019\n",
       "1        Decision Tree  86.413171   0.241499  0.261260    0.250991\n",
       "2        Random Forest  90.539252   0.367370  0.118787    0.179525\n",
       "3          Naive Bayes  83.849028   0.217081  0.327472    0.261087\n",
       "4            Ada Boost  89.118029   0.277225  0.154854    0.198711\n",
       "5             XG Boost  91.446083   0.553797  0.094204    0.161018\n",
       "6                  KNN  90.600228   0.345965  0.088462    0.140897"
      ]
     },
     "execution_count": 78,
     "metadata": {},
     "output_type": "execute_result"
    }
   ],
   "source": [
    "lst_1 = ['Logistic Regression','Decision Tree','Random Forest','Naive Bayes','Ada Boost','XG Boost','KNN'] #'SVM',\n",
    "lst_2 = [log_accuraccy, dt_accuraccy,rf_accuraccy, nb_accuraccy, ada_accuraccy, xgb_accuraccy, knn_accuraccy] #svms_accuraccy,\n",
    "lst_precision = [log_precision, dt_precision, rf_precision, nb_precision, ada_precision, xgb_precision, knn_precision] #svms_precision, \n",
    "lst_recall = [log_recall, dt_recall, rf_recall, nb_recall, ada_recall, xgb_recall, knn_recall] #svms_recall, \n",
    "lst_f1score = [log_f1score, dt_f1score, rf_f1score, nb_f1score, ada_f1score, xgb_f1score, knn_f1score] #svms_f1score, \n",
    "df = pd.DataFrame({'Model Name':lst_1, 'Accuraccy':lst_2, 'Precision' : lst_precision, 'Recall'  : lst_recall, 'f1 - Score' : lst_f1score})\n",
    "df"
   ]
  },
  {
   "cell_type": "raw",
   "id": "fc07fa97",
   "metadata": {},
   "source": [
    "If we concider accuracy then \"XG Boost\"(91.44%) is the best fitted Model.\n",
    "The classification report is precision(0:0.92; 1:0.55) Recall (0:0.99; 1:0.09) and f1-score (0:0.95; 1:0.16) not good at all so we have to try class imbalance treatment and eda to get best fitted model."
   ]
  },
  {
   "cell_type": "markdown",
   "id": "f91bb566",
   "metadata": {},
   "source": [
    "# Class Imbalance Treatment Using SMOTE"
   ]
  },
  {
   "cell_type": "code",
   "execution_count": 79,
   "id": "362c0aa9",
   "metadata": {},
   "outputs": [],
   "source": [
    "from imblearn.over_sampling import SMOTE"
   ]
  },
  {
   "cell_type": "code",
   "execution_count": 80,
   "id": "79a2e645",
   "metadata": {},
   "outputs": [],
   "source": [
    "s=SMOTE()"
   ]
  },
  {
   "cell_type": "code",
   "execution_count": 81,
   "id": "1eaccbfe",
   "metadata": {},
   "outputs": [],
   "source": [
    "x_s,y_s=s.fit_resample(X,y)"
   ]
  },
  {
   "cell_type": "code",
   "execution_count": 82,
   "id": "5eba78d1",
   "metadata": {},
   "outputs": [
    {
     "data": {
      "text/plain": [
       "((584844, 17), (584844,))"
      ]
     },
     "execution_count": 82,
     "metadata": {},
     "output_type": "execute_result"
    }
   ],
   "source": [
    "x_s.shape,y_s.shape"
   ]
  },
  {
   "cell_type": "code",
   "execution_count": 83,
   "id": "f69a2363",
   "metadata": {},
   "outputs": [
    {
     "data": {
      "text/html": [
       "<div>\n",
       "<style scoped>\n",
       "    .dataframe tbody tr th:only-of-type {\n",
       "        vertical-align: middle;\n",
       "    }\n",
       "\n",
       "    .dataframe tbody tr th {\n",
       "        vertical-align: top;\n",
       "    }\n",
       "\n",
       "    .dataframe thead th {\n",
       "        text-align: right;\n",
       "    }\n",
       "</style>\n",
       "<table border=\"1\" class=\"dataframe\">\n",
       "  <thead>\n",
       "    <tr style=\"text-align: right;\">\n",
       "      <th></th>\n",
       "      <th>BMI</th>\n",
       "      <th>Smoking</th>\n",
       "      <th>AlcoholDrinking</th>\n",
       "      <th>Stroke</th>\n",
       "      <th>PhysicalHealth</th>\n",
       "      <th>MentalHealth</th>\n",
       "      <th>DiffWalking</th>\n",
       "      <th>Sex</th>\n",
       "      <th>AgeCategory</th>\n",
       "      <th>Race</th>\n",
       "      <th>Diabetic</th>\n",
       "      <th>PhysicalActivity</th>\n",
       "      <th>GenHealth</th>\n",
       "      <th>SleepTime</th>\n",
       "      <th>Asthma</th>\n",
       "      <th>KidneyDisease</th>\n",
       "      <th>SkinCancer</th>\n",
       "    </tr>\n",
       "  </thead>\n",
       "  <tbody>\n",
       "    <tr>\n",
       "      <th>0</th>\n",
       "      <td>16.60</td>\n",
       "      <td>1</td>\n",
       "      <td>0</td>\n",
       "      <td>0</td>\n",
       "      <td>3.0</td>\n",
       "      <td>30.0</td>\n",
       "      <td>0</td>\n",
       "      <td>0</td>\n",
       "      <td>7</td>\n",
       "      <td>5</td>\n",
       "      <td>2</td>\n",
       "      <td>1</td>\n",
       "      <td>4</td>\n",
       "      <td>5.0</td>\n",
       "      <td>1</td>\n",
       "      <td>0</td>\n",
       "      <td>1</td>\n",
       "    </tr>\n",
       "    <tr>\n",
       "      <th>1</th>\n",
       "      <td>20.34</td>\n",
       "      <td>0</td>\n",
       "      <td>0</td>\n",
       "      <td>1</td>\n",
       "      <td>0.0</td>\n",
       "      <td>0.0</td>\n",
       "      <td>0</td>\n",
       "      <td>0</td>\n",
       "      <td>12</td>\n",
       "      <td>5</td>\n",
       "      <td>0</td>\n",
       "      <td>1</td>\n",
       "      <td>4</td>\n",
       "      <td>7.0</td>\n",
       "      <td>0</td>\n",
       "      <td>0</td>\n",
       "      <td>0</td>\n",
       "    </tr>\n",
       "    <tr>\n",
       "      <th>2</th>\n",
       "      <td>26.58</td>\n",
       "      <td>1</td>\n",
       "      <td>0</td>\n",
       "      <td>0</td>\n",
       "      <td>20.0</td>\n",
       "      <td>30.0</td>\n",
       "      <td>0</td>\n",
       "      <td>1</td>\n",
       "      <td>9</td>\n",
       "      <td>5</td>\n",
       "      <td>2</td>\n",
       "      <td>1</td>\n",
       "      <td>1</td>\n",
       "      <td>8.0</td>\n",
       "      <td>1</td>\n",
       "      <td>0</td>\n",
       "      <td>0</td>\n",
       "    </tr>\n",
       "    <tr>\n",
       "      <th>3</th>\n",
       "      <td>24.21</td>\n",
       "      <td>0</td>\n",
       "      <td>0</td>\n",
       "      <td>0</td>\n",
       "      <td>0.0</td>\n",
       "      <td>0.0</td>\n",
       "      <td>0</td>\n",
       "      <td>0</td>\n",
       "      <td>11</td>\n",
       "      <td>5</td>\n",
       "      <td>0</td>\n",
       "      <td>0</td>\n",
       "      <td>2</td>\n",
       "      <td>6.0</td>\n",
       "      <td>0</td>\n",
       "      <td>0</td>\n",
       "      <td>1</td>\n",
       "    </tr>\n",
       "    <tr>\n",
       "      <th>4</th>\n",
       "      <td>23.71</td>\n",
       "      <td>0</td>\n",
       "      <td>0</td>\n",
       "      <td>0</td>\n",
       "      <td>28.0</td>\n",
       "      <td>0.0</td>\n",
       "      <td>1</td>\n",
       "      <td>0</td>\n",
       "      <td>4</td>\n",
       "      <td>5</td>\n",
       "      <td>0</td>\n",
       "      <td>1</td>\n",
       "      <td>4</td>\n",
       "      <td>8.0</td>\n",
       "      <td>0</td>\n",
       "      <td>0</td>\n",
       "      <td>0</td>\n",
       "    </tr>\n",
       "  </tbody>\n",
       "</table>\n",
       "</div>"
      ],
      "text/plain": [
       "     BMI  Smoking  AlcoholDrinking  Stroke  PhysicalHealth  MentalHealth  \\\n",
       "0  16.60        1                0       0             3.0          30.0   \n",
       "1  20.34        0                0       1             0.0           0.0   \n",
       "2  26.58        1                0       0            20.0          30.0   \n",
       "3  24.21        0                0       0             0.0           0.0   \n",
       "4  23.71        0                0       0            28.0           0.0   \n",
       "\n",
       "   DiffWalking  Sex  AgeCategory  Race  Diabetic  PhysicalActivity  GenHealth  \\\n",
       "0            0    0            7     5         2                 1          4   \n",
       "1            0    0           12     5         0                 1          4   \n",
       "2            0    1            9     5         2                 1          1   \n",
       "3            0    0           11     5         0                 0          2   \n",
       "4            1    0            4     5         0                 1          4   \n",
       "\n",
       "   SleepTime  Asthma  KidneyDisease  SkinCancer  \n",
       "0        5.0       1              0           1  \n",
       "1        7.0       0              0           0  \n",
       "2        8.0       1              0           0  \n",
       "3        6.0       0              0           1  \n",
       "4        8.0       0              0           0  "
      ]
     },
     "execution_count": 83,
     "metadata": {},
     "output_type": "execute_result"
    }
   ],
   "source": [
    "x_s.head()"
   ]
  },
  {
   "cell_type": "code",
   "execution_count": 84,
   "id": "7d970ef1",
   "metadata": {},
   "outputs": [
    {
     "data": {
      "text/plain": [
       "0    0\n",
       "1    0\n",
       "2    0\n",
       "3    0\n",
       "4    0\n",
       "Name: HeartDisease, dtype: int32"
      ]
     },
     "execution_count": 84,
     "metadata": {},
     "output_type": "execute_result"
    }
   ],
   "source": [
    "y_s.head()"
   ]
  },
  {
   "cell_type": "code",
   "execution_count": 85,
   "id": "d63a6d8c",
   "metadata": {},
   "outputs": [
    {
     "data": {
      "text/plain": [
       "((467875, 17), (116969, 17), (467875,), (116969,))"
      ]
     },
     "execution_count": 85,
     "metadata": {},
     "output_type": "execute_result"
    }
   ],
   "source": [
    "x3_tr,x3_te,y3_tr,y3_te=train_test_split(x_s,y_s,test_size=.2,random_state=50)\n",
    "x3_tr.shape,x3_te.shape,y3_tr.shape,y3_te.shape"
   ]
  },
  {
   "cell_type": "code",
   "execution_count": 86,
   "id": "e3986667",
   "metadata": {},
   "outputs": [],
   "source": [
    "y_s = pd.DataFrame(y_s)"
   ]
  },
  {
   "cell_type": "code",
   "execution_count": 87,
   "id": "41352b2c",
   "metadata": {},
   "outputs": [
    {
     "data": {
      "text/html": [
       "<div>\n",
       "<style scoped>\n",
       "    .dataframe tbody tr th:only-of-type {\n",
       "        vertical-align: middle;\n",
       "    }\n",
       "\n",
       "    .dataframe tbody tr th {\n",
       "        vertical-align: top;\n",
       "    }\n",
       "\n",
       "    .dataframe thead th {\n",
       "        text-align: right;\n",
       "    }\n",
       "</style>\n",
       "<table border=\"1\" class=\"dataframe\">\n",
       "  <thead>\n",
       "    <tr style=\"text-align: right;\">\n",
       "      <th></th>\n",
       "      <th>HeartDisease</th>\n",
       "    </tr>\n",
       "  </thead>\n",
       "  <tbody>\n",
       "    <tr>\n",
       "      <th>0</th>\n",
       "      <td>0</td>\n",
       "    </tr>\n",
       "    <tr>\n",
       "      <th>1</th>\n",
       "      <td>0</td>\n",
       "    </tr>\n",
       "    <tr>\n",
       "      <th>2</th>\n",
       "      <td>0</td>\n",
       "    </tr>\n",
       "    <tr>\n",
       "      <th>3</th>\n",
       "      <td>0</td>\n",
       "    </tr>\n",
       "    <tr>\n",
       "      <th>4</th>\n",
       "      <td>0</td>\n",
       "    </tr>\n",
       "    <tr>\n",
       "      <th>...</th>\n",
       "      <td>...</td>\n",
       "    </tr>\n",
       "    <tr>\n",
       "      <th>584839</th>\n",
       "      <td>1</td>\n",
       "    </tr>\n",
       "    <tr>\n",
       "      <th>584840</th>\n",
       "      <td>1</td>\n",
       "    </tr>\n",
       "    <tr>\n",
       "      <th>584841</th>\n",
       "      <td>1</td>\n",
       "    </tr>\n",
       "    <tr>\n",
       "      <th>584842</th>\n",
       "      <td>1</td>\n",
       "    </tr>\n",
       "    <tr>\n",
       "      <th>584843</th>\n",
       "      <td>1</td>\n",
       "    </tr>\n",
       "  </tbody>\n",
       "</table>\n",
       "<p>584844 rows × 1 columns</p>\n",
       "</div>"
      ],
      "text/plain": [
       "        HeartDisease\n",
       "0                  0\n",
       "1                  0\n",
       "2                  0\n",
       "3                  0\n",
       "4                  0\n",
       "...              ...\n",
       "584839             1\n",
       "584840             1\n",
       "584841             1\n",
       "584842             1\n",
       "584843             1\n",
       "\n",
       "[584844 rows x 1 columns]"
      ]
     },
     "execution_count": 87,
     "metadata": {},
     "output_type": "execute_result"
    }
   ],
   "source": [
    "y_s"
   ]
  },
  {
   "cell_type": "code",
   "execution_count": 88,
   "id": "85b4158e",
   "metadata": {},
   "outputs": [
    {
     "data": {
      "text/plain": [
       "(584844, 18)"
      ]
     },
     "execution_count": 88,
     "metadata": {},
     "output_type": "execute_result"
    }
   ],
   "source": [
    "heart_class = pd.concat([x_s, y_s], axis=1)\n",
    "heart_class.shape"
   ]
  },
  {
   "cell_type": "markdown",
   "id": "3c52e08e",
   "metadata": {},
   "source": [
    "# EDA"
   ]
  },
  {
   "cell_type": "code",
   "execution_count": 89,
   "id": "ff10fc4f",
   "metadata": {},
   "outputs": [
    {
     "data": {
      "image/png": "[encoded data removed]",
      "text/plain": [
       "<Figure size 1440x720 with 1 Axes>"
      ]
     },
     "metadata": {
      "needs_background": "light"
     },
     "output_type": "display_data"
    }
   ],
   "source": [
    "plt.figure(figsize=(20,10))\n",
    "sns.boxplot(data=heart_class)\n",
    "plt.xticks(rotation = 70)\n",
    "plt.show()"
   ]
  },
  {
   "cell_type": "markdown",
   "id": "0634d842",
   "metadata": {},
   "source": [
    "### For BMI"
   ]
  },
  {
   "cell_type": "code",
   "execution_count": 90,
   "id": "8b461741",
   "metadata": {},
   "outputs": [
    {
     "data": {
      "text/plain": [
       "count    584844.000000\n",
       "mean         28.810632\n",
       "std           6.440440\n",
       "min          12.020000\n",
       "25%          24.406447\n",
       "50%          27.750000\n",
       "75%          32.020000\n",
       "max          94.850000\n",
       "Name: BMI, dtype: float64"
      ]
     },
     "execution_count": 90,
     "metadata": {},
     "output_type": "execute_result"
    }
   ],
   "source": [
    "heart_class.BMI.describe()"
   ]
  },
  {
   "cell_type": "code",
   "execution_count": 91,
   "id": "a5f16b23",
   "metadata": {},
   "outputs": [
    {
     "data": {
      "text/plain": [
       "26.630000    4037\n",
       "27.460000    2923\n",
       "24.410000    2868\n",
       "27.440000    2854\n",
       "27.120000    2736\n",
       "             ... \n",
       "23.912605       1\n",
       "25.811072       1\n",
       "37.297752       1\n",
       "28.666914       1\n",
       "22.217511       1\n",
       "Name: BMI, Length: 260139, dtype: int64"
      ]
     },
     "execution_count": 91,
     "metadata": {},
     "output_type": "execute_result"
    }
   ],
   "source": [
    "heart_class.BMI.value_counts()"
   ]
  },
  {
   "cell_type": "code",
   "execution_count": 92,
   "id": "2dff0156",
   "metadata": {},
   "outputs": [
    {
     "data": {
      "text/plain": [
       "<AxesSubplot:xlabel='BMI', ylabel='Density'>"
      ]
     },
     "execution_count": 92,
     "metadata": {},
     "output_type": "execute_result"
    },
    {
     "data": {
      "image/png": "[encoded data removed]",
      "text/plain": [
       "<Figure size 432x288 with 1 Axes>"
      ]
     },
     "metadata": {
      "needs_background": "light"
     },
     "output_type": "display_data"
    }
   ],
   "source": [
    "sns.distplot(heart_class.BMI)"
   ]
  },
  {
   "cell_type": "code",
   "execution_count": 93,
   "id": "a8124356",
   "metadata": {},
   "outputs": [
    {
     "data": {
      "text/plain": [
       "<AxesSubplot:ylabel='BMI'>"
      ]
     },
     "execution_count": 93,
     "metadata": {},
     "output_type": "execute_result"
    },
    {
     "data": {
      "image/png": "[encoded data removed]",
      "text/plain": [
       "<Figure size 432x288 with 1 Axes>"
      ]
     },
     "metadata": {
      "needs_background": "light"
     },
     "output_type": "display_data"
    }
   ],
   "source": [
    "sns.boxplot(y = heart_class.BMI, data = heart_class)"
   ]
  },
  {
   "cell_type": "code",
   "execution_count": 94,
   "id": "97f49331",
   "metadata": {},
   "outputs": [
    {
     "data": {
      "text/plain": [
       "<AxesSubplot:>"
      ]
     },
     "execution_count": 94,
     "metadata": {},
     "output_type": "execute_result"
    },
    {
     "data": {
      "image/png": "[encoded data removed]",
      "text/plain": [
       "<Figure size 432x288 with 1 Axes>"
      ]
     },
     "metadata": {
      "needs_background": "light"
     },
     "output_type": "display_data"
    }
   ],
   "source": [
    "heart_class.BMI.hist()"
   ]
  },
  {
   "cell_type": "code",
   "execution_count": 95,
   "id": "0ee1cfd2",
   "metadata": {},
   "outputs": [
    {
     "data": {
      "text/html": [
       "<div>\n",
       "<style scoped>\n",
       "    .dataframe tbody tr th:only-of-type {\n",
       "        vertical-align: middle;\n",
       "    }\n",
       "\n",
       "    .dataframe tbody tr th {\n",
       "        vertical-align: top;\n",
       "    }\n",
       "\n",
       "    .dataframe thead th {\n",
       "        text-align: right;\n",
       "    }\n",
       "</style>\n",
       "<table border=\"1\" class=\"dataframe\">\n",
       "  <thead>\n",
       "    <tr style=\"text-align: right;\">\n",
       "      <th></th>\n",
       "      <th>BMI</th>\n",
       "      <th>Smoking</th>\n",
       "      <th>AlcoholDrinking</th>\n",
       "      <th>Stroke</th>\n",
       "      <th>PhysicalHealth</th>\n",
       "      <th>MentalHealth</th>\n",
       "      <th>DiffWalking</th>\n",
       "      <th>Sex</th>\n",
       "      <th>AgeCategory</th>\n",
       "      <th>Race</th>\n",
       "      <th>Diabetic</th>\n",
       "      <th>PhysicalActivity</th>\n",
       "      <th>GenHealth</th>\n",
       "      <th>SleepTime</th>\n",
       "      <th>Asthma</th>\n",
       "      <th>KidneyDisease</th>\n",
       "      <th>SkinCancer</th>\n",
       "      <th>HeartDisease</th>\n",
       "    </tr>\n",
       "  </thead>\n",
       "  <tbody>\n",
       "    <tr>\n",
       "      <th>105</th>\n",
       "      <td>58.540000</td>\n",
       "      <td>0</td>\n",
       "      <td>0</td>\n",
       "      <td>0</td>\n",
       "      <td>30.000000</td>\n",
       "      <td>0.000000</td>\n",
       "      <td>1</td>\n",
       "      <td>1</td>\n",
       "      <td>9</td>\n",
       "      <td>4</td>\n",
       "      <td>1</td>\n",
       "      <td>1</td>\n",
       "      <td>3</td>\n",
       "      <td>3.000000</td>\n",
       "      <td>1</td>\n",
       "      <td>0</td>\n",
       "      <td>0</td>\n",
       "      <td>0</td>\n",
       "    </tr>\n",
       "    <tr>\n",
       "      <th>504</th>\n",
       "      <td>54.870000</td>\n",
       "      <td>0</td>\n",
       "      <td>0</td>\n",
       "      <td>0</td>\n",
       "      <td>15.000000</td>\n",
       "      <td>15.000000</td>\n",
       "      <td>1</td>\n",
       "      <td>0</td>\n",
       "      <td>10</td>\n",
       "      <td>5</td>\n",
       "      <td>0</td>\n",
       "      <td>0</td>\n",
       "      <td>3</td>\n",
       "      <td>4.000000</td>\n",
       "      <td>0</td>\n",
       "      <td>0</td>\n",
       "      <td>1</td>\n",
       "      <td>0</td>\n",
       "    </tr>\n",
       "    <tr>\n",
       "      <th>551</th>\n",
       "      <td>55.980000</td>\n",
       "      <td>0</td>\n",
       "      <td>0</td>\n",
       "      <td>0</td>\n",
       "      <td>15.000000</td>\n",
       "      <td>0.000000</td>\n",
       "      <td>1</td>\n",
       "      <td>0</td>\n",
       "      <td>12</td>\n",
       "      <td>5</td>\n",
       "      <td>2</td>\n",
       "      <td>0</td>\n",
       "      <td>1</td>\n",
       "      <td>7.000000</td>\n",
       "      <td>1</td>\n",
       "      <td>0</td>\n",
       "      <td>1</td>\n",
       "      <td>0</td>\n",
       "    </tr>\n",
       "    <tr>\n",
       "      <th>561</th>\n",
       "      <td>75.820000</td>\n",
       "      <td>0</td>\n",
       "      <td>0</td>\n",
       "      <td>0</td>\n",
       "      <td>0.000000</td>\n",
       "      <td>0.000000</td>\n",
       "      <td>0</td>\n",
       "      <td>0</td>\n",
       "      <td>6</td>\n",
       "      <td>5</td>\n",
       "      <td>0</td>\n",
       "      <td>1</td>\n",
       "      <td>2</td>\n",
       "      <td>8.000000</td>\n",
       "      <td>1</td>\n",
       "      <td>1</td>\n",
       "      <td>0</td>\n",
       "      <td>0</td>\n",
       "    </tr>\n",
       "    <tr>\n",
       "      <th>686</th>\n",
       "      <td>55.850000</td>\n",
       "      <td>0</td>\n",
       "      <td>0</td>\n",
       "      <td>0</td>\n",
       "      <td>30.000000</td>\n",
       "      <td>0.000000</td>\n",
       "      <td>0</td>\n",
       "      <td>1</td>\n",
       "      <td>8</td>\n",
       "      <td>5</td>\n",
       "      <td>2</td>\n",
       "      <td>0</td>\n",
       "      <td>1</td>\n",
       "      <td>6.000000</td>\n",
       "      <td>0</td>\n",
       "      <td>0</td>\n",
       "      <td>0</td>\n",
       "      <td>1</td>\n",
       "    </tr>\n",
       "    <tr>\n",
       "      <th>...</th>\n",
       "      <td>...</td>\n",
       "      <td>...</td>\n",
       "      <td>...</td>\n",
       "      <td>...</td>\n",
       "      <td>...</td>\n",
       "      <td>...</td>\n",
       "      <td>...</td>\n",
       "      <td>...</td>\n",
       "      <td>...</td>\n",
       "      <td>...</td>\n",
       "      <td>...</td>\n",
       "      <td>...</td>\n",
       "      <td>...</td>\n",
       "      <td>...</td>\n",
       "      <td>...</td>\n",
       "      <td>...</td>\n",
       "      <td>...</td>\n",
       "      <td>...</td>\n",
       "    </tr>\n",
       "    <tr>\n",
       "      <th>583519</th>\n",
       "      <td>66.977630</td>\n",
       "      <td>0</td>\n",
       "      <td>0</td>\n",
       "      <td>0</td>\n",
       "      <td>0.803376</td>\n",
       "      <td>2.803376</td>\n",
       "      <td>0</td>\n",
       "      <td>0</td>\n",
       "      <td>6</td>\n",
       "      <td>2</td>\n",
       "      <td>0</td>\n",
       "      <td>0</td>\n",
       "      <td>0</td>\n",
       "      <td>7.401688</td>\n",
       "      <td>0</td>\n",
       "      <td>0</td>\n",
       "      <td>0</td>\n",
       "      <td>1</td>\n",
       "    </tr>\n",
       "    <tr>\n",
       "      <th>583994</th>\n",
       "      <td>58.813572</td>\n",
       "      <td>0</td>\n",
       "      <td>0</td>\n",
       "      <td>0</td>\n",
       "      <td>30.000000</td>\n",
       "      <td>30.000000</td>\n",
       "      <td>1</td>\n",
       "      <td>0</td>\n",
       "      <td>7</td>\n",
       "      <td>5</td>\n",
       "      <td>0</td>\n",
       "      <td>0</td>\n",
       "      <td>1</td>\n",
       "      <td>6.508117</td>\n",
       "      <td>1</td>\n",
       "      <td>0</td>\n",
       "      <td>0</td>\n",
       "      <td>1</td>\n",
       "    </tr>\n",
       "    <tr>\n",
       "      <th>584473</th>\n",
       "      <td>56.334635</td>\n",
       "      <td>0</td>\n",
       "      <td>0</td>\n",
       "      <td>1</td>\n",
       "      <td>30.000000</td>\n",
       "      <td>14.616724</td>\n",
       "      <td>1</td>\n",
       "      <td>0</td>\n",
       "      <td>7</td>\n",
       "      <td>1</td>\n",
       "      <td>2</td>\n",
       "      <td>0</td>\n",
       "      <td>2</td>\n",
       "      <td>4.383276</td>\n",
       "      <td>0</td>\n",
       "      <td>0</td>\n",
       "      <td>0</td>\n",
       "      <td>1</td>\n",
       "    </tr>\n",
       "    <tr>\n",
       "      <th>584641</th>\n",
       "      <td>56.069344</td>\n",
       "      <td>1</td>\n",
       "      <td>0</td>\n",
       "      <td>0</td>\n",
       "      <td>29.094197</td>\n",
       "      <td>0.000000</td>\n",
       "      <td>1</td>\n",
       "      <td>1</td>\n",
       "      <td>8</td>\n",
       "      <td>4</td>\n",
       "      <td>1</td>\n",
       "      <td>0</td>\n",
       "      <td>1</td>\n",
       "      <td>7.905803</td>\n",
       "      <td>0</td>\n",
       "      <td>1</td>\n",
       "      <td>0</td>\n",
       "      <td>1</td>\n",
       "    </tr>\n",
       "    <tr>\n",
       "      <th>584715</th>\n",
       "      <td>67.489207</td>\n",
       "      <td>0</td>\n",
       "      <td>0</td>\n",
       "      <td>0</td>\n",
       "      <td>3.068784</td>\n",
       "      <td>18.068784</td>\n",
       "      <td>0</td>\n",
       "      <td>0</td>\n",
       "      <td>4</td>\n",
       "      <td>2</td>\n",
       "      <td>0</td>\n",
       "      <td>1</td>\n",
       "      <td>2</td>\n",
       "      <td>8.317459</td>\n",
       "      <td>0</td>\n",
       "      <td>0</td>\n",
       "      <td>0</td>\n",
       "      <td>1</td>\n",
       "    </tr>\n",
       "  </tbody>\n",
       "</table>\n",
       "<p>2185 rows × 18 columns</p>\n",
       "</div>"
      ],
      "text/plain": [
       "              BMI  Smoking  AlcoholDrinking  Stroke  PhysicalHealth  \\\n",
       "105     58.540000        0                0       0       30.000000   \n",
       "504     54.870000        0                0       0       15.000000   \n",
       "551     55.980000        0                0       0       15.000000   \n",
       "561     75.820000        0                0       0        0.000000   \n",
       "686     55.850000        0                0       0       30.000000   \n",
       "...           ...      ...              ...     ...             ...   \n",
       "583519  66.977630        0                0       0        0.803376   \n",
       "583994  58.813572        0                0       0       30.000000   \n",
       "584473  56.334635        0                0       1       30.000000   \n",
       "584641  56.069344        1                0       0       29.094197   \n",
       "584715  67.489207        0                0       0        3.068784   \n",
       "\n",
       "        MentalHealth  DiffWalking  Sex  AgeCategory  Race  Diabetic  \\\n",
       "105         0.000000            1    1            9     4         1   \n",
       "504        15.000000            1    0           10     5         0   \n",
       "551         0.000000            1    0           12     5         2   \n",
       "561         0.000000            0    0            6     5         0   \n",
       "686         0.000000            0    1            8     5         2   \n",
       "...              ...          ...  ...          ...   ...       ...   \n",
       "583519      2.803376            0    0            6     2         0   \n",
       "583994     30.000000            1    0            7     5         0   \n",
       "584473     14.616724            1    0            7     1         2   \n",
       "584641      0.000000            1    1            8     4         1   \n",
       "584715     18.068784            0    0            4     2         0   \n",
       "\n",
       "        PhysicalActivity  GenHealth  SleepTime  Asthma  KidneyDisease  \\\n",
       "105                    1          3   3.000000       1              0   \n",
       "504                    0          3   4.000000       0              0   \n",
       "551                    0          1   7.000000       1              0   \n",
       "561                    1          2   8.000000       1              1   \n",
       "686                    0          1   6.000000       0              0   \n",
       "...                  ...        ...        ...     ...            ...   \n",
       "583519                 0          0   7.401688       0              0   \n",
       "583994                 0          1   6.508117       1              0   \n",
       "584473                 0          2   4.383276       0              0   \n",
       "584641                 0          1   7.905803       0              1   \n",
       "584715                 1          2   8.317459       0              0   \n",
       "\n",
       "        SkinCancer  HeartDisease  \n",
       "105              0             0  \n",
       "504              1             0  \n",
       "551              1             0  \n",
       "561              0             0  \n",
       "686              0             1  \n",
       "...            ...           ...  \n",
       "583519           0             1  \n",
       "583994           0             1  \n",
       "584473           0             1  \n",
       "584641           0             1  \n",
       "584715           0             1  \n",
       "\n",
       "[2185 rows x 18 columns]"
      ]
     },
     "execution_count": 95,
     "metadata": {},
     "output_type": "execute_result"
    }
   ],
   "source": [
    "Q1_BMI = heart_class.BMI.quantile(0.25)\n",
    "Q3_BMI = heart_class.BMI.quantile(0.75)\n",
    "IQR_BMI = Q3_BMI - Q1_BMI\n",
    "LL_BMI = Q1_BMI - (3*IQR_BMI)\n",
    "UL_BMI = Q3_BMI + (3*IQR_BMI)\n",
    "\n",
    "heart_class[(heart_class.BMI < LL_BMI) | (heart_class.BMI > UL_BMI)]"
   ]
  },
  {
   "cell_type": "code",
   "execution_count": 96,
   "id": "41ce77f5",
   "metadata": {},
   "outputs": [],
   "source": [
    "heart_class.loc[heart_class.BMI>UL_BMI,'BMI']=UL_BMI\n",
    "heart_class.loc[heart_class.BMI<LL_BMI,'BMI']=LL_BMI"
   ]
  },
  {
   "cell_type": "markdown",
   "id": "649385e7",
   "metadata": {},
   "source": [
    "### For Physical health"
   ]
  },
  {
   "cell_type": "code",
   "execution_count": 97,
   "id": "e0d2ed4c",
   "metadata": {},
   "outputs": [
    {
     "data": {
      "text/plain": [
       "<AxesSubplot:ylabel='PhysicalHealth'>"
      ]
     },
     "execution_count": 97,
     "metadata": {},
     "output_type": "execute_result"
    },
    {
     "data": {
      "image/png": "[encoded data removed]",
      "text/plain": [
       "<Figure size 432x288 with 1 Axes>"
      ]
     },
     "metadata": {
      "needs_background": "light"
     },
     "output_type": "display_data"
    }
   ],
   "source": [
    "sns.boxplot(y = heart_class.PhysicalHealth,data = heart_class)"
   ]
  },
  {
   "cell_type": "code",
   "execution_count": 98,
   "id": "beab42eb",
   "metadata": {},
   "outputs": [
    {
     "data": {
      "text/plain": [
       "<AxesSubplot:xlabel='PhysicalHealth', ylabel='Density'>"
      ]
     },
     "execution_count": 98,
     "metadata": {},
     "output_type": "execute_result"
    },
    {
     "data": {
      "image/png": "[encoded data removed]",
      "text/plain": [
       "<Figure size 432x288 with 1 Axes>"
      ]
     },
     "metadata": {
      "needs_background": "light"
     },
     "output_type": "display_data"
    }
   ],
   "source": [
    "sns.distplot(heart_class.PhysicalHealth)"
   ]
  },
  {
   "cell_type": "code",
   "execution_count": 99,
   "id": "313fb75e",
   "metadata": {},
   "outputs": [
    {
     "data": {
      "text/plain": [
       "<AxesSubplot:>"
      ]
     },
     "execution_count": 99,
     "metadata": {},
     "output_type": "execute_result"
    },
    {
     "data": {
      "image/png": "[encoded data removed]",
      "text/plain": [
       "<Figure size 432x288 with 1 Axes>"
      ]
     },
     "metadata": {
      "needs_background": "light"
     },
     "output_type": "display_data"
    }
   ],
   "source": [
    "heart_class.PhysicalHealth.hist()"
   ]
  },
  {
   "cell_type": "code",
   "execution_count": 100,
   "id": "8ef5b161",
   "metadata": {},
   "outputs": [
    {
     "data": {
      "text/plain": [
       "count    584844.000000\n",
       "mean          5.356332\n",
       "std           9.955046\n",
       "min           0.000000\n",
       "25%           0.000000\n",
       "50%           0.000000\n",
       "75%           5.000000\n",
       "max          30.000000\n",
       "Name: PhysicalHealth, dtype: float64"
      ]
     },
     "execution_count": 100,
     "metadata": {},
     "output_type": "execute_result"
    }
   ],
   "source": [
    "heart_class.PhysicalHealth.describe()"
   ]
  },
  {
   "cell_type": "code",
   "execution_count": 101,
   "id": "ed99c7db",
   "metadata": {},
   "outputs": [
    {
     "data": {
      "text/plain": [
       "0.000000     363678\n",
       "30.000000     63358\n",
       "2.000000      20109\n",
       "5.000000      12868\n",
       "10.000000     12377\n",
       "              ...  \n",
       "5.260451          1\n",
       "4.566239          1\n",
       "8.362721          1\n",
       "4.719653          1\n",
       "2.592819          1\n",
       "Name: PhysicalHealth, Length: 43103, dtype: int64"
      ]
     },
     "execution_count": 101,
     "metadata": {},
     "output_type": "execute_result"
    }
   ],
   "source": [
    "heart_class.PhysicalHealth.value_counts()"
   ]
  },
  {
   "cell_type": "markdown",
   "id": "523fa2c6",
   "metadata": {},
   "source": [
    "### For Mental Health"
   ]
  },
  {
   "cell_type": "code",
   "execution_count": 102,
   "id": "a8da9318",
   "metadata": {},
   "outputs": [
    {
     "data": {
      "text/plain": [
       "count    584844.000000\n",
       "mean          4.208758\n",
       "std           8.535963\n",
       "min           0.000000\n",
       "25%           0.000000\n",
       "50%           0.000000\n",
       "75%           3.000000\n",
       "max          30.000000\n",
       "Name: MentalHealth, dtype: float64"
      ]
     },
     "execution_count": 102,
     "metadata": {},
     "output_type": "execute_result"
    }
   ],
   "source": [
    "heart_class.MentalHealth.describe()"
   ]
  },
  {
   "cell_type": "code",
   "execution_count": 103,
   "id": "9bca3090",
   "metadata": {},
   "outputs": [
    {
     "data": {
      "text/plain": [
       "0.000000     379388\n",
       "30.000000     39041\n",
       "2.000000      19797\n",
       "5.000000      19421\n",
       "15.000000     17244\n",
       "              ...  \n",
       "2.515156          1\n",
       "5.447533          1\n",
       "0.277125          1\n",
       "7.959918          1\n",
       "3.070796          1\n",
       "Name: MentalHealth, Length: 36090, dtype: int64"
      ]
     },
     "execution_count": 103,
     "metadata": {},
     "output_type": "execute_result"
    }
   ],
   "source": [
    "heart_class.MentalHealth.value_counts()"
   ]
  },
  {
   "cell_type": "code",
   "execution_count": 104,
   "id": "7a759277",
   "metadata": {},
   "outputs": [
    {
     "data": {
      "text/plain": [
       "<AxesSubplot:ylabel='MentalHealth'>"
      ]
     },
     "execution_count": 104,
     "metadata": {},
     "output_type": "execute_result"
    },
    {
     "data": {
      "image/png": "[encoded data removed]",
      "text/plain": [
       "<Figure size 432x288 with 1 Axes>"
      ]
     },
     "metadata": {
      "needs_background": "light"
     },
     "output_type": "display_data"
    }
   ],
   "source": [
    "sns.boxplot(y = heart_class.MentalHealth, data = heart_class)"
   ]
  },
  {
   "cell_type": "code",
   "execution_count": 105,
   "id": "4e5a0200",
   "metadata": {},
   "outputs": [
    {
     "data": {
      "text/plain": [
       "<AxesSubplot:xlabel='MentalHealth', ylabel='Density'>"
      ]
     },
     "execution_count": 105,
     "metadata": {},
     "output_type": "execute_result"
    },
    {
     "data": {
      "image/png": "[encoded data removed]",
      "text/plain": [
       "<Figure size 432x288 with 1 Axes>"
      ]
     },
     "metadata": {
      "needs_background": "light"
     },
     "output_type": "display_data"
    }
   ],
   "source": [
    "sns.distplot(heart_class.MentalHealth)"
   ]
  },
  {
   "cell_type": "code",
   "execution_count": 106,
   "id": "a2c658bc",
   "metadata": {},
   "outputs": [
    {
     "data": {
      "text/plain": [
       "<AxesSubplot:>"
      ]
     },
     "execution_count": 106,
     "metadata": {},
     "output_type": "execute_result"
    },
    {
     "data": {
      "image/png": "[encoded data removed]",
      "text/plain": [
       "<Figure size 432x288 with 1 Axes>"
      ]
     },
     "metadata": {
      "needs_background": "light"
     },
     "output_type": "display_data"
    }
   ],
   "source": [
    "heart_class.MentalHealth.hist()"
   ]
  },
  {
   "cell_type": "markdown",
   "id": "ed849682",
   "metadata": {},
   "source": [
    "### SleepTime"
   ]
  },
  {
   "cell_type": "code",
   "execution_count": 107,
   "id": "15ad22d0",
   "metadata": {},
   "outputs": [
    {
     "data": {
      "text/plain": [
       "count    584844.000000\n",
       "mean          7.115363\n",
       "std           1.519389\n",
       "min           1.000000\n",
       "25%           6.000000\n",
       "50%           7.000000\n",
       "75%           8.000000\n",
       "max          24.000000\n",
       "Name: SleepTime, dtype: float64"
      ]
     },
     "execution_count": 107,
     "metadata": {},
     "output_type": "execute_result"
    }
   ],
   "source": [
    "heart_class.SleepTime.describe()"
   ]
  },
  {
   "cell_type": "code",
   "execution_count": 108,
   "id": "4def9c9b",
   "metadata": {},
   "outputs": [
    {
     "data": {
      "text/plain": [
       "<AxesSubplot:ylabel='SleepTime'>"
      ]
     },
     "execution_count": 108,
     "metadata": {},
     "output_type": "execute_result"
    },
    {
     "data": {
      "image/png": "[encoded data removed]",
      "text/plain": [
       "<Figure size 432x288 with 1 Axes>"
      ]
     },
     "metadata": {
      "needs_background": "light"
     },
     "output_type": "display_data"
    }
   ],
   "source": [
    "sns.boxplot(y = heart_class.SleepTime, data=heart_class)"
   ]
  },
  {
   "cell_type": "code",
   "execution_count": 109,
   "id": "908569f8",
   "metadata": {},
   "outputs": [
    {
     "data": {
      "text/plain": [
       "<AxesSubplot:xlabel='SleepTime', ylabel='Density'>"
      ]
     },
     "execution_count": 109,
     "metadata": {},
     "output_type": "execute_result"
    },
    {
     "data": {
      "image/png": "[encoded data removed]",
      "text/plain": [
       "<Figure size 432x288 with 1 Axes>"
      ]
     },
     "metadata": {
      "needs_background": "light"
     },
     "output_type": "display_data"
    }
   ],
   "source": [
    "sns.distplot(heart_class.SleepTime)"
   ]
  },
  {
   "cell_type": "code",
   "execution_count": 110,
   "id": "cf40eed6",
   "metadata": {},
   "outputs": [
    {
     "data": {
      "text/plain": [
       "<AxesSubplot:>"
      ]
     },
     "execution_count": 110,
     "metadata": {},
     "output_type": "execute_result"
    },
    {
     "data": {
      "image/png": "[encoded data removed]",
      "text/plain": [
       "<Figure size 432x288 with 1 Axes>"
      ]
     },
     "metadata": {
      "needs_background": "light"
     },
     "output_type": "display_data"
    }
   ],
   "source": [
    "heart_class.SleepTime.hist()"
   ]
  },
  {
   "cell_type": "code",
   "execution_count": 111,
   "id": "7f22166e",
   "metadata": {},
   "outputs": [
    {
     "data": {
      "text/html": [
       "<div>\n",
       "<style scoped>\n",
       "    .dataframe tbody tr th:only-of-type {\n",
       "        vertical-align: middle;\n",
       "    }\n",
       "\n",
       "    .dataframe tbody tr th {\n",
       "        vertical-align: top;\n",
       "    }\n",
       "\n",
       "    .dataframe thead th {\n",
       "        text-align: right;\n",
       "    }\n",
       "</style>\n",
       "<table border=\"1\" class=\"dataframe\">\n",
       "  <thead>\n",
       "    <tr style=\"text-align: right;\">\n",
       "      <th></th>\n",
       "      <th>BMI</th>\n",
       "      <th>Smoking</th>\n",
       "      <th>AlcoholDrinking</th>\n",
       "      <th>Stroke</th>\n",
       "      <th>PhysicalHealth</th>\n",
       "      <th>MentalHealth</th>\n",
       "      <th>DiffWalking</th>\n",
       "      <th>Sex</th>\n",
       "      <th>AgeCategory</th>\n",
       "      <th>Race</th>\n",
       "      <th>Diabetic</th>\n",
       "      <th>PhysicalActivity</th>\n",
       "      <th>GenHealth</th>\n",
       "      <th>SleepTime</th>\n",
       "      <th>Asthma</th>\n",
       "      <th>KidneyDisease</th>\n",
       "      <th>SkinCancer</th>\n",
       "      <th>HeartDisease</th>\n",
       "    </tr>\n",
       "  </thead>\n",
       "  <tbody>\n",
       "    <tr>\n",
       "      <th>10</th>\n",
       "      <td>34.300000</td>\n",
       "      <td>1</td>\n",
       "      <td>0</td>\n",
       "      <td>0</td>\n",
       "      <td>30.000000</td>\n",
       "      <td>0.000000</td>\n",
       "      <td>1</td>\n",
       "      <td>1</td>\n",
       "      <td>8</td>\n",
       "      <td>5</td>\n",
       "      <td>2</td>\n",
       "      <td>0</td>\n",
       "      <td>3</td>\n",
       "      <td>15.000000</td>\n",
       "      <td>1</td>\n",
       "      <td>0</td>\n",
       "      <td>0</td>\n",
       "      <td>1</td>\n",
       "    </tr>\n",
       "    <tr>\n",
       "      <th>262</th>\n",
       "      <td>32.780000</td>\n",
       "      <td>0</td>\n",
       "      <td>0</td>\n",
       "      <td>0</td>\n",
       "      <td>0.000000</td>\n",
       "      <td>0.000000</td>\n",
       "      <td>0</td>\n",
       "      <td>1</td>\n",
       "      <td>10</td>\n",
       "      <td>2</td>\n",
       "      <td>0</td>\n",
       "      <td>0</td>\n",
       "      <td>4</td>\n",
       "      <td>15.000000</td>\n",
       "      <td>0</td>\n",
       "      <td>0</td>\n",
       "      <td>0</td>\n",
       "      <td>0</td>\n",
       "    </tr>\n",
       "    <tr>\n",
       "      <th>618</th>\n",
       "      <td>46.680000</td>\n",
       "      <td>0</td>\n",
       "      <td>0</td>\n",
       "      <td>0</td>\n",
       "      <td>30.000000</td>\n",
       "      <td>15.000000</td>\n",
       "      <td>1</td>\n",
       "      <td>0</td>\n",
       "      <td>7</td>\n",
       "      <td>2</td>\n",
       "      <td>0</td>\n",
       "      <td>1</td>\n",
       "      <td>2</td>\n",
       "      <td>16.000000</td>\n",
       "      <td>0</td>\n",
       "      <td>0</td>\n",
       "      <td>0</td>\n",
       "      <td>0</td>\n",
       "    </tr>\n",
       "    <tr>\n",
       "      <th>718</th>\n",
       "      <td>19.790000</td>\n",
       "      <td>1</td>\n",
       "      <td>0</td>\n",
       "      <td>1</td>\n",
       "      <td>30.000000</td>\n",
       "      <td>10.000000</td>\n",
       "      <td>1</td>\n",
       "      <td>0</td>\n",
       "      <td>8</td>\n",
       "      <td>2</td>\n",
       "      <td>0</td>\n",
       "      <td>0</td>\n",
       "      <td>3</td>\n",
       "      <td>18.000000</td>\n",
       "      <td>1</td>\n",
       "      <td>0</td>\n",
       "      <td>0</td>\n",
       "      <td>0</td>\n",
       "    </tr>\n",
       "    <tr>\n",
       "      <th>733</th>\n",
       "      <td>30.510000</td>\n",
       "      <td>0</td>\n",
       "      <td>0</td>\n",
       "      <td>0</td>\n",
       "      <td>5.000000</td>\n",
       "      <td>0.000000</td>\n",
       "      <td>0</td>\n",
       "      <td>0</td>\n",
       "      <td>8</td>\n",
       "      <td>2</td>\n",
       "      <td>2</td>\n",
       "      <td>1</td>\n",
       "      <td>2</td>\n",
       "      <td>15.000000</td>\n",
       "      <td>0</td>\n",
       "      <td>0</td>\n",
       "      <td>0</td>\n",
       "      <td>0</td>\n",
       "    </tr>\n",
       "    <tr>\n",
       "      <th>...</th>\n",
       "      <td>...</td>\n",
       "      <td>...</td>\n",
       "      <td>...</td>\n",
       "      <td>...</td>\n",
       "      <td>...</td>\n",
       "      <td>...</td>\n",
       "      <td>...</td>\n",
       "      <td>...</td>\n",
       "      <td>...</td>\n",
       "      <td>...</td>\n",
       "      <td>...</td>\n",
       "      <td>...</td>\n",
       "      <td>...</td>\n",
       "      <td>...</td>\n",
       "      <td>...</td>\n",
       "      <td>...</td>\n",
       "      <td>...</td>\n",
       "      <td>...</td>\n",
       "    </tr>\n",
       "    <tr>\n",
       "      <th>582140</th>\n",
       "      <td>27.189673</td>\n",
       "      <td>0</td>\n",
       "      <td>0</td>\n",
       "      <td>0</td>\n",
       "      <td>30.000000</td>\n",
       "      <td>0.000000</td>\n",
       "      <td>0</td>\n",
       "      <td>0</td>\n",
       "      <td>12</td>\n",
       "      <td>5</td>\n",
       "      <td>0</td>\n",
       "      <td>0</td>\n",
       "      <td>3</td>\n",
       "      <td>14.463419</td>\n",
       "      <td>0</td>\n",
       "      <td>0</td>\n",
       "      <td>0</td>\n",
       "      <td>1</td>\n",
       "    </tr>\n",
       "    <tr>\n",
       "      <th>582215</th>\n",
       "      <td>38.261054</td>\n",
       "      <td>0</td>\n",
       "      <td>0</td>\n",
       "      <td>1</td>\n",
       "      <td>30.000000</td>\n",
       "      <td>30.000000</td>\n",
       "      <td>1</td>\n",
       "      <td>0</td>\n",
       "      <td>10</td>\n",
       "      <td>5</td>\n",
       "      <td>1</td>\n",
       "      <td>0</td>\n",
       "      <td>3</td>\n",
       "      <td>19.920114</td>\n",
       "      <td>1</td>\n",
       "      <td>0</td>\n",
       "      <td>0</td>\n",
       "      <td>1</td>\n",
       "    </tr>\n",
       "    <tr>\n",
       "      <th>583457</th>\n",
       "      <td>27.600799</td>\n",
       "      <td>0</td>\n",
       "      <td>0</td>\n",
       "      <td>0</td>\n",
       "      <td>0.000000</td>\n",
       "      <td>15.000000</td>\n",
       "      <td>0</td>\n",
       "      <td>0</td>\n",
       "      <td>6</td>\n",
       "      <td>3</td>\n",
       "      <td>0</td>\n",
       "      <td>0</td>\n",
       "      <td>2</td>\n",
       "      <td>17.177439</td>\n",
       "      <td>0</td>\n",
       "      <td>0</td>\n",
       "      <td>0</td>\n",
       "      <td>1</td>\n",
       "    </tr>\n",
       "    <tr>\n",
       "      <th>583943</th>\n",
       "      <td>29.023655</td>\n",
       "      <td>0</td>\n",
       "      <td>0</td>\n",
       "      <td>0</td>\n",
       "      <td>17.008006</td>\n",
       "      <td>0.000000</td>\n",
       "      <td>1</td>\n",
       "      <td>0</td>\n",
       "      <td>12</td>\n",
       "      <td>5</td>\n",
       "      <td>0</td>\n",
       "      <td>0</td>\n",
       "      <td>2</td>\n",
       "      <td>19.212810</td>\n",
       "      <td>0</td>\n",
       "      <td>0</td>\n",
       "      <td>0</td>\n",
       "      <td>1</td>\n",
       "    </tr>\n",
       "    <tr>\n",
       "      <th>584759</th>\n",
       "      <td>27.002471</td>\n",
       "      <td>1</td>\n",
       "      <td>0</td>\n",
       "      <td>0</td>\n",
       "      <td>0.000000</td>\n",
       "      <td>1.829052</td>\n",
       "      <td>1</td>\n",
       "      <td>1</td>\n",
       "      <td>12</td>\n",
       "      <td>5</td>\n",
       "      <td>1</td>\n",
       "      <td>0</td>\n",
       "      <td>2</td>\n",
       "      <td>16.000000</td>\n",
       "      <td>0</td>\n",
       "      <td>0</td>\n",
       "      <td>0</td>\n",
       "      <td>1</td>\n",
       "    </tr>\n",
       "  </tbody>\n",
       "</table>\n",
       "<p>1578 rows × 18 columns</p>\n",
       "</div>"
      ],
      "text/plain": [
       "              BMI  Smoking  AlcoholDrinking  Stroke  PhysicalHealth  \\\n",
       "10      34.300000        1                0       0       30.000000   \n",
       "262     32.780000        0                0       0        0.000000   \n",
       "618     46.680000        0                0       0       30.000000   \n",
       "718     19.790000        1                0       1       30.000000   \n",
       "733     30.510000        0                0       0        5.000000   \n",
       "...           ...      ...              ...     ...             ...   \n",
       "582140  27.189673        0                0       0       30.000000   \n",
       "582215  38.261054        0                0       1       30.000000   \n",
       "583457  27.600799        0                0       0        0.000000   \n",
       "583943  29.023655        0                0       0       17.008006   \n",
       "584759  27.002471        1                0       0        0.000000   \n",
       "\n",
       "        MentalHealth  DiffWalking  Sex  AgeCategory  Race  Diabetic  \\\n",
       "10          0.000000            1    1            8     5         2   \n",
       "262         0.000000            0    1           10     2         0   \n",
       "618        15.000000            1    0            7     2         0   \n",
       "718        10.000000            1    0            8     2         0   \n",
       "733         0.000000            0    0            8     2         2   \n",
       "...              ...          ...  ...          ...   ...       ...   \n",
       "582140      0.000000            0    0           12     5         0   \n",
       "582215     30.000000            1    0           10     5         1   \n",
       "583457     15.000000            0    0            6     3         0   \n",
       "583943      0.000000            1    0           12     5         0   \n",
       "584759      1.829052            1    1           12     5         1   \n",
       "\n",
       "        PhysicalActivity  GenHealth  SleepTime  Asthma  KidneyDisease  \\\n",
       "10                     0          3  15.000000       1              0   \n",
       "262                    0          4  15.000000       0              0   \n",
       "618                    1          2  16.000000       0              0   \n",
       "718                    0          3  18.000000       1              0   \n",
       "733                    1          2  15.000000       0              0   \n",
       "...                  ...        ...        ...     ...            ...   \n",
       "582140                 0          3  14.463419       0              0   \n",
       "582215                 0          3  19.920114       1              0   \n",
       "583457                 0          2  17.177439       0              0   \n",
       "583943                 0          2  19.212810       0              0   \n",
       "584759                 0          2  16.000000       0              0   \n",
       "\n",
       "        SkinCancer  HeartDisease  \n",
       "10               0             1  \n",
       "262              0             0  \n",
       "618              0             0  \n",
       "718              0             0  \n",
       "733              0             0  \n",
       "...            ...           ...  \n",
       "582140           0             1  \n",
       "582215           0             1  \n",
       "583457           0             1  \n",
       "583943           0             1  \n",
       "584759           0             1  \n",
       "\n",
       "[1578 rows x 18 columns]"
      ]
     },
     "execution_count": 111,
     "metadata": {},
     "output_type": "execute_result"
    }
   ],
   "source": [
    "Q1_SleepTime = heart_class.SleepTime.quantile(0.25)\n",
    "Q3_SleepTime = heart_class.SleepTime.quantile(0.75)\n",
    "IQR_SleepTime = Q3_SleepTime - Q1_SleepTime\n",
    "LL_SleepTime = Q1_SleepTime - (3*IQR_SleepTime)\n",
    "UL_SleepTime = Q3_SleepTime + (3*IQR_SleepTime)\n",
    "\n",
    "heart_class[(heart_class.SleepTime < LL_SleepTime) | (heart_class.SleepTime > UL_SleepTime)]"
   ]
  },
  {
   "cell_type": "code",
   "execution_count": 112,
   "id": "507eb277",
   "metadata": {},
   "outputs": [],
   "source": [
    "heart_class.loc[heart_class.SleepTime>UL_SleepTime,'SleepTime']=UL_SleepTime\n",
    "heart_class.loc[heart_class.SleepTime<LL_SleepTime,'SleepTime']=LL_SleepTime"
   ]
  },
  {
   "cell_type": "markdown",
   "id": "48ce951f",
   "metadata": {},
   "source": [
    "# Data Transformation"
   ]
  },
  {
   "cell_type": "markdown",
   "id": "014782ee",
   "metadata": {},
   "source": [
    "### For BMI"
   ]
  },
  {
   "cell_type": "code",
   "execution_count": 113,
   "id": "1ea00b54",
   "metadata": {},
   "outputs": [
    {
     "data": {
      "text/html": [
       "<div>\n",
       "<style scoped>\n",
       "    .dataframe tbody tr th:only-of-type {\n",
       "        vertical-align: middle;\n",
       "    }\n",
       "\n",
       "    .dataframe tbody tr th {\n",
       "        vertical-align: top;\n",
       "    }\n",
       "\n",
       "    .dataframe thead th {\n",
       "        text-align: right;\n",
       "    }\n",
       "</style>\n",
       "<table border=\"1\" class=\"dataframe\">\n",
       "  <thead>\n",
       "    <tr style=\"text-align: right;\">\n",
       "      <th></th>\n",
       "      <th>BMI</th>\n",
       "      <th>Smoking</th>\n",
       "      <th>AlcoholDrinking</th>\n",
       "      <th>Stroke</th>\n",
       "      <th>PhysicalHealth</th>\n",
       "      <th>MentalHealth</th>\n",
       "      <th>DiffWalking</th>\n",
       "      <th>Sex</th>\n",
       "      <th>AgeCategory</th>\n",
       "      <th>Race</th>\n",
       "      <th>Diabetic</th>\n",
       "      <th>PhysicalActivity</th>\n",
       "      <th>GenHealth</th>\n",
       "      <th>SleepTime</th>\n",
       "      <th>Asthma</th>\n",
       "      <th>KidneyDisease</th>\n",
       "      <th>SkinCancer</th>\n",
       "      <th>HeartDisease</th>\n",
       "    </tr>\n",
       "  </thead>\n",
       "  <tbody>\n",
       "  </tbody>\n",
       "</table>\n",
       "</div>"
      ],
      "text/plain": [
       "Empty DataFrame\n",
       "Columns: [BMI, Smoking, AlcoholDrinking, Stroke, PhysicalHealth, MentalHealth, DiffWalking, Sex, AgeCategory, Race, Diabetic, PhysicalActivity, GenHealth, SleepTime, Asthma, KidneyDisease, SkinCancer, HeartDisease]\n",
       "Index: []"
      ]
     },
     "execution_count": 113,
     "metadata": {},
     "output_type": "execute_result"
    }
   ],
   "source": [
    "# Check zero values present or not\n",
    "heart_class[heart_class['BMI']==0]"
   ]
  },
  {
   "cell_type": "code",
   "execution_count": 114,
   "id": "473add8b",
   "metadata": {},
   "outputs": [
    {
     "data": {
      "text/plain": [
       "<AxesSubplot:xlabel='BMI', ylabel='Density'>"
      ]
     },
     "execution_count": 114,
     "metadata": {},
     "output_type": "execute_result"
    },
    {
     "data": {
      "image/png": "[encoded data removed]",
      "text/plain": [
       "<Figure size 432x288 with 1 Axes>"
      ]
     },
     "metadata": {
      "needs_background": "light"
     },
     "output_type": "display_data"
    }
   ],
   "source": [
    "sns.distplot(heart_class.BMI)"
   ]
  },
  {
   "cell_type": "code",
   "execution_count": 115,
   "id": "45b5c268",
   "metadata": {},
   "outputs": [
    {
     "data": {
      "text/plain": [
       "1.0418766512733941"
      ]
     },
     "execution_count": 115,
     "metadata": {},
     "output_type": "execute_result"
    }
   ],
   "source": [
    "heart_class.BMI.skew()"
   ]
  },
  {
   "cell_type": "code",
   "execution_count": 116,
   "id": "8cd5d238",
   "metadata": {},
   "outputs": [
    {
     "data": {
      "text/plain": [
       "0.6766267658110593"
      ]
     },
     "execution_count": 116,
     "metadata": {},
     "output_type": "execute_result"
    }
   ],
   "source": [
    "heart_class.BMI = np.sqrt(heart_class.BMI)\n",
    "heart_class.BMI.skew()"
   ]
  },
  {
   "cell_type": "code",
   "execution_count": 117,
   "id": "4f994b92",
   "metadata": {},
   "outputs": [
    {
     "data": {
      "text/plain": [
       "<AxesSubplot:xlabel='BMI', ylabel='Density'>"
      ]
     },
     "execution_count": 117,
     "metadata": {},
     "output_type": "execute_result"
    },
    {
     "data": {
      "image/png": "[encoded data removed]",
      "text/plain": [
       "<Figure size 432x288 with 1 Axes>"
      ]
     },
     "metadata": {
      "needs_background": "light"
     },
     "output_type": "display_data"
    }
   ],
   "source": [
    "sns.distplot(heart_class.BMI)"
   ]
  },
  {
   "cell_type": "markdown",
   "id": "8a0e8b65",
   "metadata": {},
   "source": [
    "### For SleepTime"
   ]
  },
  {
   "cell_type": "code",
   "execution_count": 118,
   "id": "951699b1",
   "metadata": {},
   "outputs": [
    {
     "data": {
      "text/html": [
       "<div>\n",
       "<style scoped>\n",
       "    .dataframe tbody tr th:only-of-type {\n",
       "        vertical-align: middle;\n",
       "    }\n",
       "\n",
       "    .dataframe tbody tr th {\n",
       "        vertical-align: top;\n",
       "    }\n",
       "\n",
       "    .dataframe thead th {\n",
       "        text-align: right;\n",
       "    }\n",
       "</style>\n",
       "<table border=\"1\" class=\"dataframe\">\n",
       "  <thead>\n",
       "    <tr style=\"text-align: right;\">\n",
       "      <th></th>\n",
       "      <th>BMI</th>\n",
       "      <th>Smoking</th>\n",
       "      <th>AlcoholDrinking</th>\n",
       "      <th>Stroke</th>\n",
       "      <th>PhysicalHealth</th>\n",
       "      <th>MentalHealth</th>\n",
       "      <th>DiffWalking</th>\n",
       "      <th>Sex</th>\n",
       "      <th>AgeCategory</th>\n",
       "      <th>Race</th>\n",
       "      <th>Diabetic</th>\n",
       "      <th>PhysicalActivity</th>\n",
       "      <th>GenHealth</th>\n",
       "      <th>SleepTime</th>\n",
       "      <th>Asthma</th>\n",
       "      <th>KidneyDisease</th>\n",
       "      <th>SkinCancer</th>\n",
       "      <th>HeartDisease</th>\n",
       "    </tr>\n",
       "  </thead>\n",
       "  <tbody>\n",
       "  </tbody>\n",
       "</table>\n",
       "</div>"
      ],
      "text/plain": [
       "Empty DataFrame\n",
       "Columns: [BMI, Smoking, AlcoholDrinking, Stroke, PhysicalHealth, MentalHealth, DiffWalking, Sex, AgeCategory, Race, Diabetic, PhysicalActivity, GenHealth, SleepTime, Asthma, KidneyDisease, SkinCancer, HeartDisease]\n",
       "Index: []"
      ]
     },
     "execution_count": 118,
     "metadata": {},
     "output_type": "execute_result"
    }
   ],
   "source": [
    "# Check zero values present or not\n",
    "heart_class[heart_class['SleepTime']==0]"
   ]
  },
  {
   "cell_type": "code",
   "execution_count": 119,
   "id": "7c2eefd4",
   "metadata": {},
   "outputs": [
    {
     "data": {
      "text/plain": [
       "<AxesSubplot:xlabel='SleepTime', ylabel='Density'>"
      ]
     },
     "execution_count": 119,
     "metadata": {},
     "output_type": "execute_result"
    },
    {
     "data": {
      "image/png": "[encoded data removed]",
      "text/plain": [
       "<Figure size 432x288 with 1 Axes>"
      ]
     },
     "metadata": {
      "needs_background": "light"
     },
     "output_type": "display_data"
    }
   ],
   "source": [
    "sns.distplot(heart_class.SleepTime)"
   ]
  },
  {
   "cell_type": "code",
   "execution_count": 120,
   "id": "b92f7302",
   "metadata": {},
   "outputs": [
    {
     "data": {
      "text/plain": [
       "0.22156956816803575"
      ]
     },
     "execution_count": 120,
     "metadata": {},
     "output_type": "execute_result"
    }
   ],
   "source": [
    "heart_class.SleepTime.skew()"
   ]
  },
  {
   "cell_type": "code",
   "execution_count": 121,
   "id": "0f4ce12e",
   "metadata": {},
   "outputs": [
    {
     "data": {
      "text/plain": [
       "BMI                 0.676627\n",
       "Smoking             0.274373\n",
       "AlcoholDrinking     4.733297\n",
       "Stroke              4.540734\n",
       "PhysicalHealth      1.768024\n",
       "MentalHealth        2.175174\n",
       "DiffWalking         1.637775\n",
       "Sex                 0.112316\n",
       "AgeCategory        -0.687497\n",
       "Race               -2.118367\n",
       "Diabetic            1.386230\n",
       "PhysicalActivity   -0.687935\n",
       "GenHealth           0.054555\n",
       "SleepTime           0.221570\n",
       "Asthma              2.673924\n",
       "KidneyDisease       5.050600\n",
       "SkinCancer          2.872155\n",
       "HeartDisease        0.000000\n",
       "dtype: float64"
      ]
     },
     "execution_count": 121,
     "metadata": {},
     "output_type": "execute_result"
    }
   ],
   "source": [
    "heart_class.skew()"
   ]
  },
  {
   "cell_type": "markdown",
   "id": "864cdd46",
   "metadata": {},
   "source": [
    "# Split Data After Class Imblance"
   ]
  },
  {
   "cell_type": "code",
   "execution_count": 122,
   "id": "7cbe3f26",
   "metadata": {},
   "outputs": [
    {
     "data": {
      "text/html": [
       "<div>\n",
       "<style scoped>\n",
       "    .dataframe tbody tr th:only-of-type {\n",
       "        vertical-align: middle;\n",
       "    }\n",
       "\n",
       "    .dataframe tbody tr th {\n",
       "        vertical-align: top;\n",
       "    }\n",
       "\n",
       "    .dataframe thead th {\n",
       "        text-align: right;\n",
       "    }\n",
       "</style>\n",
       "<table border=\"1\" class=\"dataframe\">\n",
       "  <thead>\n",
       "    <tr style=\"text-align: right;\">\n",
       "      <th></th>\n",
       "      <th>BMI</th>\n",
       "      <th>Smoking</th>\n",
       "      <th>AlcoholDrinking</th>\n",
       "      <th>Stroke</th>\n",
       "      <th>PhysicalHealth</th>\n",
       "      <th>MentalHealth</th>\n",
       "      <th>DiffWalking</th>\n",
       "      <th>Sex</th>\n",
       "      <th>AgeCategory</th>\n",
       "      <th>Race</th>\n",
       "      <th>Diabetic</th>\n",
       "      <th>PhysicalActivity</th>\n",
       "      <th>GenHealth</th>\n",
       "      <th>SleepTime</th>\n",
       "      <th>Asthma</th>\n",
       "      <th>KidneyDisease</th>\n",
       "      <th>SkinCancer</th>\n",
       "      <th>HeartDisease</th>\n",
       "    </tr>\n",
       "  </thead>\n",
       "  <tbody>\n",
       "    <tr>\n",
       "      <th>0</th>\n",
       "      <td>4.074310</td>\n",
       "      <td>1</td>\n",
       "      <td>0</td>\n",
       "      <td>0</td>\n",
       "      <td>3.0</td>\n",
       "      <td>30.0</td>\n",
       "      <td>0</td>\n",
       "      <td>0</td>\n",
       "      <td>7</td>\n",
       "      <td>5</td>\n",
       "      <td>2</td>\n",
       "      <td>1</td>\n",
       "      <td>4</td>\n",
       "      <td>5.0</td>\n",
       "      <td>1</td>\n",
       "      <td>0</td>\n",
       "      <td>1</td>\n",
       "      <td>0</td>\n",
       "    </tr>\n",
       "    <tr>\n",
       "      <th>1</th>\n",
       "      <td>4.509989</td>\n",
       "      <td>0</td>\n",
       "      <td>0</td>\n",
       "      <td>1</td>\n",
       "      <td>0.0</td>\n",
       "      <td>0.0</td>\n",
       "      <td>0</td>\n",
       "      <td>0</td>\n",
       "      <td>12</td>\n",
       "      <td>5</td>\n",
       "      <td>0</td>\n",
       "      <td>1</td>\n",
       "      <td>4</td>\n",
       "      <td>7.0</td>\n",
       "      <td>0</td>\n",
       "      <td>0</td>\n",
       "      <td>0</td>\n",
       "      <td>0</td>\n",
       "    </tr>\n",
       "    <tr>\n",
       "      <th>2</th>\n",
       "      <td>5.155580</td>\n",
       "      <td>1</td>\n",
       "      <td>0</td>\n",
       "      <td>0</td>\n",
       "      <td>20.0</td>\n",
       "      <td>30.0</td>\n",
       "      <td>0</td>\n",
       "      <td>1</td>\n",
       "      <td>9</td>\n",
       "      <td>5</td>\n",
       "      <td>2</td>\n",
       "      <td>1</td>\n",
       "      <td>1</td>\n",
       "      <td>8.0</td>\n",
       "      <td>1</td>\n",
       "      <td>0</td>\n",
       "      <td>0</td>\n",
       "      <td>0</td>\n",
       "    </tr>\n",
       "    <tr>\n",
       "      <th>3</th>\n",
       "      <td>4.920366</td>\n",
       "      <td>0</td>\n",
       "      <td>0</td>\n",
       "      <td>0</td>\n",
       "      <td>0.0</td>\n",
       "      <td>0.0</td>\n",
       "      <td>0</td>\n",
       "      <td>0</td>\n",
       "      <td>11</td>\n",
       "      <td>5</td>\n",
       "      <td>0</td>\n",
       "      <td>0</td>\n",
       "      <td>2</td>\n",
       "      <td>6.0</td>\n",
       "      <td>0</td>\n",
       "      <td>0</td>\n",
       "      <td>1</td>\n",
       "      <td>0</td>\n",
       "    </tr>\n",
       "    <tr>\n",
       "      <th>4</th>\n",
       "      <td>4.869292</td>\n",
       "      <td>0</td>\n",
       "      <td>0</td>\n",
       "      <td>0</td>\n",
       "      <td>28.0</td>\n",
       "      <td>0.0</td>\n",
       "      <td>1</td>\n",
       "      <td>0</td>\n",
       "      <td>4</td>\n",
       "      <td>5</td>\n",
       "      <td>0</td>\n",
       "      <td>1</td>\n",
       "      <td>4</td>\n",
       "      <td>8.0</td>\n",
       "      <td>0</td>\n",
       "      <td>0</td>\n",
       "      <td>0</td>\n",
       "      <td>0</td>\n",
       "    </tr>\n",
       "  </tbody>\n",
       "</table>\n",
       "</div>"
      ],
      "text/plain": [
       "        BMI  Smoking  AlcoholDrinking  Stroke  PhysicalHealth  MentalHealth  \\\n",
       "0  4.074310        1                0       0             3.0          30.0   \n",
       "1  4.509989        0                0       1             0.0           0.0   \n",
       "2  5.155580        1                0       0            20.0          30.0   \n",
       "3  4.920366        0                0       0             0.0           0.0   \n",
       "4  4.869292        0                0       0            28.0           0.0   \n",
       "\n",
       "   DiffWalking  Sex  AgeCategory  Race  Diabetic  PhysicalActivity  GenHealth  \\\n",
       "0            0    0            7     5         2                 1          4   \n",
       "1            0    0           12     5         0                 1          4   \n",
       "2            0    1            9     5         2                 1          1   \n",
       "3            0    0           11     5         0                 0          2   \n",
       "4            1    0            4     5         0                 1          4   \n",
       "\n",
       "   SleepTime  Asthma  KidneyDisease  SkinCancer  HeartDisease  \n",
       "0        5.0       1              0           1             0  \n",
       "1        7.0       0              0           0             0  \n",
       "2        8.0       1              0           0             0  \n",
       "3        6.0       0              0           1             0  \n",
       "4        8.0       0              0           0             0  "
      ]
     },
     "execution_count": 122,
     "metadata": {},
     "output_type": "execute_result"
    }
   ],
   "source": [
    "heart_class.head()"
   ]
  },
  {
   "cell_type": "code",
   "execution_count": 123,
   "id": "c4c19b02",
   "metadata": {},
   "outputs": [],
   "source": [
    "X_af_Out = heart_class.drop(['HeartDisease'], axis=1)\n",
    "y_af_Out = heart_class['HeartDisease']"
   ]
  },
  {
   "cell_type": "code",
   "execution_count": 124,
   "id": "70de077a",
   "metadata": {},
   "outputs": [
    {
     "data": {
      "text/plain": [
       "((467875, 17), (116969, 17), (467875,), (116969,))"
      ]
     },
     "execution_count": 124,
     "metadata": {},
     "output_type": "execute_result"
    }
   ],
   "source": [
    "X_train_out, X_test_out, y_train_out, y_test_out = train_test_split(X_af_Out, y_af_Out, test_size= 0.2, random_state=101)\n",
    "X_train_out.shape, X_test_out.shape, y_train_out.shape, y_test_out.shape"
   ]
  },
  {
   "cell_type": "markdown",
   "id": "5762f494",
   "metadata": {},
   "source": [
    "# Feature selection"
   ]
  },
  {
   "cell_type": "code",
   "execution_count": 125,
   "id": "356fb1de",
   "metadata": {},
   "outputs": [],
   "source": [
    "from sklearn.feature_selection import SelectKBest\n",
    "from sklearn.feature_selection import chi2"
   ]
  },
  {
   "cell_type": "markdown",
   "id": "dc8ed5b1",
   "metadata": {},
   "source": [
    "### Apply select k_best algorithm"
   ]
  },
  {
   "cell_type": "code",
   "execution_count": 126,
   "id": "e5a29016",
   "metadata": {},
   "outputs": [],
   "source": [
    "cst=SelectKBest(score_func=chi2,k=\"all\")\n",
    "cst_fit=cst.fit(X_af_Out, y_af_Out)"
   ]
  },
  {
   "cell_type": "code",
   "execution_count": 127,
   "id": "cb0f3022",
   "metadata": {},
   "outputs": [
    {
     "data": {
      "text/plain": [
       "array([3.24334718e+02, 1.73468247e+03, 1.43854187e+04, 3.59883917e+03,\n",
       "       6.28875400e+05, 2.00635359e+04, 1.37539625e+04, 6.77362857e+01,\n",
       "       1.49379087e+05, 5.90472812e+02, 4.29378730e+04, 1.39020891e+04,\n",
       "       2.36382538e+03, 3.16479080e+01, 5.33052190e+03, 7.37814566e+02,\n",
       "       1.46398234e+02])"
      ]
     },
     "execution_count": 127,
     "metadata": {},
     "output_type": "execute_result"
    }
   ],
   "source": [
    "cst_score=cst_fit.scores_\n",
    "cst_score"
   ]
  },
  {
   "cell_type": "code",
   "execution_count": 128,
   "id": "be07fcea",
   "metadata": {},
   "outputs": [
    {
     "data": {
      "text/html": [
       "<div>\n",
       "<style scoped>\n",
       "    .dataframe tbody tr th:only-of-type {\n",
       "        vertical-align: middle;\n",
       "    }\n",
       "\n",
       "    .dataframe tbody tr th {\n",
       "        vertical-align: top;\n",
       "    }\n",
       "\n",
       "    .dataframe thead th {\n",
       "        text-align: right;\n",
       "    }\n",
       "</style>\n",
       "<table border=\"1\" class=\"dataframe\">\n",
       "  <thead>\n",
       "    <tr style=\"text-align: right;\">\n",
       "      <th></th>\n",
       "      <th>columns</th>\n",
       "      <th>Score</th>\n",
       "    </tr>\n",
       "  </thead>\n",
       "  <tbody>\n",
       "    <tr>\n",
       "      <th>4</th>\n",
       "      <td>PhysicalHealth</td>\n",
       "      <td>628875.400177</td>\n",
       "    </tr>\n",
       "    <tr>\n",
       "      <th>8</th>\n",
       "      <td>AgeCategory</td>\n",
       "      <td>149379.087136</td>\n",
       "    </tr>\n",
       "    <tr>\n",
       "      <th>10</th>\n",
       "      <td>Diabetic</td>\n",
       "      <td>42937.872988</td>\n",
       "    </tr>\n",
       "    <tr>\n",
       "      <th>5</th>\n",
       "      <td>MentalHealth</td>\n",
       "      <td>20063.535889</td>\n",
       "    </tr>\n",
       "    <tr>\n",
       "      <th>2</th>\n",
       "      <td>AlcoholDrinking</td>\n",
       "      <td>14385.418665</td>\n",
       "    </tr>\n",
       "    <tr>\n",
       "      <th>11</th>\n",
       "      <td>PhysicalActivity</td>\n",
       "      <td>13902.089096</td>\n",
       "    </tr>\n",
       "    <tr>\n",
       "      <th>6</th>\n",
       "      <td>DiffWalking</td>\n",
       "      <td>13753.962521</td>\n",
       "    </tr>\n",
       "    <tr>\n",
       "      <th>14</th>\n",
       "      <td>Asthma</td>\n",
       "      <td>5330.521903</td>\n",
       "    </tr>\n",
       "    <tr>\n",
       "      <th>3</th>\n",
       "      <td>Stroke</td>\n",
       "      <td>3598.839171</td>\n",
       "    </tr>\n",
       "    <tr>\n",
       "      <th>12</th>\n",
       "      <td>GenHealth</td>\n",
       "      <td>2363.825379</td>\n",
       "    </tr>\n",
       "    <tr>\n",
       "      <th>1</th>\n",
       "      <td>Smoking</td>\n",
       "      <td>1734.682465</td>\n",
       "    </tr>\n",
       "    <tr>\n",
       "      <th>15</th>\n",
       "      <td>KidneyDisease</td>\n",
       "      <td>737.814566</td>\n",
       "    </tr>\n",
       "    <tr>\n",
       "      <th>9</th>\n",
       "      <td>Race</td>\n",
       "      <td>590.472812</td>\n",
       "    </tr>\n",
       "    <tr>\n",
       "      <th>0</th>\n",
       "      <td>BMI</td>\n",
       "      <td>324.334718</td>\n",
       "    </tr>\n",
       "    <tr>\n",
       "      <th>16</th>\n",
       "      <td>SkinCancer</td>\n",
       "      <td>146.398234</td>\n",
       "    </tr>\n",
       "    <tr>\n",
       "      <th>7</th>\n",
       "      <td>Sex</td>\n",
       "      <td>67.736286</td>\n",
       "    </tr>\n",
       "    <tr>\n",
       "      <th>13</th>\n",
       "      <td>SleepTime</td>\n",
       "      <td>31.647908</td>\n",
       "    </tr>\n",
       "  </tbody>\n",
       "</table>\n",
       "</div>"
      ],
      "text/plain": [
       "             columns          Score\n",
       "4     PhysicalHealth  628875.400177\n",
       "8        AgeCategory  149379.087136\n",
       "10          Diabetic   42937.872988\n",
       "5       MentalHealth   20063.535889\n",
       "2    AlcoholDrinking   14385.418665\n",
       "11  PhysicalActivity   13902.089096\n",
       "6        DiffWalking   13753.962521\n",
       "14            Asthma    5330.521903\n",
       "3             Stroke    3598.839171\n",
       "12         GenHealth    2363.825379\n",
       "1            Smoking    1734.682465\n",
       "15     KidneyDisease     737.814566\n",
       "9               Race     590.472812\n",
       "0                BMI     324.334718\n",
       "16        SkinCancer     146.398234\n",
       "7                Sex      67.736286\n",
       "13         SleepTime      31.647908"
      ]
     },
     "execution_count": 128,
     "metadata": {},
     "output_type": "execute_result"
    }
   ],
   "source": [
    "feat=pd.DataFrame({\"columns\":list(X_af_Out), \"Score\":list(cst_score)})\n",
    "feat.nlargest(17, 'Score')"
   ]
  },
  {
   "cell_type": "code",
   "execution_count": 129,
   "id": "2acd1d4d",
   "metadata": {},
   "outputs": [],
   "source": [
    "# All features are important so we can not drop any of them"
   ]
  },
  {
   "cell_type": "markdown",
   "id": "defd154b",
   "metadata": {},
   "source": [
    "# Feature Scalling"
   ]
  },
  {
   "cell_type": "code",
   "execution_count": 130,
   "id": "336e7270",
   "metadata": {},
   "outputs": [],
   "source": [
    "from sklearn.preprocessing import MinMaxScaler\n",
    "scaler = MinMaxScaler() "
   ]
  },
  {
   "cell_type": "code",
   "execution_count": 131,
   "id": "3b56e22c",
   "metadata": {},
   "outputs": [
    {
     "data": {
      "text/plain": [
       "MinMaxScaler()"
      ]
     },
     "execution_count": 131,
     "metadata": {},
     "output_type": "execute_result"
    }
   ],
   "source": [
    "scaler.fit(X_train_out)"
   ]
  },
  {
   "cell_type": "code",
   "execution_count": 132,
   "id": "a8bb8503",
   "metadata": {},
   "outputs": [],
   "source": [
    "X_train_out = scaler.transform(X_train_out)\n",
    "X_test_out = scaler.transform(X_test_out)"
   ]
  },
  {
   "cell_type": "markdown",
   "id": "5c15e51a",
   "metadata": {},
   "source": [
    "# Implementation OF Machine Learning Algorithm after EDA"
   ]
  },
  {
   "cell_type": "code",
   "execution_count": 133,
   "id": "a583c2ce",
   "metadata": {},
   "outputs": [],
   "source": [
    "from sklearn.linear_model import LogisticRegression\n",
    "from sklearn.tree import DecisionTreeClassifier\n",
    "from sklearn.ensemble import RandomForestClassifier\n",
    "from sklearn.naive_bayes import MultinomialNB\n",
    "from sklearn.ensemble import AdaBoostClassifier\n",
    "import xgboost\n",
    "from xgboost import XGBClassifier\n",
    "from sklearn.svm import SVC\n",
    "from sklearn.neighbors import KNeighborsClassifier"
   ]
  },
  {
   "cell_type": "markdown",
   "id": "ddd780ff",
   "metadata": {},
   "source": [
    "### 1. Logistic Regression"
   ]
  },
  {
   "cell_type": "code",
   "execution_count": 134,
   "id": "76084e24",
   "metadata": {},
   "outputs": [
    {
     "data": {
      "text/plain": [
       "LogisticRegression()"
      ]
     },
     "execution_count": 134,
     "metadata": {},
     "output_type": "execute_result"
    }
   ],
   "source": [
    "log_out = LogisticRegression()\n",
    "log_out.fit(X_train_out, y_train_out)"
   ]
  },
  {
   "cell_type": "code",
   "execution_count": 135,
   "id": "b998bca7",
   "metadata": {},
   "outputs": [
    {
     "data": {
      "text/plain": [
       "array([1, 0, 0, ..., 0, 0, 1])"
      ]
     },
     "execution_count": 135,
     "metadata": {},
     "output_type": "execute_result"
    }
   ],
   "source": [
    "log_out_pred = log_out.predict(X_test_out)\n",
    "log_out_pred"
   ]
  },
  {
   "cell_type": "code",
   "execution_count": 136,
   "id": "b8f3c47e",
   "metadata": {},
   "outputs": [
    {
     "data": {
      "text/plain": [
       "73.57333994477169"
      ]
     },
     "execution_count": 136,
     "metadata": {},
     "output_type": "execute_result"
    }
   ],
   "source": [
    "log_out_accuraccy = log_out.score(X_test_out, y_test_out)*100\n",
    "log_out_accuraccy"
   ]
  },
  {
   "cell_type": "code",
   "execution_count": 137,
   "id": "78a15296",
   "metadata": {},
   "outputs": [
    {
     "name": "stdout",
     "output_type": "stream",
     "text": [
      "[[41128 17458]\n",
      " [13453 44930]]\n"
     ]
    }
   ],
   "source": [
    "print(confusion_matrix(y_test_out,log_out_pred))"
   ]
  },
  {
   "cell_type": "code",
   "execution_count": 138,
   "id": "62036a8a",
   "metadata": {},
   "outputs": [
    {
     "name": "stdout",
     "output_type": "stream",
     "text": [
      "              precision    recall  f1-score   support\n",
      "\n",
      "           0       0.75      0.70      0.73     58586\n",
      "           1       0.72      0.77      0.74     58383\n",
      "\n",
      "    accuracy                           0.74    116969\n",
      "   macro avg       0.74      0.74      0.74    116969\n",
      "weighted avg       0.74      0.74      0.74    116969\n",
      "\n"
     ]
    }
   ],
   "source": [
    "log_out_cr = print(classification_report(y_test_out,log_out_pred))\n",
    "log_out_cr"
   ]
  },
  {
   "cell_type": "code",
   "execution_count": 139,
   "id": "64750825",
   "metadata": {},
   "outputs": [],
   "source": [
    "log_out_precision = precision_score(y_test_out,log_out_pred)\n",
    "log_out_recall = recall_score(y_test_out,log_out_pred)\n",
    "log_out_f1score = f1_score(y_test_out,log_out_pred)"
   ]
  },
  {
   "cell_type": "code",
   "execution_count": 140,
   "id": "88b7d2c0",
   "metadata": {},
   "outputs": [
    {
     "data": {
      "image/png": "[encoded data removed]",
      "text/plain": [
       "<Figure size 432x288 with 1 Axes>"
      ]
     },
     "metadata": {
      "needs_background": "light"
     },
     "output_type": "display_data"
    }
   ],
   "source": [
    "log_out_prob=log_out.predict_proba(X_test_out)\n",
    "log_out_df=pd.DataFrame(log_out_prob)\n",
    "log_out_fpr,log_out_tpr,log_out_threshold=roc_curve(y_test_out,log_out_df.iloc[:,1])\n",
    "plt.plot(log_out_fpr,log_out_tpr)\n",
    "plt.title('Logistic Regression After EDA')\n",
    "plt.xlabel('TPR')\n",
    "plt.ylabel('FPR')\n",
    "plt.show()"
   ]
  },
  {
   "cell_type": "markdown",
   "id": "5e068cc1",
   "metadata": {},
   "source": [
    "### 2. Decision Tree"
   ]
  },
  {
   "cell_type": "code",
   "execution_count": 141,
   "id": "0aa218a1",
   "metadata": {},
   "outputs": [
    {
     "data": {
      "text/plain": [
       "DecisionTreeClassifier()"
      ]
     },
     "execution_count": 141,
     "metadata": {},
     "output_type": "execute_result"
    }
   ],
   "source": [
    "dt_out = DecisionTreeClassifier()\n",
    "dt_out.fit(X_train_out,y_train_out)"
   ]
  },
  {
   "cell_type": "code",
   "execution_count": 142,
   "id": "7b561f3b",
   "metadata": {},
   "outputs": [
    {
     "data": {
      "text/plain": [
       "array([1, 0, 0, ..., 1, 0, 1])"
      ]
     },
     "execution_count": 142,
     "metadata": {},
     "output_type": "execute_result"
    }
   ],
   "source": [
    "dt_pred_out = dt_out.predict(X_test_out)\n",
    "dt_pred_out"
   ]
  },
  {
   "cell_type": "code",
   "execution_count": 143,
   "id": "aaa923c5",
   "metadata": {},
   "outputs": [
    {
     "data": {
      "text/plain": [
       "87.45736049722575"
      ]
     },
     "execution_count": 143,
     "metadata": {},
     "output_type": "execute_result"
    }
   ],
   "source": [
    "dt_out_accuraccy = dt_out.score(X_test_out, y_test_out)*100\n",
    "dt_out_accuraccy"
   ]
  },
  {
   "cell_type": "code",
   "execution_count": 144,
   "id": "3cda8d75",
   "metadata": {},
   "outputs": [
    {
     "name": "stdout",
     "output_type": "stream",
     "text": [
      "[[50411  8175]\n",
      " [ 6496 51887]]\n"
     ]
    }
   ],
   "source": [
    "print(confusion_matrix(y_test_out,dt_pred_out))"
   ]
  },
  {
   "cell_type": "code",
   "execution_count": 145,
   "id": "ad9c6e89",
   "metadata": {},
   "outputs": [
    {
     "name": "stdout",
     "output_type": "stream",
     "text": [
      "              precision    recall  f1-score   support\n",
      "\n",
      "           0       0.89      0.86      0.87     58586\n",
      "           1       0.86      0.89      0.88     58383\n",
      "\n",
      "    accuracy                           0.87    116969\n",
      "   macro avg       0.87      0.87      0.87    116969\n",
      "weighted avg       0.87      0.87      0.87    116969\n",
      "\n"
     ]
    }
   ],
   "source": [
    "dt_out_cr = print(classification_report(y_test_out, dt_pred_out))\n",
    "dt_out_cr"
   ]
  },
  {
   "cell_type": "code",
   "execution_count": 146,
   "id": "92ca3439",
   "metadata": {},
   "outputs": [],
   "source": [
    "dt_out_precision = precision_score(y_test_out,dt_pred_out)\n",
    "dt_out_recall = recall_score(y_test_out,dt_pred_out)\n",
    "dt_out_f1score = f1_score(y_test_out,dt_pred_out)"
   ]
  },
  {
   "cell_type": "code",
   "execution_count": 147,
   "id": "857f7e80",
   "metadata": {},
   "outputs": [
    {
     "data": {
      "image/png": "[encoded data removed]",
      "text/plain": [
       "<Figure size 432x288 with 1 Axes>"
      ]
     },
     "metadata": {
      "needs_background": "light"
     },
     "output_type": "display_data"
    }
   ],
   "source": [
    "dt_out_prob=dt_out.predict_proba(X_test_out)\n",
    "dt_out_df=pd.DataFrame(dt_out_prob)\n",
    "dt_out_fpr,dt_out_tpr,dt_out_threshold=roc_curve(y_test_out,dt_out_df.iloc[:,1])\n",
    "plt.plot(dt_out_fpr,dt_out_tpr)\n",
    "plt.title('Decision Tree After EDA')\n",
    "plt.xlabel('TPR')\n",
    "plt.ylabel('FPR')\n",
    "plt.show()"
   ]
  },
  {
   "cell_type": "markdown",
   "id": "3aeb9920",
   "metadata": {},
   "source": [
    "### 3. Random Forest"
   ]
  },
  {
   "cell_type": "code",
   "execution_count": 148,
   "id": "cfbaffce",
   "metadata": {},
   "outputs": [
    {
     "data": {
      "text/plain": [
       "RandomForestClassifier()"
      ]
     },
     "execution_count": 148,
     "metadata": {},
     "output_type": "execute_result"
    }
   ],
   "source": [
    "rf_out = RandomForestClassifier()\n",
    "rf_out.fit(X_train_out,y_train_out)"
   ]
  },
  {
   "cell_type": "code",
   "execution_count": 149,
   "id": "0479a7e6",
   "metadata": {},
   "outputs": [
    {
     "data": {
      "text/plain": [
       "array([1, 0, 0, ..., 1, 0, 0])"
      ]
     },
     "execution_count": 149,
     "metadata": {},
     "output_type": "execute_result"
    }
   ],
   "source": [
    "rf_pred_out = rf_out.predict(X_test_out)\n",
    "rf_pred_out"
   ]
  },
  {
   "cell_type": "code",
   "execution_count": 150,
   "id": "9582abd0",
   "metadata": {},
   "outputs": [
    {
     "data": {
      "text/plain": [
       "90.86681086441708"
      ]
     },
     "execution_count": 150,
     "metadata": {},
     "output_type": "execute_result"
    }
   ],
   "source": [
    "rf_out_accuraccy = rf_out.score(X_test_out, y_test_out)*100\n",
    "rf_out_accuraccy"
   ]
  },
  {
   "cell_type": "code",
   "execution_count": 151,
   "id": "ba1ba214",
   "metadata": {},
   "outputs": [
    {
     "name": "stdout",
     "output_type": "stream",
     "text": [
      "[[52331  6255]\n",
      " [ 4428 53955]]\n"
     ]
    }
   ],
   "source": [
    "print(confusion_matrix(y_test_out, rf_pred_out))"
   ]
  },
  {
   "cell_type": "code",
   "execution_count": 152,
   "id": "dd235da3",
   "metadata": {},
   "outputs": [
    {
     "name": "stdout",
     "output_type": "stream",
     "text": [
      "              precision    recall  f1-score   support\n",
      "\n",
      "           0       0.92      0.89      0.91     58586\n",
      "           1       0.90      0.92      0.91     58383\n",
      "\n",
      "    accuracy                           0.91    116969\n",
      "   macro avg       0.91      0.91      0.91    116969\n",
      "weighted avg       0.91      0.91      0.91    116969\n",
      "\n"
     ]
    }
   ],
   "source": [
    "rf_out_cr = print(classification_report(y_test_out, rf_pred_out))\n",
    "rf_out_cr"
   ]
  },
  {
   "cell_type": "code",
   "execution_count": 153,
   "id": "9b630229",
   "metadata": {},
   "outputs": [],
   "source": [
    "rf_out_precision = precision_score(y_test_out,rf_pred_out)\n",
    "rf_out_recall = recall_score(y_test_out,rf_pred_out)\n",
    "rf_out_f1score = f1_score(y_test_out,rf_pred_out)"
   ]
  },
  {
   "cell_type": "code",
   "execution_count": 154,
   "id": "5df7ac1d",
   "metadata": {},
   "outputs": [
    {
     "data": {
      "image/png": "[encoded data removed]",
      "text/plain": [
       "<Figure size 432x288 with 1 Axes>"
      ]
     },
     "metadata": {
      "needs_background": "light"
     },
     "output_type": "display_data"
    }
   ],
   "source": [
    "rf_out_prob=rf_out.predict_proba(X_test_out)\n",
    "rf_out_df=pd.DataFrame(rf_out_prob)\n",
    "rf_out_fpr,rf_out_tpr,rf_out_threshold=roc_curve(y_test_out,rf_out_df.iloc[:,1])\n",
    "plt.plot(rf_out_fpr,rf_out_tpr)\n",
    "plt.title('Random Forest After EDA')\n",
    "plt.xlabel('TPR')\n",
    "plt.ylabel('FPR')\n",
    "plt.show()"
   ]
  },
  {
   "cell_type": "markdown",
   "id": "daa667c0",
   "metadata": {},
   "source": [
    "### 4. Naive Bayes"
   ]
  },
  {
   "cell_type": "code",
   "execution_count": 155,
   "id": "c24ec66d",
   "metadata": {},
   "outputs": [
    {
     "data": {
      "text/plain": [
       "MultinomialNB()"
      ]
     },
     "execution_count": 155,
     "metadata": {},
     "output_type": "execute_result"
    }
   ],
   "source": [
    "nb_out = MultinomialNB()\n",
    "nb_out.fit(X_train_out,y_train_out)"
   ]
  },
  {
   "cell_type": "code",
   "execution_count": 156,
   "id": "837b588b",
   "metadata": {},
   "outputs": [
    {
     "data": {
      "text/plain": [
       "array([1, 0, 0, ..., 0, 0, 1])"
      ]
     },
     "execution_count": 156,
     "metadata": {},
     "output_type": "execute_result"
    }
   ],
   "source": [
    "nb_pred_out = nb_out.predict(X_test_out)\n",
    "nb_pred_out"
   ]
  },
  {
   "cell_type": "code",
   "execution_count": 157,
   "id": "3b82495f",
   "metadata": {},
   "outputs": [
    {
     "data": {
      "text/plain": [
       "68.15993981311289"
      ]
     },
     "execution_count": 157,
     "metadata": {},
     "output_type": "execute_result"
    }
   ],
   "source": [
    "nb_out_accuraccy = nb_out.score(X_test_out,y_test_out)*100\n",
    "nb_out_accuraccy"
   ]
  },
  {
   "cell_type": "code",
   "execution_count": 158,
   "id": "934ef246",
   "metadata": {},
   "outputs": [
    {
     "name": "stdout",
     "output_type": "stream",
     "text": [
      "[[43316 15270]\n",
      " [21973 36410]]\n"
     ]
    }
   ],
   "source": [
    "print(confusion_matrix(y_test_out, nb_pred_out))"
   ]
  },
  {
   "cell_type": "code",
   "execution_count": 159,
   "id": "b47ca938",
   "metadata": {},
   "outputs": [
    {
     "name": "stdout",
     "output_type": "stream",
     "text": [
      "              precision    recall  f1-score   support\n",
      "\n",
      "           0       0.66      0.74      0.70     58586\n",
      "           1       0.70      0.62      0.66     58383\n",
      "\n",
      "    accuracy                           0.68    116969\n",
      "   macro avg       0.68      0.68      0.68    116969\n",
      "weighted avg       0.68      0.68      0.68    116969\n",
      "\n"
     ]
    }
   ],
   "source": [
    "nb_out_cr = print(classification_report(y_test_out, nb_pred_out))\n",
    "nb_out_cr"
   ]
  },
  {
   "cell_type": "code",
   "execution_count": 160,
   "id": "01f495a1",
   "metadata": {},
   "outputs": [],
   "source": [
    "nb_out_precision = precision_score(y_test_out,nb_pred_out)\n",
    "nb_out_recall = recall_score(y_test_out,nb_pred_out)\n",
    "nb_out_f1score = f1_score(y_test_out,nb_pred_out)"
   ]
  },
  {
   "cell_type": "code",
   "execution_count": 161,
   "id": "f6c24ad7",
   "metadata": {},
   "outputs": [
    {
     "data": {
      "image/png": "[encoded data removed]",
      "text/plain": [
       "<Figure size 432x288 with 1 Axes>"
      ]
     },
     "metadata": {
      "needs_background": "light"
     },
     "output_type": "display_data"
    }
   ],
   "source": [
    "nb_out_prob=nb_out.predict_proba(X_test_out)\n",
    "nb_out_df=pd.DataFrame(nb_out_prob)\n",
    "nb_out_fpr,nb_out_tpr,nb_out_threshold=roc_curve(y_test_out,nb_out_df.iloc[:,1])\n",
    "plt.plot(nb_out_fpr,nb_out_tpr)\n",
    "plt.title('Navie Bayes After EDA')\n",
    "plt.xlabel('TPR')\n",
    "plt.ylabel('FPR')\n",
    "plt.show()"
   ]
  },
  {
   "cell_type": "markdown",
   "id": "aab5653e",
   "metadata": {},
   "source": [
    "### 5. Ada Boost"
   ]
  },
  {
   "cell_type": "code",
   "execution_count": 162,
   "id": "19a07bc6",
   "metadata": {},
   "outputs": [
    {
     "data": {
      "text/plain": [
       "AdaBoostClassifier(base_estimator=DecisionTreeClassifier(), n_estimators=2)"
      ]
     },
     "execution_count": 162,
     "metadata": {},
     "output_type": "execute_result"
    }
   ],
   "source": [
    "ada_out = AdaBoostClassifier(DecisionTreeClassifier(), n_estimators=2)\n",
    "ada_out.fit(X_train_out, y_train_out)"
   ]
  },
  {
   "cell_type": "code",
   "execution_count": 163,
   "id": "47525960",
   "metadata": {},
   "outputs": [
    {
     "data": {
      "text/plain": [
       "array([1, 0, 0, ..., 1, 0, 1])"
      ]
     },
     "execution_count": 163,
     "metadata": {},
     "output_type": "execute_result"
    }
   ],
   "source": [
    "ada_pred_out = ada_out.predict(X_test_out)\n",
    "ada_pred_out"
   ]
  },
  {
   "cell_type": "code",
   "execution_count": 164,
   "id": "f5f68b73",
   "metadata": {},
   "outputs": [
    {
     "data": {
      "text/plain": [
       "88.52516478725133"
      ]
     },
     "execution_count": 164,
     "metadata": {},
     "output_type": "execute_result"
    }
   ],
   "source": [
    "ada_out_accuraccy = ada_out.score(X_test_out, y_test_out)*100\n",
    "ada_out_accuraccy"
   ]
  },
  {
   "cell_type": "code",
   "execution_count": 165,
   "id": "209a7da6",
   "metadata": {},
   "outputs": [
    {
     "name": "stdout",
     "output_type": "stream",
     "text": [
      "[[53293  5293]\n",
      " [ 8129 50254]]\n"
     ]
    }
   ],
   "source": [
    "print(confusion_matrix(y_test_out, ada_pred_out))"
   ]
  },
  {
   "cell_type": "code",
   "execution_count": 166,
   "id": "265459eb",
   "metadata": {},
   "outputs": [
    {
     "name": "stdout",
     "output_type": "stream",
     "text": [
      "              precision    recall  f1-score   support\n",
      "\n",
      "           0       0.87      0.91      0.89     58586\n",
      "           1       0.90      0.86      0.88     58383\n",
      "\n",
      "    accuracy                           0.89    116969\n",
      "   macro avg       0.89      0.89      0.89    116969\n",
      "weighted avg       0.89      0.89      0.89    116969\n",
      "\n"
     ]
    }
   ],
   "source": [
    "ada_out_cr = print(classification_report(y_test_out, ada_pred_out))\n",
    "ada_out_cr"
   ]
  },
  {
   "cell_type": "code",
   "execution_count": 167,
   "id": "8d01369b",
   "metadata": {},
   "outputs": [],
   "source": [
    "ada_out_precision = precision_score(y_test_out,ada_pred_out)\n",
    "ada_out_recall = recall_score(y_test_out,ada_pred_out)\n",
    "ada_out_f1score = f1_score(y_test_out,ada_pred_out)"
   ]
  },
  {
   "cell_type": "code",
   "execution_count": 168,
   "id": "20b7ad2f",
   "metadata": {},
   "outputs": [
    {
     "data": {
      "image/png": "[encoded data removed]",
      "text/plain": [
       "<Figure size 432x288 with 1 Axes>"
      ]
     },
     "metadata": {
      "needs_background": "light"
     },
     "output_type": "display_data"
    }
   ],
   "source": [
    "ada_out_prob=ada_out.predict_proba(X_test_out)\n",
    "ada_out_df=pd.DataFrame(ada_out_prob)\n",
    "ada_out_fpr,ada_out_tpr,ada_out_threshold=roc_curve(y_test_out,ada_out_df.iloc[:,1])\n",
    "plt.plot(ada_out_fpr,ada_out_tpr)\n",
    "plt.title('ADA Boost After EDA')\n",
    "plt.xlabel('TPR')\n",
    "plt.ylabel('FPR')\n",
    "plt.show()"
   ]
  },
  {
   "cell_type": "markdown",
   "id": "7d5c9762",
   "metadata": {},
   "source": [
    "### 6. XG Boost"
   ]
  },
  {
   "cell_type": "code",
   "execution_count": 169,
   "id": "572075bf",
   "metadata": {},
   "outputs": [
    {
     "data": {
      "text/plain": [
       "XGBClassifier(base_score=None, booster=None, callbacks=None,\n",
       "              colsample_bylevel=None, colsample_bynode=None,\n",
       "              colsample_bytree=None, early_stopping_rounds=None,\n",
       "              enable_categorical=False, eval_metric=None, feature_types=None,\n",
       "              gamma=None, gpu_id=None, grow_policy=None, importance_type=None,\n",
       "              interaction_constraints=None, learning_rate=None, max_bin=None,\n",
       "              max_cat_threshold=None, max_cat_to_onehot=None,\n",
       "              max_delta_step=None, max_depth=None, max_leaves=None,\n",
       "              min_child_weight=None, missing=nan, monotone_constraints=None,\n",
       "              n_estimators=100, n_jobs=None, num_parallel_tree=None,\n",
       "              predictor=None, random_state=None, ...)"
      ]
     },
     "execution_count": 169,
     "metadata": {},
     "output_type": "execute_result"
    }
   ],
   "source": [
    "xgb_out=XGBClassifier()\n",
    "xgb_out.fit(X_train_out, y_train_out)"
   ]
  },
  {
   "cell_type": "code",
   "execution_count": 170,
   "id": "9ef4ffca",
   "metadata": {},
   "outputs": [
    {
     "data": {
      "text/plain": [
       "array([1, 0, 0, ..., 1, 0, 0])"
      ]
     },
     "execution_count": 170,
     "metadata": {},
     "output_type": "execute_result"
    }
   ],
   "source": [
    "xgb_pred_out = xgb_out.predict(X_test_out)\n",
    "xgb_pred_out"
   ]
  },
  {
   "cell_type": "code",
   "execution_count": 171,
   "id": "c9cde427",
   "metadata": {},
   "outputs": [
    {
     "data": {
      "text/plain": [
       "86.91106190529115"
      ]
     },
     "execution_count": 171,
     "metadata": {},
     "output_type": "execute_result"
    }
   ],
   "source": [
    "xgb_out_accuraccy = xgb_out.score(X_test_out, y_test_out)*100\n",
    "xgb_out_accuraccy"
   ]
  },
  {
   "cell_type": "code",
   "execution_count": 172,
   "id": "3bf60d09",
   "metadata": {},
   "outputs": [
    {
     "name": "stdout",
     "output_type": "stream",
     "text": [
      "[[51270  7316]\n",
      " [ 7994 50389]]\n"
     ]
    }
   ],
   "source": [
    "print(confusion_matrix(y_test_out, xgb_pred_out))"
   ]
  },
  {
   "cell_type": "code",
   "execution_count": 173,
   "id": "3d6c9c35",
   "metadata": {},
   "outputs": [
    {
     "name": "stdout",
     "output_type": "stream",
     "text": [
      "              precision    recall  f1-score   support\n",
      "\n",
      "           0       0.87      0.88      0.87     58586\n",
      "           1       0.87      0.86      0.87     58383\n",
      "\n",
      "    accuracy                           0.87    116969\n",
      "   macro avg       0.87      0.87      0.87    116969\n",
      "weighted avg       0.87      0.87      0.87    116969\n",
      "\n"
     ]
    }
   ],
   "source": [
    "xgb_out_cr = print(classification_report(y_test_out, xgb_pred_out))\n",
    "xgb_out_cr"
   ]
  },
  {
   "cell_type": "code",
   "execution_count": 174,
   "id": "d756850e",
   "metadata": {},
   "outputs": [],
   "source": [
    "xgb_out_precision = precision_score(y_test_out,xgb_pred_out)\n",
    "xgb_out_recall = recall_score(y_test_out,xgb_pred_out)\n",
    "xgb_out_f1score = f1_score(y_test_out,xgb_pred_out)"
   ]
  },
  {
   "cell_type": "code",
   "execution_count": 175,
   "id": "eb2a1261",
   "metadata": {},
   "outputs": [
    {
     "data": {
      "image/png": "[encoded data removed]",
      "text/plain": [
       "<Figure size 432x288 with 1 Axes>"
      ]
     },
     "metadata": {
      "needs_background": "light"
     },
     "output_type": "display_data"
    }
   ],
   "source": [
    "xgb_out_prob=xgb_out.predict_proba(X_test_out)\n",
    "xgb_out_df=pd.DataFrame(xgb_out_prob)\n",
    "xgb_out_fpr,xgb_out_tpr,xgb_out_threshold=roc_curve(y_test_out,xgb_out_df.iloc[:,1])\n",
    "plt.plot(xgb_out_fpr,xgb_out_tpr)\n",
    "plt.title('XG Boost After EDA')\n",
    "plt.xlabel('TPR')\n",
    "plt.ylabel('FPR')\n",
    "plt.show()"
   ]
  },
  {
   "cell_type": "markdown",
   "id": "cdda5d8e",
   "metadata": {},
   "source": [
    "### 7. SVM"
   ]
  },
  {
   "cell_type": "code",
   "execution_count": 176,
   "id": "42616331",
   "metadata": {},
   "outputs": [],
   "source": [
    "# svms_out = SVC()\n",
    "# svms_out.fit(X_train_out, y_train_out)"
   ]
  },
  {
   "cell_type": "code",
   "execution_count": 177,
   "id": "526dcecd",
   "metadata": {},
   "outputs": [],
   "source": [
    "# svms_pred_out = svms_out.predict(X_test_out)\n",
    "# svms_pred_out"
   ]
  },
  {
   "cell_type": "code",
   "execution_count": 178,
   "id": "b6b06a4a",
   "metadata": {},
   "outputs": [],
   "source": [
    "# svms_out_accuraccy = svms_out.score(X_test_out, y_test_out)*100\n",
    "# svms_out_accuraccy"
   ]
  },
  {
   "cell_type": "code",
   "execution_count": 179,
   "id": "858b7e21",
   "metadata": {},
   "outputs": [],
   "source": [
    "# print(confusion_matrix(y_test_out, svms_pred_out))"
   ]
  },
  {
   "cell_type": "code",
   "execution_count": 180,
   "id": "2baeaa6b",
   "metadata": {},
   "outputs": [],
   "source": [
    "# svms_out_cr = print(classification_report(y_test_out, svms_pred_out))\n",
    "# svms_out_cr"
   ]
  },
  {
   "cell_type": "code",
   "execution_count": 181,
   "id": "0bcf53c0",
   "metadata": {},
   "outputs": [],
   "source": [
    "# svms_out_precision = precision_score(y_test_out,svms_pred_out)\n",
    "# svms_out_recall = recall_score(y_test_out,svms_pred_out)\n",
    "# svms_out_f1score = f1_score(y_test_out,svms_pred_out)"
   ]
  },
  {
   "cell_type": "code",
   "execution_count": 182,
   "id": "e2dfbd99",
   "metadata": {},
   "outputs": [],
   "source": [
    "# svms_out_prob=svms_out.predict_proba(X_test_out)\n",
    "# svms_out_df=pd.DataFrame(svms_out_prob)\n",
    "# svms_out_fpr,svms_out_tpr,svms_out_threshold=roc_curve(y_test_out,svms_out_df.iloc[:,1])\n",
    "# plt.plot(svms_out_fpr,svms_out_tpr)\n",
    "# plt.title('SVM After EDA')\n",
    "# plt.xlabel('TPR')\n",
    "# plt.ylabel('FPR')\n",
    "# plt.show()"
   ]
  },
  {
   "cell_type": "markdown",
   "id": "d749cd34",
   "metadata": {},
   "source": [
    "### 8. KNN"
   ]
  },
  {
   "cell_type": "code",
   "execution_count": 183,
   "id": "cd4ea39d",
   "metadata": {},
   "outputs": [
    {
     "data": {
      "text/plain": [
       "KNeighborsClassifier()"
      ]
     },
     "execution_count": 183,
     "metadata": {},
     "output_type": "execute_result"
    }
   ],
   "source": [
    "knn_out = KNeighborsClassifier()\n",
    "knn_out.fit(X_train_out, y_train_out)"
   ]
  },
  {
   "cell_type": "code",
   "execution_count": 184,
   "id": "04a3fe19",
   "metadata": {},
   "outputs": [
    {
     "data": {
      "text/plain": [
       "array([1, 0, 0, ..., 1, 0, 1])"
      ]
     },
     "execution_count": 184,
     "metadata": {},
     "output_type": "execute_result"
    }
   ],
   "source": [
    "knn_pred_out = knn_out.predict(X_test_out)\n",
    "knn_pred_out"
   ]
  },
  {
   "cell_type": "code",
   "execution_count": 185,
   "id": "c052bba2",
   "metadata": {},
   "outputs": [
    {
     "data": {
      "text/plain": [
       "83.28275013037643"
      ]
     },
     "execution_count": 185,
     "metadata": {},
     "output_type": "execute_result"
    }
   ],
   "source": [
    "knn_out_accuraccy = knn_out.score(X_test_out, y_test_out)*100\n",
    "knn_out_accuraccy"
   ]
  },
  {
   "cell_type": "code",
   "execution_count": 186,
   "id": "8cf2f69b",
   "metadata": {},
   "outputs": [
    {
     "name": "stdout",
     "output_type": "stream",
     "text": [
      "[[44793 13793]\n",
      " [ 5761 52622]]\n"
     ]
    }
   ],
   "source": [
    "print(confusion_matrix(y_test_out, knn_pred_out))"
   ]
  },
  {
   "cell_type": "code",
   "execution_count": 187,
   "id": "1cedcca9",
   "metadata": {},
   "outputs": [
    {
     "name": "stdout",
     "output_type": "stream",
     "text": [
      "              precision    recall  f1-score   support\n",
      "\n",
      "           0       0.89      0.76      0.82     58586\n",
      "           1       0.79      0.90      0.84     58383\n",
      "\n",
      "    accuracy                           0.83    116969\n",
      "   macro avg       0.84      0.83      0.83    116969\n",
      "weighted avg       0.84      0.83      0.83    116969\n",
      "\n"
     ]
    }
   ],
   "source": [
    "knn_out_cr = print(classification_report(y_test_out, knn_pred_out))\n",
    "knn_out_cr"
   ]
  },
  {
   "cell_type": "code",
   "execution_count": 188,
   "id": "fcc90d91",
   "metadata": {},
   "outputs": [],
   "source": [
    "knn_out_precision = precision_score(y_test_out,knn_pred_out)\n",
    "knn_out_recall = recall_score(y_test_out,knn_pred_out)\n",
    "knn_out_f1score = f1_score(y_test_out,knn_pred_out)"
   ]
  },
  {
   "cell_type": "code",
   "execution_count": 189,
   "id": "51f7d48d",
   "metadata": {},
   "outputs": [
    {
     "data": {
      "image/png": "[encoded data removed]",
      "text/plain": [
       "<Figure size 432x288 with 1 Axes>"
      ]
     },
     "metadata": {
      "needs_background": "light"
     },
     "output_type": "display_data"
    }
   ],
   "source": [
    "knn_out_prob=knn_out.predict_proba(X_test_out)\n",
    "knn_out_df=pd.DataFrame(knn_out_prob)\n",
    "knn_out_fpr,knn_out_tpr,knn_out_threshold=roc_curve(y_test_out,knn_out_df.iloc[:,1])\n",
    "plt.plot(knn_out_fpr,knn_out_tpr)\n",
    "plt.title('KNN After EDA')\n",
    "plt.xlabel('TPR')\n",
    "plt.ylabel('FPR')\n",
    "plt.show()"
   ]
  },
  {
   "cell_type": "markdown",
   "id": "148c9bc2",
   "metadata": {},
   "source": [
    "# Conclusion"
   ]
  },
  {
   "cell_type": "code",
   "execution_count": 190,
   "id": "f456499a",
   "metadata": {},
   "outputs": [
    {
     "data": {
      "text/html": [
       "<div>\n",
       "<style scoped>\n",
       "    .dataframe tbody tr th:only-of-type {\n",
       "        vertical-align: middle;\n",
       "    }\n",
       "\n",
       "    .dataframe tbody tr th {\n",
       "        vertical-align: top;\n",
       "    }\n",
       "\n",
       "    .dataframe thead th {\n",
       "        text-align: right;\n",
       "    }\n",
       "</style>\n",
       "<table border=\"1\" class=\"dataframe\">\n",
       "  <thead>\n",
       "    <tr style=\"text-align: right;\">\n",
       "      <th></th>\n",
       "      <th>Model Name</th>\n",
       "      <th>Accuraccy</th>\n",
       "      <th>Precision</th>\n",
       "      <th>Recall</th>\n",
       "      <th>f1 - Score</th>\n",
       "    </tr>\n",
       "  </thead>\n",
       "  <tbody>\n",
       "    <tr>\n",
       "      <th>0</th>\n",
       "      <td>Logistic Regression</td>\n",
       "      <td>73.573340</td>\n",
       "      <td>0.720171</td>\n",
       "      <td>0.769573</td>\n",
       "      <td>0.744053</td>\n",
       "    </tr>\n",
       "    <tr>\n",
       "      <th>1</th>\n",
       "      <td>Decision Tree</td>\n",
       "      <td>87.457360</td>\n",
       "      <td>0.863891</td>\n",
       "      <td>0.888735</td>\n",
       "      <td>0.876137</td>\n",
       "    </tr>\n",
       "    <tr>\n",
       "      <th>2</th>\n",
       "      <td>Random Forest</td>\n",
       "      <td>90.866811</td>\n",
       "      <td>0.896114</td>\n",
       "      <td>0.924156</td>\n",
       "      <td>0.909919</td>\n",
       "    </tr>\n",
       "    <tr>\n",
       "      <th>3</th>\n",
       "      <td>Naive Bayes</td>\n",
       "      <td>68.159940</td>\n",
       "      <td>0.704528</td>\n",
       "      <td>0.623640</td>\n",
       "      <td>0.661621</td>\n",
       "    </tr>\n",
       "    <tr>\n",
       "      <th>4</th>\n",
       "      <td>Ada Boost</td>\n",
       "      <td>88.525165</td>\n",
       "      <td>0.904711</td>\n",
       "      <td>0.860764</td>\n",
       "      <td>0.882191</td>\n",
       "    </tr>\n",
       "    <tr>\n",
       "      <th>5</th>\n",
       "      <td>XG Boost</td>\n",
       "      <td>86.911062</td>\n",
       "      <td>0.873217</td>\n",
       "      <td>0.863077</td>\n",
       "      <td>0.868117</td>\n",
       "    </tr>\n",
       "    <tr>\n",
       "      <th>6</th>\n",
       "      <td>KNN</td>\n",
       "      <td>83.282750</td>\n",
       "      <td>0.792321</td>\n",
       "      <td>0.901324</td>\n",
       "      <td>0.843315</td>\n",
       "    </tr>\n",
       "  </tbody>\n",
       "</table>\n",
       "</div>"
      ],
      "text/plain": [
       "            Model Name  Accuraccy  Precision    Recall  f1 - Score\n",
       "0  Logistic Regression  73.573340   0.720171  0.769573    0.744053\n",
       "1        Decision Tree  87.457360   0.863891  0.888735    0.876137\n",
       "2        Random Forest  90.866811   0.896114  0.924156    0.909919\n",
       "3          Naive Bayes  68.159940   0.704528  0.623640    0.661621\n",
       "4            Ada Boost  88.525165   0.904711  0.860764    0.882191\n",
       "5             XG Boost  86.911062   0.873217  0.863077    0.868117\n",
       "6                  KNN  83.282750   0.792321  0.901324    0.843315"
      ]
     },
     "execution_count": 190,
     "metadata": {},
     "output_type": "execute_result"
    }
   ],
   "source": [
    "list_out_1 = ['Logistic Regression','Decision Tree','Random Forest','Naive Bayes','Ada Boost','XG Boost','KNN'] #'SVM',\n",
    "list_out_2 = [log_out_accuraccy, dt_out_accuraccy,rf_out_accuraccy, nb_out_accuraccy, ada_out_accuraccy, xgb_out_accuraccy, knn_out_accuraccy] #svms_out_accuraccy, \n",
    "list_out_precision = [log_out_precision, dt_out_precision, rf_out_precision, nb_out_precision, ada_out_precision, xgb_out_precision, knn_out_precision] #svms_out_precision, \n",
    "list_out_recall = [log_out_recall, dt_out_recall, rf_out_recall, nb_out_recall, ada_out_recall, xgb_out_recall, knn_out_recall] #svms_out_recall, \n",
    "list_out_f1score = [log_out_f1score, dt_out_f1score, rf_out_f1score, nb_out_f1score, ada_out_f1score, xgb_out_f1score, knn_out_f1score] #svms_out_f1score, \n",
    "df1 = pd.DataFrame({ 'Model Name':list_out_1, 'Accuraccy':list_out_2, 'Precision' : list_out_precision, 'Recall'  : list_out_recall, 'f1 - Score' : list_out_f1score})\n",
    "df1"
   ]
  },
  {
   "cell_type": "code",
   "execution_count": 191,
   "id": "ab793a49",
   "metadata": {},
   "outputs": [
    {
     "data": {
      "text/html": [
       "<div>\n",
       "<style scoped>\n",
       "    .dataframe tbody tr th:only-of-type {\n",
       "        vertical-align: middle;\n",
       "    }\n",
       "\n",
       "    .dataframe tbody tr th {\n",
       "        vertical-align: top;\n",
       "    }\n",
       "\n",
       "    .dataframe thead th {\n",
       "        text-align: right;\n",
       "    }\n",
       "</style>\n",
       "<table border=\"1\" class=\"dataframe\">\n",
       "  <thead>\n",
       "    <tr style=\"text-align: right;\">\n",
       "      <th></th>\n",
       "      <th>Model Name</th>\n",
       "      <th>Accuraccy</th>\n",
       "      <th>Precision</th>\n",
       "      <th>Recall</th>\n",
       "      <th>f1 - Score</th>\n",
       "    </tr>\n",
       "  </thead>\n",
       "  <tbody>\n",
       "    <tr>\n",
       "      <th>0</th>\n",
       "      <td>Logistic Regression</td>\n",
       "      <td>91.380416</td>\n",
       "      <td>0.532051</td>\n",
       "      <td>0.089359</td>\n",
       "      <td>0.153019</td>\n",
       "    </tr>\n",
       "    <tr>\n",
       "      <th>1</th>\n",
       "      <td>Decision Tree</td>\n",
       "      <td>86.413171</td>\n",
       "      <td>0.241499</td>\n",
       "      <td>0.261260</td>\n",
       "      <td>0.250991</td>\n",
       "    </tr>\n",
       "    <tr>\n",
       "      <th>2</th>\n",
       "      <td>Random Forest</td>\n",
       "      <td>90.539252</td>\n",
       "      <td>0.367370</td>\n",
       "      <td>0.118787</td>\n",
       "      <td>0.179525</td>\n",
       "    </tr>\n",
       "    <tr>\n",
       "      <th>3</th>\n",
       "      <td>Naive Bayes</td>\n",
       "      <td>83.849028</td>\n",
       "      <td>0.217081</td>\n",
       "      <td>0.327472</td>\n",
       "      <td>0.261087</td>\n",
       "    </tr>\n",
       "    <tr>\n",
       "      <th>4</th>\n",
       "      <td>Ada Boost</td>\n",
       "      <td>89.118029</td>\n",
       "      <td>0.277225</td>\n",
       "      <td>0.154854</td>\n",
       "      <td>0.198711</td>\n",
       "    </tr>\n",
       "    <tr>\n",
       "      <th>5</th>\n",
       "      <td>XG Boost</td>\n",
       "      <td>91.446083</td>\n",
       "      <td>0.553797</td>\n",
       "      <td>0.094204</td>\n",
       "      <td>0.161018</td>\n",
       "    </tr>\n",
       "    <tr>\n",
       "      <th>6</th>\n",
       "      <td>KNN</td>\n",
       "      <td>90.600228</td>\n",
       "      <td>0.345965</td>\n",
       "      <td>0.088462</td>\n",
       "      <td>0.140897</td>\n",
       "    </tr>\n",
       "  </tbody>\n",
       "</table>\n",
       "</div>"
      ],
      "text/plain": [
       "            Model Name  Accuraccy  Precision    Recall  f1 - Score\n",
       "0  Logistic Regression  91.380416   0.532051  0.089359    0.153019\n",
       "1        Decision Tree  86.413171   0.241499  0.261260    0.250991\n",
       "2        Random Forest  90.539252   0.367370  0.118787    0.179525\n",
       "3          Naive Bayes  83.849028   0.217081  0.327472    0.261087\n",
       "4            Ada Boost  89.118029   0.277225  0.154854    0.198711\n",
       "5             XG Boost  91.446083   0.553797  0.094204    0.161018\n",
       "6                  KNN  90.600228   0.345965  0.088462    0.140897"
      ]
     },
     "execution_count": 191,
     "metadata": {},
     "output_type": "execute_result"
    }
   ],
   "source": [
    "df # this is before eda"
   ]
  },
  {
   "cell_type": "markdown",
   "id": "bb066185",
   "metadata": {},
   "source": [
    "# Graphical Representation Of Output"
   ]
  },
  {
   "cell_type": "code",
   "execution_count": 192,
   "id": "72506316",
   "metadata": {},
   "outputs": [
    {
     "data": {
      "image/png": "[encoded data removed]",
      "text/plain": [
       "<Figure size 1152x648 with 2 Axes>"
      ]
     },
     "metadata": {
      "needs_background": "light"
     },
     "output_type": "display_data"
    }
   ],
   "source": [
    "plt.figure(figsize=(16,9))\n",
    "plt.subplot(121)\n",
    "plt.plot(rf_fpr,rf_tpr)\n",
    "plt.title('Random Forest Before EDA', fontsize=25)\n",
    "plt.xlabel('TPR')\n",
    "plt.ylabel('FPR')\n",
    "\n",
    "plt.subplot(122)\n",
    "plt.plot(rf_out_fpr,rf_out_tpr)\n",
    "plt.title('Random Forest After EDA', fontsize=25)\n",
    "plt.xlabel('TPR')\n",
    "plt.ylabel('FPR')\n",
    "\n",
    "plt.show()"
   ]
  },
  {
   "cell_type": "raw",
   "id": "ce1d3042",
   "metadata": {},
   "source": [
    "If we concider accuracy then \"Random Forest\" is the best fitted Model with 90.76% accuracy with Precision (0: 0.92; 1: 0.90) Recall (0: 0.89; 1: 0.92) and f1-score (0: 0.91; 1: 0.91). \n",
    "The classification report of Random Forest is also good.\n",
    "So, By comparing df1 and df Random Forest is the best Fitted Model with 90.76% accuracy."
   ]
  },
  {
   "cell_type": "markdown",
   "id": "4b283278",
   "metadata": {},
   "source": [
    "# Cross Validation"
   ]
  },
  {
   "cell_type": "code",
   "execution_count": 198,
   "id": "09bc1671",
   "metadata": {},
   "outputs": [],
   "source": [
    "from sklearn.model_selection import cross_val_score\n",
    "from sklearn.model_selection import KFold\n",
    "kf = KFold(n_splits=5)\n",
    "score = cross_val_score(rf_out, X_af_Out, y_af_Out, cv = kf)"
   ]
  },
  {
   "cell_type": "code",
   "execution_count": 200,
   "id": "016d2aa1",
   "metadata": {},
   "outputs": [
    {
     "name": "stdout",
     "output_type": "stream",
     "text": [
      "Cross validation scores are: [0.84558302 0.85178979 0.88856877 0.92261197 0.92299603]\n",
      "Average cross validation score of RF: 0.8863099162958272\n"
     ]
    }
   ],
   "source": [
    "print(\"Cross validation scores are: {}\".format(score))\n",
    "print(\"Average cross validation score of RF: {}\".format(score.mean()))"
   ]
  },
  {
   "cell_type": "code",
   "execution_count": null,
   "id": "ed14a2c5",
   "metadata": {},
   "outputs": [],
   "source": []
  }
 ],
 "metadata": {
  "kernelspec": {
   "display_name": "Python 3 (ipykernel)",
   "language": "python",
   "name": "python3"
  },
  "language_info": {
   "codemirror_mode": {
    "name": "ipython",
    "version": 3
   },
   "file_extension": ".py",
   "mimetype": "text/x-python",
   "name": "python",
   "nbconvert_exporter": "python",
   "pygments_lexer": "ipython3",
   "version": "3.9.12"
  }
 },
 "nbformat": 4,
 "nbformat_minor": 5
}
